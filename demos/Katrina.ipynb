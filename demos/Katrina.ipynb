{
 "cells": [
  {
   "cell_type": "markdown",
   "metadata": {},
   "source": [
    "### Image Segmentation for Weather Forecasting\n",
    "\n",
    "[Image segmentation is an important step in weather forecasting](http://goo.gl/Ytem38),\n",
    "and should be performed on many high definition images on a daily basis. In such a use-case,interactive GPU programming would allow the applications designer to leverage powerful graphics processing on the GPU with little or no code changes from his original prototype. The application used the K-means algorithm which can easily be expressed in Julia and accelerated by ArrayFire.\n",
    "It initializes some random clusters\n",
    "and then reassigns the clusters according to Manhattan distances."
   ]
  },
  {
   "cell_type": "code",
   "execution_count": 1,
   "metadata": {
    "collapsed": false
   },
   "outputs": [],
   "source": [
    "using ArrayFire\n",
    "using Images"
   ]
  },
  {
   "cell_type": "code",
   "execution_count": 2,
   "metadata": {
    "collapsed": false
   },
   "outputs": [
    {
     "data": {
      "text/plain": [
       "kmeans (generic function with 2 methods)"
      ]
     },
     "execution_count": 2,
     "metadata": {},
     "output_type": "execute_result"
    }
   ],
   "source": [
    "function kmeans(in::AFArray, k::Integer, image::AbstractString, img::AFArray, iter::Integer = 10)\n",
    "\n",
    "    n = size(in, 1)\n",
    "    d = size(in, 3)\n",
    "\n",
    "    data = in * 0\n",
    "    mini = minimum(in, 1)\n",
    "    maxi = maximum(in, 1)\n",
    "\n",
    "    mini  = reshape(mini, 1, 1, d)\n",
    "    maxi  = reshape(maxi, 1, 1, d)\n",
    "    data  = (in - mini) ./ maxi\n",
    "\n",
    "    means = rand(AFArray{Float32}, 1, k, d)\n",
    "    curr_clusters = constant(0, size(data, 1)) - 1\n",
    "    prev_clusters = constant(0, size(data, 1)) - 1\n",
    "\n",
    "    for i = 1:iter\n",
    "        prev_clusters = curr_clusters\n",
    "        curr_clusters = clusterize(data, means)\n",
    "        num_changed = countnz(prev_clusters .!= curr_clusters)\n",
    "        if num_changed < (n/1000) + 1\n",
    "            break\n",
    "        end\n",
    "        means = new_means(data, curr_clusters, k)\n",
    "        @show i\n",
    "    end\n",
    "\n",
    "    means = maxi .* means + mini\n",
    "    clusters = prev_clusters\n",
    "\n",
    "    means, clusters\n",
    "end\n"
   ]
  },
  {
   "cell_type": "code",
   "execution_count": 3,
   "metadata": {
    "collapsed": false
   },
   "outputs": [
    {
     "data": {
      "text/plain": [
       "clusterize (generic function with 1 method)"
      ]
     },
     "execution_count": 3,
     "metadata": {},
     "output_type": "execute_result"
    }
   ],
   "source": [
    "function clusterize(data::AFArray, means::AFArray)\n",
    "    dists = distance(data, means)\n",
    "    val, idx = minidx(dists, 2)\n",
    "    idx\n",
    "end"
   ]
  },
  {
   "cell_type": "code",
   "execution_count": 4,
   "metadata": {
    "collapsed": false
   },
   "outputs": [
    {
     "data": {
      "text/plain": [
       "distance (generic function with 1 method)"
      ]
     },
     "execution_count": 4,
     "metadata": {},
     "output_type": "execute_result"
    }
   ],
   "source": [
    "function distance(data::AFArray, means::AFArray)\n",
    "    n = size(data, 1)\n",
    "    k = size(means, 2)\n",
    "    data2 = repeat(data, outer = [1,k,1])\n",
    "    means2 = repeat(means, outer = [n,1,1])\n",
    "    sum(abs(data2 - means2), 3)\n",
    "end"
   ]
  },
  {
   "cell_type": "code",
   "execution_count": 5,
   "metadata": {
    "collapsed": false
   },
   "outputs": [
    {
     "data": {
      "text/plain": [
       "new_means (generic function with 1 method)"
      ]
     },
     "execution_count": 5,
     "metadata": {},
     "output_type": "execute_result"
    }
   ],
   "source": [
    "function new_means(data::AFArray, clusters, k::Integer)\n",
    "    d = size(data, 3)\n",
    "    means = constant(0.0f0, 1, k, d)\n",
    "    clustersd = repeat(clusters, outer = [1, 1, d])\n",
    "    for i = 1:size(means,2)\n",
    "        means[:, i, :] = sum(data .* (clusters .== i), 1) ./ (sum(clusters .== i, 1) + Float32(1e-5))\n",
    "    end\n",
    "    means\n",
    "end"
   ]
  },
  {
   "cell_type": "code",
   "execution_count": 8,
   "metadata": {
    "collapsed": false
   },
   "outputs": [
    {
     "data": {
      "text/plain": [
       "driver (generic function with 1 method)"
      ]
     },
     "execution_count": 8,
     "metadata": {},
     "output_type": "execute_result"
    }
   ],
   "source": [
    "function driver(path::AbstractString)\n",
    "    i = 1\n",
    "    img = loadImage(\"$path/$i.jpg\", color = true)\n",
    "    img = scale(img, 0.5, 0.5)\n",
    "    println(\"Loaded $i.img\")\n",
    "    w = size(img, 1)\n",
    "    h = size(img, 2)\n",
    "    c = size(img, 3)\n",
    "    vec = reshape(img, w*h, 1, c)\n",
    "    meansfull, clustersfull = kmeans(vec, 6, \"i.jpg\", img)\n",
    "    gc()\n",
    "    m = Array(meansfull)\n",
    "    c = Array(clustersfull)\n",
    "    out_img = reshape(m[:,c,:], size(img)...) / 255\n",
    "    convert(Image, out_img)\n",
    "end"
   ]
  },
  {
   "cell_type": "code",
   "execution_count": 9,
   "metadata": {
    "collapsed": false
   },
   "outputs": [
    {
     "name": "stdout",
     "output_type": "stream",
     "text": [
      "Loaded 1.img\n",
      "i = 1\n",
      "i = 2\n",
      "i = 3\n",
      "i = 4\n",
      "i = 5\n",
      "i = 6\n",
      "i = 7\n",
      "i = 8\n",
      "i = 9\n"
     ]
    },
    {
     "ename": "LoadError",
     "evalue": "LoadError: \"ArrayFire Error (101) : Device out of memory\"\nwhile loading In[9], in expression starting on line 1",
     "output_type": "error",
     "traceback": [
      "LoadError: \"ArrayFire Error (101) : Device out of memory\"\nwhile loading In[9], in expression starting on line 1",
      "",
      " in af_sum at /home/ubuntu/.julia/v0.4/ArrayFire/src/wrap.jl:8",
      " in sum at /home/ubuntu/.julia/v0.4/ArrayFire/src/vector.jl:71",
      " in distance at In[4]:6",
      " in clusterize at In[3]:2",
      " in kmeans at In[2]:20",
      " in kmeans at In[2]:3",
      " in driver at In[8]:10"
     ]
    }
   ],
   "source": [
    "driver(\"/home/ubuntu/demo/\")"
   ]
  },
  {
   "cell_type": "code",
   "execution_count": null,
   "metadata": {
    "collapsed": true
   },
   "outputs": [],
   "source": []
  }
 ],
 "metadata": {
  "kernelspec": {
   "display_name": "Julia 0.4.5",
   "language": "julia",
   "name": "julia-0.4"
  },
  "language_info": {
   "file_extension": ".jl",
   "mimetype": "application/julia",
   "name": "julia",
   "version": "0.4.5"
  }
 },
 "nbformat": 4,
 "nbformat_minor": 0
}
