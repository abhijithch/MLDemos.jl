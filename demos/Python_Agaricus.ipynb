{
 "cells": [
  {
   "cell_type": "code",
   "execution_count": 1,
   "metadata": {
    "collapsed": true
   },
   "outputs": [],
   "source": [
    "import numpy as np\n",
    "import scipy.sparse\n",
    "import pickle\n",
    "import xgboost as xgb\n",
    "import time"
   ]
  },
  {
   "cell_type": "code",
   "execution_count": 7,
   "metadata": {
    "collapsed": false
   },
   "outputs": [
    {
     "name": "stdout",
     "output_type": "stream",
     "text": [
      "\u001b[0m\u001b[01;35mACE2.jpg\u001b[0m  \u001b[01;35mAgaricus_californicus(P).jpg\u001b[0m            agaricus.txt.test\r\n",
      "\u001b[01;35mACE.jpg\u001b[0m   \u001b[01;35mAgaricus campestris 1 Michael Beug.jpg\u001b[0m  agaricus.txt.train\r\n",
      "\u001b[01;35mACP.jpg\u001b[0m   \u001b[01;35mAgaricus_campestris(E).jpg\u001b[0m              \u001b[01;35mAgaricus_xanthoderma(P).jpg\u001b[0m\r\n"
     ]
    }
   ],
   "source": [
    "ls ../data/mushroom/"
   ]
  },
  {
   "cell_type": "code",
   "execution_count": 2,
   "metadata": {
    "collapsed": false
   },
   "outputs": [],
   "source": [
    "dtrain = xgb.DMatrix('../data/mushroom/agaricus.txt.train')\n",
    "dtest = xgb.DMatrix('../data/mushroom/agaricus.txt.test')"
   ]
  },
  {
   "cell_type": "code",
   "execution_count": 3,
   "metadata": {
    "collapsed": true
   },
   "outputs": [],
   "source": [
    "param = {'max_depth':2, 'eta':1, 'silent':1, 'objective':'binary:logistic' }"
   ]
  },
  {
   "cell_type": "code",
   "execution_count": 6,
   "metadata": {
    "collapsed": false
   },
   "outputs": [
    {
     "name": "stdout",
     "output_type": "stream",
     "text": [
      "0.019947\n"
     ]
    },
    {
     "name": "stderr",
     "output_type": "stream",
     "text": [
      "[0]\teval-error:0.042831\ttrain-error:0.046522\n",
      "[1]\teval-error:0.021726\ttrain-error:0.022263\n"
     ]
    }
   ],
   "source": [
    "watchlist  = [(dtest,'eval'), (dtrain,'train')]\n",
    "num_round = 2\n",
    "start = time.clock()\n",
    "bst =xgb.train(param, dtrain, num_round, watchlist)\n",
    "print time.clock() - start"
   ]
  },
  {
   "cell_type": "code",
   "execution_count": 7,
   "metadata": {
    "collapsed": true
   },
   "outputs": [],
   "source": [
    "preds = bst.predict(dtest)"
   ]
  },
  {
   "cell_type": "code",
   "execution_count": 8,
   "metadata": {
    "collapsed": false
   },
   "outputs": [
    {
     "data": {
      "text/plain": [
       "array([ 0.28583017,  0.92392391,  0.28583017, ...,  0.92392391,\n",
       "        0.05169873,  0.92392391], dtype=float32)"
      ]
     },
     "execution_count": 8,
     "metadata": {},
     "output_type": "execute_result"
    }
   ],
   "source": [
    "preds"
   ]
  },
  {
   "cell_type": "code",
   "execution_count": null,
   "metadata": {
    "collapsed": true
   },
   "outputs": [],
   "source": []
  }
 ],
 "metadata": {
  "kernelspec": {
   "display_name": "Python 2",
   "language": "python",
   "name": "python2"
  },
  "language_info": {
   "codemirror_mode": {
    "name": "ipython",
    "version": 2
   },
   "file_extension": ".py",
   "mimetype": "text/x-python",
   "name": "python",
   "nbconvert_exporter": "python",
   "pygments_lexer": "ipython2",
   "version": "2.7.11"
  }
 },
 "nbformat": 4,
 "nbformat_minor": 0
}
