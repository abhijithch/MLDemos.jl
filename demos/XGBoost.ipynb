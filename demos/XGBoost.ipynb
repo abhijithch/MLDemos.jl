{
 "cells": [
  {
   "cell_type": "markdown",
   "metadata": {},
   "source": [
    "# XGBoost.jl - quickest ways to win data science competitions"
   ]
  },
  {
   "cell_type": "markdown",
   "metadata": {},
   "source": [
    "Here is an example of how a single non-ensembled model can achieve high ranking scores using XGBoost, which is an optimized distributed gradient boosting library designed to be highly efficient, flexible and portable."
   ]
  },
  {
   "cell_type": "markdown",
   "metadata": {},
   "source": [
    "## Highlights of XGBoost\n",
    "\n",
    "*  ### Distributed on Cloud\n",
    "  Supports distributed training on multiple machines, including AWS, GCE, Azure, and Yarn clusters. Can be integrated with Flink, Spark and other cloud dataflow systems.\n",
    "* ### Battle-tested\n",
    "  Wins many data science and machine learning challenges. Used in production by multiple companies.\n",
    "* ### Flexible\n",
    "  Supports regression, classification, ranking and user defined objectives."
   ]
  },
  {
   "cell_type": "markdown",
   "metadata": {},
   "source": [
    "### Distinguishing poisonous vs edible mushrooms"
   ]
  },
  {
   "cell_type": "markdown",
   "metadata": {},
   "source": [
    "Based on 8142 instances and 22 attributes like, odor, habitat, color, etc, we can easily and accurately classify mushrooms as poisonous or edible and in few cases of unknown edibility and hence not recommended. \n",
    "\n",
    "The Agaricus genus contains the most widely consumed and best-known mushroom today, but there are poisonous ones among them as well. The dataset consists of 8142 observations of Agaricus and Lepiota Family, this is a multivariate dataset with 22 characteristic attributes and classified into 2 classes, edible and poisonous.\n",
    "\n",
    "![Agaricus californicus](ACP.jpg) ![Agaricus campestris](ACE2.jpg)"
   ]
  },
  {
   "cell_type": "code",
   "execution_count": 26,
   "metadata": {
    "collapsed": false
   },
   "outputs": [
    {
     "name": "stderr",
     "output_type": "stream",
     "text": [
      "WARNING: Method definition read!(AbstractString, Any) in module Compat at /home/abhijithc/.julia/v0.4/Compat/src/Compat.jl:959 overwritten in module Compat at /home/abhijithc/.julia/v0.4/Compat/src/Compat.jl:959.\n",
      "WARNING: Method definition write(Main.Base.IO, Main.Base.IO) in module Compat at /home/abhijithc/.julia/v0.4/Compat/src/Compat.jl:967 overwritten in module Compat at /home/abhijithc/.julia/v0.4/Compat/src/Compat.jl:967.\n",
      "WARNING: Method definition write(AbstractString, Any...) in module Compat at /home/abhijithc/.julia/v0.4/Compat/src/Compat.jl:956 overwritten in module Compat at /home/abhijithc/.julia/v0.4/Compat/src/Compat.jl:956.\n",
      "WARNING: Method definition readuntil(AbstractString, Any...) in module Compat at /home/abhijithc/.julia/v0.4/Compat/src/Compat.jl:960 overwritten in module Compat at /home/abhijithc/.julia/v0.4/Compat/src/Compat.jl:960.\n",
      "WARNING: Method definition remote_do(Function, Main.Base.LocalProcess, Any...) in module Compat at /home/abhijithc/.julia/v0.4/Compat/src/Compat.jl:880 overwritten in module Compat at /home/abhijithc/.julia/v0.4/Compat/src/Compat.jl:880.\n",
      "WARNING: Method definition remote_do(Function, Main.Base.Worker, Any...) in module Compat at /home/abhijithc/.julia/v0.4/Compat/src/Compat.jl:881 overwritten in module Compat at /home/abhijithc/.julia/v0.4/Compat/src/Compat.jl:881.\n",
      "WARNING: Method definition remote_do(Function, Integer, Any...) in module Compat at /home/abhijithc/.julia/v0.4/Compat/src/Compat.jl:882 overwritten in module Compat at /home/abhijithc/.julia/v0.4/Compat/src/Compat.jl:882.\n",
      "WARNING: Method definition cor(AbstractArray{T<:Any, 2}, AbstractArray{T<:Any, 2}, Integer) in module Compat at /home/abhijithc/.julia/v0.4/Compat/src/Compat.jl:946 overwritten in module Compat at /home/abhijithc/.julia/v0.4/Compat/src/Compat.jl:946.\n",
      "WARNING: Method definition cor(AbstractArray{T<:Any, 2}, Integer) in module Compat at /home/abhijithc/.julia/v0.4/Compat/src/Compat.jl:945 overwritten in module Compat at /home/abhijithc/.julia/v0.4/Compat/src/Compat.jl:945.\n",
      "WARNING: Method definition readline(AbstractString) in module Compat at /home/abhijithc/.julia/v0.4/Compat/src/Compat.jl:961 overwritten in module Compat at /home/abhijithc/.julia/v0.4/Compat/src/Compat.jl:961.\n",
      "WARNING: Method definition call(Type{Union{UTF8String, ASCIIString}}, Main.Base.Cstring) in module Compat at /home/abhijithc/.julia/v0.4/Compat/src/Compat.jl:32 overwritten in module Compat at /home/abhijithc/.julia/v0.4/Compat/src/Compat.jl:32.\n",
      "WARNING: Method definition call(Type{Union{UTF8String, ASCIIString}}, Array{UInt8, 1}) in module Compat at /home/abhijithc/.julia/v0.4/Compat/src/Compat.jl:33 overwritten in module Compat at /home/abhijithc/.julia/v0.4/Compat/src/Compat.jl:33.\n",
      "WARNING: Method definition call(Type{Union{UTF8String, ASCIIString}}, Main.Base.AbstractIOBuffer{T<:AbstractArray{UInt8, 1}}) in module Compat at /home/abhijithc/.julia/v0.4/Compat/src/Compat.jl:34 overwritten in module Compat at /home/abhijithc/.julia/v0.4/Compat/src/Compat.jl:34.\n",
      "WARNING: Method definition call(Type{Union{UTF8String, ASCIIString}}, Union{Ptr{UInt8}, Ptr{Int8}}) in module Compat at /home/abhijithc/.julia/v0.4/Compat/src/Compat.jl:35 overwritten in module Compat at /home/abhijithc/.julia/v0.4/Compat/src/Compat.jl:35.\n",
      "WARNING: Method definition call(Type{Union{UTF8String, ASCIIString}}, Union{Ptr{UInt8}, Ptr{Int8}}, Integer) in module Compat at /home/abhijithc/.julia/v0.4/Compat/src/Compat.jl:36 overwritten in module Compat at /home/abhijithc/.julia/v0.4/Compat/src/Compat.jl:36.\n",
      "WARNING: Method definition call(Type{Union{UTF8String, ASCIIString}}, AbstractString) in module Compat at /home/abhijithc/.julia/v0.4/Compat/src/Compat.jl:37 overwritten in module Compat at /home/abhijithc/.julia/v0.4/Compat/src/Compat.jl:37.\n",
      "WARNING: Method definition call(Type{Symbol}, Any...) in module Compat at /home/abhijithc/.julia/v0.4/Compat/src/Compat.jl:456 overwritten in module Compat at /home/abhijithc/.julia/v0.4/Compat/src/Compat.jl:456.\n",
      "WARNING: Method definition remotecall(Function, Main.Base.LocalProcess, Any...) in module Compat at /home/abhijithc/.julia/v0.4/Compat/src/Compat.jl:880 overwritten in module Compat at /home/abhijithc/.julia/v0.4/Compat/src/Compat.jl:880.\n",
      "WARNING: Method definition remotecall(Function, Main.Base.Worker, Any...) in module Compat at /home/abhijithc/.julia/v0.4/Compat/src/Compat.jl:881 overwritten in module Compat at /home/abhijithc/.julia/v0.4/Compat/src/Compat.jl:881.\n",
      "WARNING: Method definition remotecall(Function, Integer, Any...) in module Compat at /home/abhijithc/.julia/v0.4/Compat/src/Compat.jl:882 overwritten in module Compat at /home/abhijithc/.julia/v0.4/Compat/src/Compat.jl:882.\n",
      "WARNING: Method definition precision(Type{Main.Base.MPFR.BigFloat}) in module Compat at /home/abhijithc/.julia/v0.4/Compat/src/Compat.jl:1004 overwritten in module Compat at /home/abhijithc/.julia/v0.4/Compat/src/Compat.jl:1004.\n",
      "WARNING: Method definition eachline(AbstractString) in module Compat at /home/abhijithc/.julia/v0.4/Compat/src/Compat.jl:973 overwritten in module Compat at /home/abhijithc/.julia/v0.4/Compat/src/Compat.jl:973.\n",
      "WARNING: Method definition read(Main.Base.IO) in module Compat at /home/abhijithc/.julia/v0.4/Compat/src/Compat.jl:953 overwritten in module Compat at /home/abhijithc/.julia/v0.4/Compat/src/Compat.jl:953.\n",
      "WARNING: Method definition read(Main.Base.IO, Any) in module Compat at /home/abhijithc/.julia/v0.4/Compat/src/Compat.jl:954 overwritten in module Compat at /home/abhijithc/.julia/v0.4/Compat/src/Compat.jl:954.\n",
      "WARNING: Method definition read(AbstractString, Any...) in module Compat at /home/abhijithc/.julia/v0.4/Compat/src/Compat.jl:958 overwritten in module Compat at /home/abhijithc/.julia/v0.4/Compat/src/Compat.jl:958.\n",
      "WARNING: Method definition cov(AbstractArray{T<:Any, 1}, AbstractArray{T<:Any, 1}, Bool) in module Compat at /home/abhijithc/.julia/v0.4/Compat/src/Compat.jl:941 overwritten in module Compat at /home/abhijithc/.julia/v0.4/Compat/src/Compat.jl:941.\n",
      "WARNING: Method definition cov(AbstractArray{T<:Any, 2}, AbstractArray{T<:Any, 2}, Integer) in module Compat at /home/abhijithc/.julia/v0.4/Compat/src/Compat.jl:942 overwritten in module Compat at /home/abhijithc/.julia/v0.4/Compat/src/Compat.jl:942.\n",
      "WARNING: Method definition cov(AbstractArray{T<:Any, 2}, AbstractArray{T<:Any, 2}, Integer, Bool) in module Compat at /home/abhijithc/.julia/v0.4/Compat/src/Compat.jl:943 overwritten in module Compat at /home/abhijithc/.julia/v0.4/Compat/src/Compat.jl:943.\n",
      "WARNING: Method definition cov(AbstractArray{T<:Any, 1}, Bool) in module Compat at /home/abhijithc/.julia/v0.4/Compat/src/Compat.jl:938 overwritten in module Compat at /home/abhijithc/.julia/v0.4/Compat/src/Compat.jl:938.\n",
      "WARNING: Method definition cov(AbstractArray{T<:Any, 2}, Integer) in module Compat at /home/abhijithc/.julia/v0.4/Compat/src/Compat.jl:939 overwritten in module Compat at /home/abhijithc/.julia/v0.4/Compat/src/Compat.jl:939.\n",
      "WARNING: Method definition cov(AbstractArray{T<:Any, 2}, Integer, Bool) in module Compat at /home/abhijithc/.julia/v0.4/Compat/src/Compat.jl:940 overwritten in module Compat at /home/abhijithc/.julia/v0.4/Compat/src/Compat.jl:940.\n",
      "WARNING: Method definition readavailable(Main.Base.IOStream) in module Compat at /home/abhijithc/.julia/v0.4/Compat/src/Compat.jl:963 overwritten in module Compat at /home/abhijithc/.julia/v0.4/Compat/src/Compat.jl:963.\n",
      "WARNING: Method definition readavailable(Main.Base.AbstractIOBuffer{Array{UInt8, 1}}) in module Compat at /home/abhijithc/.julia/v0.4/Compat/src/Compat.jl:964 overwritten in module Compat at /home/abhijithc/.julia/v0.4/Compat/src/Compat.jl:964.\n",
      "WARNING: Method definition remotecall_fetch(Function, Main.Base.LocalProcess, Any...) in module Compat at /home/abhijithc/.julia/v0.4/Compat/src/Compat.jl:880 overwritten in module Compat at /home/abhijithc/.julia/v0.4/Compat/src/Compat.jl:880.\n",
      "WARNING: Method definition remotecall_fetch(Function, Main.Base.Worker, Any...) in module Compat at /home/abhijithc/.julia/v0.4/Compat/src/Compat.jl:881 overwritten in module Compat at /home/abhijithc/.julia/v0.4/Compat/src/Compat.jl:881.\n",
      "WARNING: Method definition remotecall_fetch(Function, Integer, Any...) in module Compat at /home/abhijithc/.julia/v0.4/Compat/src/Compat.jl:882 overwritten in module Compat at /home/abhijithc/.julia/v0.4/Compat/src/Compat.jl:882.\n",
      "WARNING: Method definition remotecall_wait(Function, Main.Base.LocalProcess, Any...) in module Compat at /home/abhijithc/.julia/v0.4/Compat/src/Compat.jl:880 overwritten in module Compat at /home/abhijithc/.julia/v0.4/Compat/src/Compat.jl:880.\n",
      "WARNING: Method definition remotecall_wait(Function, Main.Base.Worker, Any...) in module Compat at /home/abhijithc/.julia/v0.4/Compat/src/Compat.jl:881 overwritten in module Compat at /home/abhijithc/.julia/v0.4/Compat/src/Compat.jl:881.\n",
      "WARNING: Method definition remotecall_wait(Function, Integer, Any...) in module Compat at /home/abhijithc/.julia/v0.4/Compat/src/Compat.jl:882 overwritten in module Compat at /home/abhijithc/.julia/v0.4/Compat/src/Compat.jl:882.\n",
      "WARNING: Method definition readlines(AbstractString) in module Compat at /home/abhijithc/.julia/v0.4/Compat/src/Compat.jl:962 overwritten in module Compat at /home/abhijithc/.julia/v0.4/Compat/src/Compat.jl:962.\n"
     ]
    }
   ],
   "source": [
    "using XGBoost\n",
    "include(\"$(Pkg.dir())/MLDemos/src/xgboost/mushroom.jl\")\n",
    "path = \"$(Pkg.dir())/MLDemos/\";"
   ]
  },
  {
   "cell_type": "markdown",
   "metadata": {},
   "source": [
    "#### We use auxiliary function to read LIBSVM format into julia Matrix.\n",
    "\n",
    "Each line represent a single instance, and in the first line '1' is the instance label,'101' and '102' are feature indices, '1.2' and '0.03' are feature values.\n",
    "\n",
    "Ex. :\n",
    "\n",
    "1 2:1 9:1 10:1 20:1 29:1 33:1 35:1 39:1 40:1 52:1 57:1 64:1 68:1 76:1 85:1 87:1 91:1 94:1 101:1 104:1 116:1 123:1\n",
    "\n",
    "0 2:1 9:1 19:1 20:1 22:1 33:1 35:1 38:1 40:1 52:1 55:1 64:1 68:1 76:1 85:1 87:1 91:1 94:1 101:1 105:1 115:1 119:1"
   ]
  },
  {
   "cell_type": "code",
   "execution_count": 27,
   "metadata": {
    "collapsed": false
   },
   "outputs": [],
   "source": [
    "train_X, train_Y = readlibsvm(\"$(path)data/mushroom/agaricus.txt.train\", (6513, 126));\n",
    "test_X, test_Y = readlibsvm(\"$(path)data/mushroom/agaricus.txt.test\", (1611, 126));"
   ]
  },
  {
   "cell_type": "markdown",
   "metadata": {},
   "source": [
    "#### Basic training using XGBoost :\n",
    "You can directly pass julia's matrix as data,"
   ]
  },
  {
   "cell_type": "code",
   "execution_count": 3,
   "metadata": {
    "collapsed": false
   },
   "outputs": [
    {
     "name": "stdout",
     "output_type": "stream",
     "text": [
      "training xgboost with dense matrix\n"
     ]
    },
    {
     "name": "stderr",
     "output_type": "stream",
     "text": [
      "[1]\ttrain-error:0.046522\n",
      "[2]\ttrain-error:0.022263\n"
     ]
    },
    {
     "name": "stdout",
     "output_type": "stream",
     "text": [
      "  0.921140 seconds (1.21 M allocations: 62.616 MB, 1.04% gc time)\n"
     ]
    }
   ],
   "source": [
    "num_round = 2;\n",
    "\n",
    "print(\"training xgboost with dense matrix\\n\");\n",
    "@time bst1 = xgboost(train_X, num_round, label = train_Y, eta=1, max_depth=2, objective=\"binary:logistic\");\n"
   ]
  },
  {
   "cell_type": "markdown",
   "metadata": {},
   "source": [
    "#### Alternatively, you can sparse matrix as data and also pass parameters in as a map"
   ]
  },
  {
   "cell_type": "code",
   "execution_count": 8,
   "metadata": {
    "collapsed": false
   },
   "outputs": [
    {
     "name": "stdout",
     "output_type": "stream",
     "text": [
      "training xgboost with sparse matrix\n",
      "  0.005247 seconds (131 allocations: 1.648 MB)\n"
     ]
    },
    {
     "name": "stderr",
     "output_type": "stream",
     "text": [
      "\n",
      "WARNING: deprecated syntax \"[a=>b, ...]\" at In[8]:3.\n",
      "Use \"Dict(a=>b, ...)\" instead.\n",
      "[1]\ttrain-error:0.046522\n",
      "[2]\ttrain-error:0.022263\n"
     ]
    },
    {
     "data": {
      "text/plain": [
       "XGBoost.Booster(Ptr{Void} @0x00000000045db0c0)"
      ]
     },
     "execution_count": 8,
     "metadata": {},
     "output_type": "execute_result"
    }
   ],
   "source": [
    "print(\"training xgboost with sparse matrix\\n\");\n",
    "sptrain = sparse(train_X);\n",
    "param = [\"max_depth\"=>2, \"eta\"=>1, \"objective\"=>\"binary:logistic\"]\n",
    "@time bst = xgboost(sptrain, num_round, label = train_Y, param=param)"
   ]
  },
  {
   "cell_type": "markdown",
   "metadata": {},
   "source": [
    "#### You can also put in xgboost's DMatrix object. DMatrix stores label, data and other metadata needed for advanced features"
   ]
  },
  {
   "cell_type": "code",
   "execution_count": 34,
   "metadata": {
    "collapsed": false
   },
   "outputs": [
    {
     "name": "stdout",
     "output_type": "stream",
     "text": [
      "training xgboost with DMatrix\n",
      "2\n",
      "  0.023433 seconds (114 allocations: 5.219 KB)\n"
     ]
    },
    {
     "name": "stderr",
     "output_type": "stream",
     "text": [
      "[1]\ttrain-error:0.000614\n",
      "[2]\ttrain-error:0.000000\n"
     ]
    },
    {
     "data": {
      "text/plain": [
       "XGBoost.Booster(Ptr{Void} @0x000000000878f6e0)"
      ]
     },
     "execution_count": 34,
     "metadata": {},
     "output_type": "execute_result"
    }
   ],
   "source": [
    "print(\"training xgboost with DMatrix\\n\")\n",
    "dtrain = DMatrix(train_X, label = train_Y)\n",
    "println(num_round)\n",
    "@time bst = xgboost(dtrain, num_round, eta = 1, objective = \"binary:logistic\")"
   ]
  },
  {
   "cell_type": "markdown",
   "metadata": {},
   "source": [
    "### -----Basic prediction using XGBoost-----\n",
    "\n",
    "#### You can put in Matrix, SparseMatrix or DMatrix"
   ]
  },
  {
   "cell_type": "code",
   "execution_count": 23,
   "metadata": {
    "collapsed": false
   },
   "outputs": [
    {
     "name": "stdout",
     "output_type": "stream",
     "text": [
      "test-error=0.021725636250775917\n"
     ]
    }
   ],
   "source": [
    "preds1 = predict(bst1, test_X)\n",
    "print(\"test-error=\", sum((preds1 .> 0.5) .!= test_Y) / float(size(preds1)[1]), \"\\n\")"
   ]
  },
  {
   "cell_type": "code",
   "execution_count": 22,
   "metadata": {
    "collapsed": false
   },
   "outputs": [
    {
     "data": {
      "text/plain": [
       "1611-element Array{Float32,1}:\n",
       " 0.0\n",
       " 1.0\n",
       " 0.0\n",
       " 0.0\n",
       " 0.0\n",
       " 0.0\n",
       " 1.0\n",
       " 0.0\n",
       " 1.0\n",
       " 0.0\n",
       " 1.0\n",
       " 0.0\n",
       " 0.0\n",
       " ⋮  \n",
       " 1.0\n",
       " 0.0\n",
       " 0.0\n",
       " 0.0\n",
       " 1.0\n",
       " 0.0\n",
       " 0.0\n",
       " 0.0\n",
       " 0.0\n",
       " 1.0\n",
       " 0.0\n",
       " 1.0"
      ]
     },
     "execution_count": 22,
     "metadata": {},
     "output_type": "execute_result"
    }
   ],
   "source": [
    "preds = predict(bst, test_X)\n",
    "print(\"test-error=\", sum((preds .> 0.5) .!= test_Y) / float(size(preds)[1]), \"\\n\")"
   ]
  },
  {
   "cell_type": "markdown",
   "metadata": {
    "collapsed": false
   },
   "source": [
    "### XGBoost vs other solvers :"
   ]
  },
  {
   "cell_type": "markdown",
   "metadata": {
    "collapsed": true
   },
   "source": [
    "Solving the same problem not using linear models instead of trees, and comparing with GLM.jl"
   ]
  },
  {
   "cell_type": "code",
   "execution_count": 4,
   "metadata": {
    "collapsed": false
   },
   "outputs": [
    {
     "name": "stdout",
     "output_type": "stream",
     "text": [
      "6513x126 matrix with 143286 entries is loaded from ../data/mushroom/agaricus.txt.train\n",
      "1611x126 matrix with 35442 entries is loaded from ../data/mushroom/agaricus.txt.test\n"
     ]
    },
    {
     "data": {
      "text/plain": [
       "XGBoost.DMatrix(Ptr{Void} @0x00000000036d1890,_setinfo)"
      ]
     },
     "execution_count": 4,
     "metadata": {},
     "output_type": "execute_result"
    }
   ],
   "source": [
    "using XGBoost\n",
    "dtrain = DMatrix(\"../data/mushroom/agaricus.txt.train\")\n",
    "dtest = DMatrix(\"../data/mushroom/agaricus.txt.test\")\n"
   ]
  },
  {
   "cell_type": "code",
   "execution_count": 25,
   "metadata": {
    "collapsed": false
   },
   "outputs": [
    {
     "ename": "LoadError",
     "evalue": "LoadError: UndefVarError: xgboost not defined\nwhile loading In[25], in expression starting on line 155",
     "output_type": "error",
     "traceback": [
      "LoadError: UndefVarError: xgboost not defined\nwhile loading In[25], in expression starting on line 155",
      ""
     ]
    }
   ],
   "source": [
    "num_round = 2;\n",
    "@time bst = xgboost(dtrain1, num_round, eta = 1, objective = \"binary:logistic\")"
   ]
  },
  {
   "cell_type": "code",
   "execution_count": 24,
   "metadata": {
    "collapsed": false
   },
   "outputs": [
    {
     "ename": "LoadError",
     "evalue": "LoadError: UndefVarError: predict not defined\nwhile loading In[24], in expression starting on line 1",
     "output_type": "error",
     "traceback": [
      "LoadError: UndefVarError: predict not defined\nwhile loading In[24], in expression starting on line 1",
      ""
     ]
    }
   ],
   "source": [
    "preds = predict(bst, test_X)\n",
    "print(\"test-error=\", sum((preds .> 0.5) .!= test_Y) / float(size(preds)[1]), \"\\n\")"
   ]
  },
  {
   "cell_type": "code",
   "execution_count": 7,
   "metadata": {
    "collapsed": false
   },
   "outputs": [
    {
     "name": "stdout",
     "output_type": "stream",
     "text": [
      "test-error=0.021725636250775917\n"
     ]
    }
   ],
   "source": [
    "preds1 = predict(bst1, test_X)\n",
    "print(\"test-error=\", sum((preds1 .> 0.5) .!= test_Y) / float(size(preds1)[1]), \"\\n\")"
   ]
  },
  {
   "cell_type": "code",
   "execution_count": 23,
   "metadata": {
    "collapsed": false
   },
   "outputs": [],
   "source": [
    "workspace()"
   ]
  },
  {
   "cell_type": "code",
   "execution_count": 13,
   "metadata": {
    "collapsed": false
   },
   "outputs": [
    {
     "data": {
      "text/plain": [
       "XGBoost.DMatrix(Ptr{Void} @0x000000000326b980,_setinfo)"
      ]
     },
     "execution_count": 13,
     "metadata": {},
     "output_type": "execute_result"
    }
   ],
   "source": [
    "dtrain2 = DMatrix(train_X, label = train_Y)"
   ]
  },
  {
   "cell_type": "code",
   "execution_count": 14,
   "metadata": {
    "collapsed": false
   },
   "outputs": [
    {
     "data": {
      "text/plain": [
       "false"
      ]
     },
     "execution_count": 14,
     "metadata": {},
     "output_type": "execute_result"
    }
   ],
   "source": []
  },
  {
   "cell_type": "code",
   "execution_count": null,
   "metadata": {
    "collapsed": true
   },
   "outputs": [],
   "source": []
  }
 ],
 "metadata": {
  "kernelspec": {
   "display_name": "Julia 0.4.5",
   "language": "julia",
   "name": "julia-0.4"
  },
  "language_info": {
   "file_extension": ".jl",
   "mimetype": "application/julia",
   "name": "julia",
   "version": "0.4.5"
  }
 },
 "nbformat": 4,
 "nbformat_minor": 0
}
