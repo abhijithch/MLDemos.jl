{
 "cells": [
  {
   "cell_type": "markdown",
   "metadata": {},
   "source": [
    "# XGBoost.jl - quickest ways to win data science competitions"
   ]
  },
  {
   "cell_type": "markdown",
   "metadata": {},
   "source": [
    "Here is an example of how a single non-ensembled model can achieve high ranking scores using XGBoost, which is an optimized distributed gradient boosting library designed to be highly efficient, flexible and portable."
   ]
  },
  {
   "cell_type": "markdown",
   "metadata": {},
   "source": [
    "### Distinguishing poisonous vs edible mushrooms"
   ]
  },
  {
   "cell_type": "markdown",
   "metadata": {},
   "source": [
    "Based on 8142 instances and 22 attributes like, odor, habitat, color, etc, we can easily and accurately classify mushrooms as poisonous or edible and in few cases of unknown edibility and hence not recommended. \n",
    "\n",
    "The Agaricus genus contains the most widely consumed and best-known mushroom today, but there are poisonous ones among them as well. The dataset consists of 8142 observations of Agaricus and Lepiota Family, this is a multivariate dataset with 22 characteristic attributes and classified into 2 classes, edible and poisonous.\n",
    "\n",
    "![Agaricus californicus](ACP.jpg) ![Agaricus campestris](ACE2.jpg)"
   ]
  },
  {
   "cell_type": "code",
   "execution_count": 1,
   "metadata": {
    "collapsed": false
   },
   "outputs": [],
   "source": [
    "using XGBoost\n",
    "include(\"$(Pkg.dir())/MLDemos/src/xgboost/mushroom.jl\")\n",
    "path = \"$(Pkg.dir())/MLDemos/\";"
   ]
  },
  {
   "cell_type": "markdown",
   "metadata": {},
   "source": [
    "#### We use auxiliary function to read LIBSVM format into julia Matrix.\n"
   ]
  },
  {
   "cell_type": "code",
   "execution_count": 3,
   "metadata": {
    "collapsed": false
   },
   "outputs": [],
   "source": [
    "train_X, train_Y = readlibsvm(\"$(path)data/mushroom/agaricus.txt.train\", (6513, 126));\n",
    "test_X, test_Y = readlibsvm(\"$(path)data/mushroom/agaricus.txt.test\", (1611, 126));"
   ]
  },
  {
   "cell_type": "markdown",
   "metadata": {},
   "source": [
    "#### Basic training using XGBoost :\n",
    "You can directly pass julia's matrix or sparse matrix as data,"
   ]
  },
  {
   "cell_type": "code",
   "execution_count": 5,
   "metadata": {
    "collapsed": false
   },
   "outputs": [
    {
     "name": "stdout",
     "output_type": "stream",
     "text": [
      "training xgboost with dense matrix\n",
      "training xgboost with sparse matrix\n"
     ]
    },
    {
     "name": "stderr",
     "output_type": "stream",
     "text": [
      "[1]\ttrain-error:0.046522\n",
      "[2]\ttrain-error:0.022263\n"
     ]
    }
   ],
   "source": [
    "num_round = 2;\n",
    "\n",
    "print(\"training xgboost with dense matrix\\n\");\n",
    "bst = xgboost(train_X, num_round, label = train_Y, eta=1, max_depth=2, objective=\"binary:logistic\");\n",
    "\n",
    "print(\"training xgboost with sparse matrix\\n\");\n",
    "sptrain = sparse(train_X);\n"
   ]
  },
  {
   "cell_type": "markdown",
   "metadata": {},
   "source": [
    "#### Alternatively, you can pass parameters in as a map"
   ]
  },
  {
   "cell_type": "code",
   "execution_count": 6,
   "metadata": {
    "collapsed": false
   },
   "outputs": [
    {
     "name": "stderr",
     "output_type": "stream",
     "text": [
      "\n",
      "WARNING: deprecated syntax \"[a=>b, ...]\" at In[6]:1.\n",
      "Use \"Dict(a=>b, ...)\" instead.\n",
      "[1]\ttrain-error:0.046522\n",
      "[2]\ttrain-error:0.022263\n"
     ]
    },
    {
     "name": "stdout",
     "output_type": "stream",
     "text": [
      "  0.675264 seconds (88.31 k allocations: 5.714 MB)\n"
     ]
    },
    {
     "data": {
      "text/plain": [
       "XGBoost.Booster(Ptr{Void} @0x00000000035fef20)"
      ]
     },
     "execution_count": 6,
     "metadata": {},
     "output_type": "execute_result"
    }
   ],
   "source": [
    "param = [\"max_depth\"=>2, \"eta\"=>1, \"objective\"=>\"binary:logistic\"]\n",
    "@time bst = xgboost(sptrain, num_round, label = train_Y, param=param)"
   ]
  },
  {
   "cell_type": "markdown",
   "metadata": {},
   "source": [
    "#### You can also put in xgboost's DMatrix object. DMatrix stores label, data and other meta datas needed for advanced features"
   ]
  },
  {
   "cell_type": "code",
   "execution_count": 7,
   "metadata": {
    "collapsed": false
   },
   "outputs": [
    {
     "name": "stdout",
     "output_type": "stream",
     "text": [
      "training xgboost with DMatrix\n"
     ]
    },
    {
     "name": "stderr",
     "output_type": "stream",
     "text": [
      "[1]\ttrain-error:0.000614\n",
      "[2]\ttrain-error:0.000000\n"
     ]
    },
    {
     "data": {
      "text/plain": [
       "XGBoost.Booster(Ptr{Void} @0x000000000358cc50)"
      ]
     },
     "execution_count": 7,
     "metadata": {},
     "output_type": "execute_result"
    }
   ],
   "source": [
    "print(\"training xgboost with DMatrix\\n\")\n",
    "dtrain = DMatrix(train_X, label = train_Y)\n",
    "bst = xgboost(dtrain, num_round, eta = 1, objective = \"binary:logistic\")"
   ]
  },
  {
   "cell_type": "markdown",
   "metadata": {},
   "source": [
    "### -----Basic prediction using XGBoost-----\n",
    "\n",
    "#### You can put in Matrix, SparseMatrix or DMatrix"
   ]
  },
  {
   "cell_type": "code",
   "execution_count": 8,
   "metadata": {
    "collapsed": false
   },
   "outputs": [
    {
     "name": "stdout",
     "output_type": "stream",
     "text": [
      "test-error=0.0\n"
     ]
    }
   ],
   "source": [
    "preds = predict(bst, test_X)\n",
    "print(\"test-error=\", sum((preds .> 0.5) .!= test_Y) / float(size(preds)[1]), \"\\n\")"
   ]
  },
  {
   "cell_type": "code",
   "execution_count": null,
   "metadata": {
    "collapsed": true
   },
   "outputs": [],
   "source": []
  }
 ],
 "metadata": {
  "kernelspec": {
   "display_name": "Julia 0.4.5",
   "language": "julia",
   "name": "julia-0.4"
  },
  "language_info": {
   "file_extension": ".jl",
   "mimetype": "application/julia",
   "name": "julia",
   "version": "0.4.5"
  }
 },
 "nbformat": 4,
 "nbformat_minor": 0
}
