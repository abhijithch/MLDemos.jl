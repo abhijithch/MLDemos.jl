{
 "cells": [
  {
   "cell_type": "markdown",
   "metadata": {},
   "source": [
    "# XGBoost - quickest ways to win data science competitions"
   ]
  },
  {
   "cell_type": "markdown",
   "metadata": {},
   "source": [
    "Here is an example of how a single non-ensembled model can achieve high ranking scores using XGBoost, which is an optimized distributed gradient boosting library designed to be highly efficient, flexible and portable."
   ]
  },
  {
   "cell_type": "code",
   "execution_count": 1,
   "metadata": {
    "collapsed": true
   },
   "outputs": [],
   "source": [
    "using XGBoost"
   ]
  },
  {
   "cell_type": "markdown",
   "metadata": {},
   "source": [
    "### To add mushroom example"
   ]
  },
  {
   "cell_type": "code",
   "execution_count": 2,
   "metadata": {
    "collapsed": false
   },
   "outputs": [
    {
     "data": {
      "text/plain": [
       "(\n",
       "250000x33 Array{Any,2}:\n",
       " 100000   138.47    51.655   97.827  …    -2.475  113.497  0.00265331  \"s\"\n",
       " 100001   160.937   68.768  103.235     -999.0     46.226  2.23358     \"b\"\n",
       " 100002  -999.0    162.172  125.953     -999.0     44.251  2.34739     \"b\"\n",
       " 100003   143.905   81.417   80.943     -999.0     -0.0    5.44638     \"b\"\n",
       " 100004   175.864   16.915  134.805     -999.0      0.0    6.24533     \"b\"\n",
       " 100005    89.744   13.55    59.149  …     3.106  193.66   0.083414    \"b\"\n",
       " 100006   148.754   28.862  107.782       -2.767  179.877  0.00265331  \"s\"\n",
       " 100007   154.916   10.418   94.714     -999.0     30.638  0.0186361   \"s\"\n",
       " 100008   105.594   50.559  100.989     -999.0      0.0    5.296       \"b\"\n",
       " 100009   128.053   88.941   69.272     -999.0    167.735  0.00150187  \"s\"\n",
       " 100010  -999.0     86.24    79.692  …  -999.0      0.0    2.2995      \"b\"\n",
       " 100011   114.744   10.286   75.712       -2.079  165.64   0.30717     \"b\"\n",
       " 100012   145.297   64.234  103.565     -999.0     93.117  1.68161     \"b\"\n",
       "      ⋮                              ⋱              ⋮                     \n",
       " 349988    89.509   86.277   79.87      -999.0     61.554  2.02895     \"b\"\n",
       " 349989  -999.0     78.256   79.699     -999.0     78.984  0.0640608   \"b\"\n",
       " 349990   127.822   82.865  100.024  …  -999.0     -0.0    6.34693     \"b\"\n",
       " 349991   133.457   77.54    88.989     -999.0     70.969  0.00150187  \"s\"\n",
       " 349992  -999.0     38.083  749.97         0.416  203.569  0.744056    \"b\"\n",
       " 349993   130.075    3.918   66.781       -2.215  546.066  0.0015027   \"s\"\n",
       " 349994   217.02    47.156   62.824       -1.137  174.176  0.0640608   \"b\"\n",
       " 349995  -999.0     71.989   36.548  …  -999.0      0.0    4.50508     \"b\"\n",
       " 349996  -999.0     58.179   68.083     -999.0     -0.0    2.49726     \"b\"\n",
       " 349997   105.457   60.526   75.839     -999.0     41.992  0.0186361   \"s\"\n",
       " 349998    94.951   19.362   68.812     -999.0      0.0    1.68161     \"b\"\n",
       " 349999  -999.0     72.756   70.831     -999.0      0.0    1.87747     \"b\",\n",
       "\n",
       "1x33 Array{AbstractString,2}:\n",
       " \"EventId\"  \"DER_mass_MMC\"  …  \"PRI_jet_all_pt\"  \"Weight\"  \"Label\")"
      ]
     },
     "execution_count": 2,
     "metadata": {},
     "output_type": "execute_result"
    }
   ],
   "source": [
    "dtrain=readcsv(\"../data/higgs/training.csv\",header=true)"
   ]
  },
  {
   "cell_type": "code",
   "execution_count": 3,
   "metadata": {
    "collapsed": false
   },
   "outputs": [
    {
     "data": {
      "text/plain": [
       "250000x30 Array{Any,2}:\n",
       "  138.47    51.655   97.827   27.98   …     1.24     -2.475  113.497\n",
       "  160.937   68.768  103.235   48.146     -999.0    -999.0     46.226\n",
       " -999.0    162.172  125.953   35.635     -999.0    -999.0     44.251\n",
       "  143.905   81.417   80.943    0.414     -999.0    -999.0     -0.0  \n",
       "  175.864   16.915  134.805   16.405     -999.0    -999.0      0.0  \n",
       "   89.744   13.55    59.149  116.344  …     0.224     3.106  193.66 \n",
       "  148.754   28.862  107.782  106.13         0.131    -2.767  179.877\n",
       "  154.916   10.418   94.714   29.169     -999.0    -999.0     30.638\n",
       "  105.594   50.559  100.989    4.288     -999.0    -999.0      0.0  \n",
       "  128.053   88.941   69.272  193.392     -999.0    -999.0    167.735\n",
       " -999.0     86.24    79.692   27.201  …  -999.0    -999.0      0.0  \n",
       "  114.744   10.286   75.712   30.816        1.773    -2.079  165.64 \n",
       "  145.297   64.234  103.565  106.999     -999.0    -999.0     93.117\n",
       "    ⋮                                 ⋱                             \n",
       "   89.509   86.277   79.87    56.636     -999.0    -999.0     61.554\n",
       " -999.0     78.256   79.699  127.508     -999.0    -999.0     78.984\n",
       "  127.822   82.865  100.024    0.86   …  -999.0    -999.0     -0.0  \n",
       "  133.457   77.54    88.989   69.65      -999.0    -999.0     70.969\n",
       " -999.0     38.083  749.97    77.877        0.515     0.416  203.569\n",
       "  130.075    3.918   66.781   77.369        0.578    -2.215  546.066\n",
       "  217.02    47.156   62.824  127.953       -0.058    -1.137  174.176\n",
       " -999.0     71.989   36.548    5.042  …  -999.0    -999.0      0.0  \n",
       " -999.0     58.179   68.083   22.439     -999.0    -999.0     -0.0  \n",
       "  105.457   60.526   75.839   39.757     -999.0    -999.0     41.992\n",
       "   94.951   19.362   68.812   13.504     -999.0    -999.0      0.0  \n",
       " -999.0     72.756   70.831    7.479     -999.0    -999.0      0.0  "
      ]
     },
     "execution_count": 3,
     "metadata": {},
     "output_type": "execute_result"
    }
   ],
   "source": [
    "data=dtrain[1][:,2:31]\n"
   ]
  },
  {
   "cell_type": "code",
   "execution_count": 4,
   "metadata": {
    "collapsed": false
   },
   "outputs": [
    {
     "data": {
      "text/plain": [
       "250000-element Array{Any,1}:\n",
       " \"s\"\n",
       " \"b\"\n",
       " \"b\"\n",
       " \"b\"\n",
       " \"b\"\n",
       " \"b\"\n",
       " \"s\"\n",
       " \"s\"\n",
       " \"b\"\n",
       " \"s\"\n",
       " \"b\"\n",
       " \"b\"\n",
       " \"b\"\n",
       " ⋮  \n",
       " \"b\"\n",
       " \"b\"\n",
       " \"b\"\n",
       " \"s\"\n",
       " \"b\"\n",
       " \"s\"\n",
       " \"b\"\n",
       " \"b\"\n",
       " \"b\"\n",
       " \"s\"\n",
       " \"b\"\n",
       " \"b\""
      ]
     },
     "execution_count": 4,
     "metadata": {},
     "output_type": "execute_result"
    }
   ],
   "source": [
    "labels  = dtrain[1][:,33]"
   ]
  },
  {
   "cell_type": "code",
   "execution_count": 7,
   "metadata": {
    "collapsed": true
   },
   "outputs": [],
   "source": [
    "label=zeros(length(labels))\n",
    "for i=1:length(labels)\n",
    "    if labels[i]==\"s\"\n",
    "        label[i]=1.0\n",
    "    end\n",
    "end"
   ]
  },
  {
   "cell_type": "code",
   "execution_count": 5,
   "metadata": {
    "collapsed": false
   },
   "outputs": [
    {
     "data": {
      "text/plain": [
       "250000-element Array{Any,1}:\n",
       "  0.00583728\n",
       "  4.91389   \n",
       "  5.16426   \n",
       " 11.982     \n",
       " 13.7397    \n",
       "  0.183511  \n",
       "  0.00583728\n",
       "  0.0409995 \n",
       " 11.6512    \n",
       "  0.00330411\n",
       "  5.05891   \n",
       "  0.675773  \n",
       "  3.69955   \n",
       "  ⋮         \n",
       "  4.46369   \n",
       "  0.140934  \n",
       " 13.9633    \n",
       "  0.00330411\n",
       "  1.63692   \n",
       "  0.00330595\n",
       "  0.140934  \n",
       "  9.91118   \n",
       "  5.49397   \n",
       "  0.0409995 \n",
       "  3.69955   \n",
       "  4.13044   "
      ]
     },
     "execution_count": 5,
     "metadata": {},
     "output_type": "execute_result"
    }
   ],
   "source": [
    "weight=dtrain[1][:,32].*550000/250000"
   ]
  },
  {
   "cell_type": "code",
   "execution_count": 8,
   "metadata": {
    "collapsed": true
   },
   "outputs": [],
   "source": [
    "sum_wpos=0\n",
    "for i=1:length(label)\n",
    "    if label[i]==1.0\n",
    "        sum_wpos=sum_wpos+weight[i]\n",
    "    end\n",
    "end"
   ]
  },
  {
   "cell_type": "code",
   "execution_count": 9,
   "metadata": {
    "collapsed": true
   },
   "outputs": [],
   "source": [
    "sum_wneg=0\n",
    "for i=1:length(label)\n",
    "    if label[i]==0.0\n",
    "        sum_wneg=sum_wneg+weight[i]\n",
    "    end\n",
    "end"
   ]
  },
  {
   "cell_type": "code",
   "execution_count": 10,
   "metadata": {
    "collapsed": false
   },
   "outputs": [
    {
     "data": {
      "text/plain": [
       "250000x30 Array{Float64,2}:\n",
       "  138.47    51.655   97.827   27.98   …     1.24     -2.475  113.497\n",
       "  160.937   68.768  103.235   48.146     -999.0    -999.0     46.226\n",
       " -999.0    162.172  125.953   35.635     -999.0    -999.0     44.251\n",
       "  143.905   81.417   80.943    0.414     -999.0    -999.0     -0.0  \n",
       "  175.864   16.915  134.805   16.405     -999.0    -999.0      0.0  \n",
       "   89.744   13.55    59.149  116.344  …     0.224     3.106  193.66 \n",
       "  148.754   28.862  107.782  106.13         0.131    -2.767  179.877\n",
       "  154.916   10.418   94.714   29.169     -999.0    -999.0     30.638\n",
       "  105.594   50.559  100.989    4.288     -999.0    -999.0      0.0  \n",
       "  128.053   88.941   69.272  193.392     -999.0    -999.0    167.735\n",
       " -999.0     86.24    79.692   27.201  …  -999.0    -999.0      0.0  \n",
       "  114.744   10.286   75.712   30.816        1.773    -2.079  165.64 \n",
       "  145.297   64.234  103.565  106.999     -999.0    -999.0     93.117\n",
       "    ⋮                                 ⋱                             \n",
       "   89.509   86.277   79.87    56.636     -999.0    -999.0     61.554\n",
       " -999.0     78.256   79.699  127.508     -999.0    -999.0     78.984\n",
       "  127.822   82.865  100.024    0.86   …  -999.0    -999.0     -0.0  \n",
       "  133.457   77.54    88.989   69.65      -999.0    -999.0     70.969\n",
       " -999.0     38.083  749.97    77.877        0.515     0.416  203.569\n",
       "  130.075    3.918   66.781   77.369        0.578    -2.215  546.066\n",
       "  217.02    47.156   62.824  127.953       -0.058    -1.137  174.176\n",
       " -999.0     71.989   36.548    5.042  …  -999.0    -999.0      0.0  \n",
       " -999.0     58.179   68.083   22.439     -999.0    -999.0     -0.0  \n",
       "  105.457   60.526   75.839   39.757     -999.0    -999.0     41.992\n",
       "   94.951   19.362   68.812   13.504     -999.0    -999.0      0.0  \n",
       " -999.0     72.756   70.831    7.479     -999.0    -999.0      0.0  "
      ]
     },
     "execution_count": 10,
     "metadata": {},
     "output_type": "execute_result"
    }
   ],
   "source": [
    "data=convert(Array{Float64,2},data)"
   ]
  },
  {
   "cell_type": "code",
   "execution_count": 11,
   "metadata": {
    "collapsed": false
   },
   "outputs": [
    {
     "data": {
      "text/plain": [
       "0.0"
      ]
     },
     "execution_count": 11,
     "metadata": {},
     "output_type": "execute_result"
    }
   ],
   "source": [
    "idx0 = findin(data,0.0)\n",
    "data[idx0]=eps()\n",
    "idx9=findin(data, -999.0)\n",
    "data[idx9]=0.0\n"
   ]
  },
  {
   "cell_type": "code",
   "execution_count": 12,
   "metadata": {
    "collapsed": false
   },
   "outputs": [
    {
     "data": {
      "text/plain": [
       "250000x30 sparse matrix with 5890031 Float64 entries:\n",
       "\t[1     ,      1]  =  138.47\n",
       "\t[2     ,      1]  =  160.937\n",
       "\t[4     ,      1]  =  143.905\n",
       "\t[5     ,      1]  =  175.864\n",
       "\t[6     ,      1]  =  89.744\n",
       "\t[7     ,      1]  =  148.754\n",
       "\t[8     ,      1]  =  154.916\n",
       "\t[9     ,      1]  =  105.594\n",
       "\t[10    ,      1]  =  128.053\n",
       "\t[12    ,      1]  =  114.744\n",
       "\t⋮\n",
       "\t[249988,     30]  =  36.544\n",
       "\t[249989,     30]  =  61.554\n",
       "\t[249990,     30]  =  78.984\n",
       "\t[249992,     30]  =  70.969\n",
       "\t[249993,     30]  =  203.569\n",
       "\t[249994,     30]  =  546.066\n",
       "\t[249995,     30]  =  174.176\n",
       "\t[249996,     30]  =  2.22045e-16\n",
       "\t[249998,     30]  =  41.992\n",
       "\t[249999,     30]  =  2.22045e-16\n",
       "\t[250000,     30]  =  2.22045e-16"
      ]
     },
     "execution_count": 12,
     "metadata": {},
     "output_type": "execute_result"
    }
   ],
   "source": [
    "datas=sparse(data)"
   ]
  },
  {
   "cell_type": "code",
   "execution_count": 13,
   "metadata": {
    "collapsed": false
   },
   "outputs": [
    {
     "name": "stderr",
     "output_type": "stream",
     "text": [
      "\n",
      "WARNING: deprecated syntax \"[a=>b, ...]\" at In[13]:1.\n",
      "Use \"Dict(a=>b, ...)\" instead.\n"
     ]
    },
    {
     "data": {
      "text/plain": [
       "120"
      ]
     },
     "execution_count": 13,
     "metadata": {},
     "output_type": "execute_result"
    }
   ],
   "source": [
    "param = [\"objective\"=>\"binary:logitraw\", \"scale_pos_weight\"=>sum_wneg/sum_wpos, \"eta\"=>0.1,\"max_depth\"=>6,\n",
    "    \"eval_metric\"=>\"auc\",\"silent\"=>1,\"nthread\"=>16];\n",
    "num_round = 120"
   ]
  },
  {
   "cell_type": "code",
   "execution_count": 14,
   "metadata": {
    "collapsed": false
   },
   "outputs": [
    {
     "data": {
      "text/plain": [
       "XGBoost.DMatrix(Ptr{Void} @0x00000000195f1560,_setinfo)"
      ]
     },
     "execution_count": 14,
     "metadata": {},
     "output_type": "execute_result"
    }
   ],
   "source": [
    "xgmat = DMatrix(datas,label=label)"
   ]
  },
  {
   "cell_type": "code",
   "execution_count": 23,
   "metadata": {
    "collapsed": false
   },
   "outputs": [
    {
     "name": "stderr",
     "output_type": "stream",
     "text": [
      "[1]\ttrain-auc:0.844962\n",
      "[2]\ttrain-auc:0.849924\n",
      "[3]\ttrain-auc:0.851364\n",
      "[4]\ttrain-auc:0.854743\n",
      "[5]\ttrain-auc:0.856286\n",
      "[6]\ttrain-auc:0.858303\n",
      "[7]\ttrain-auc:0.859944\n",
      "[8]\ttrain-auc:0.860584\n",
      "[9]\ttrain-auc:0.860700\n",
      "[10]\ttrain-auc:0.861261\n",
      "[11]\ttrain-auc:0.867643\n",
      "[12]\ttrain-auc:0.868419\n",
      "[13]\ttrain-auc:0.868212\n",
      "[14]\ttrain-auc:0.869332\n",
      "[15]\ttrain-auc:0.869887\n",
      "[16]\ttrain-auc:0.869945\n",
      "[17]\ttrain-auc:0.870510\n",
      "[18]\ttrain-auc:0.870935\n",
      "[19]\ttrain-auc:0.871397\n",
      "[20]\ttrain-auc:0.871656\n",
      "[21]\ttrain-auc:0.871444\n",
      "[22]\ttrain-auc:0.872232\n",
      "[23]\ttrain-auc:0.872552\n",
      "[24]\ttrain-auc:0.873087\n",
      "[25]\ttrain-auc:0.873273\n",
      "[26]\ttrain-auc:0.873448\n",
      "[27]\ttrain-auc:0.874152\n",
      "[28]\ttrain-auc:0.874713\n",
      "[29]\ttrain-auc:0.875216\n",
      "[30]\ttrain-auc:0.876123\n",
      "[31]\ttrain-auc:0.876455\n",
      "[32]\ttrain-auc:0.876750\n",
      "[33]\ttrain-auc:0.876988\n",
      "[34]\ttrain-auc:0.877253\n",
      "[35]\ttrain-auc:0.877925\n",
      "[36]\ttrain-auc:0.878788\n",
      "[37]\ttrain-auc:0.879686\n",
      "[38]\ttrain-auc:0.880313\n",
      "[39]\ttrain-auc:0.881699\n",
      "[40]\ttrain-auc:0.882595\n",
      "[41]\ttrain-auc:0.883466\n",
      "[42]\ttrain-auc:0.884447\n",
      "[43]\ttrain-auc:0.885143\n",
      "[44]\ttrain-auc:0.885733\n",
      "[45]\ttrain-auc:0.886401\n",
      "[46]\ttrain-auc:0.886952\n",
      "[47]\ttrain-auc:0.887748\n",
      "[48]\ttrain-auc:0.888363\n",
      "[49]\ttrain-auc:0.889029\n",
      "[50]\ttrain-auc:0.889757\n",
      "[51]\ttrain-auc:0.890582\n",
      "[52]\ttrain-auc:0.891530\n",
      "[53]\ttrain-auc:0.892133\n",
      "[54]\ttrain-auc:0.892882\n",
      "[55]\ttrain-auc:0.893999\n",
      "[56]\ttrain-auc:0.894615\n",
      "[57]\ttrain-auc:0.895340\n",
      "[58]\ttrain-auc:0.896388\n",
      "[59]\ttrain-auc:0.897182\n",
      "[60]\ttrain-auc:0.897989\n",
      "[61]\ttrain-auc:0.898555\n",
      "[62]\ttrain-auc:0.899078\n",
      "[63]\ttrain-auc:0.899711\n",
      "[64]\ttrain-auc:0.900325\n",
      "[65]\ttrain-auc:0.900925\n",
      "[66]\ttrain-auc:0.901580\n",
      "[67]\ttrain-auc:0.902237\n",
      "[68]\ttrain-auc:0.902682\n",
      "[69]\ttrain-auc:0.903152\n",
      "[70]\ttrain-auc:0.903712\n",
      "[71]\ttrain-auc:0.904200\n",
      "[72]\ttrain-auc:0.904707\n",
      "[73]\ttrain-auc:0.905330\n",
      "[74]\ttrain-auc:0.905648\n",
      "[75]\ttrain-auc:0.906342\n",
      "[76]\ttrain-auc:0.906676\n",
      "[77]\ttrain-auc:0.907195\n",
      "[78]\ttrain-auc:0.907676\n",
      "[79]\ttrain-auc:0.908071\n",
      "[80]\ttrain-auc:0.908192\n",
      "[81]\ttrain-auc:0.908526\n",
      "[82]\ttrain-auc:0.908827\n",
      "[83]\ttrain-auc:0.909207\n",
      "[84]\ttrain-auc:0.909644\n",
      "[85]\ttrain-auc:0.910040\n",
      "[86]\ttrain-auc:0.910318\n",
      "[87]\ttrain-auc:0.910590\n",
      "[88]\ttrain-auc:0.910872\n",
      "[89]\ttrain-auc:0.911095\n",
      "[90]\ttrain-auc:0.911347\n",
      "[91]\ttrain-auc:0.911586\n",
      "[92]\ttrain-auc:0.911764\n",
      "[93]\ttrain-auc:0.912075\n",
      "[94]\ttrain-auc:0.912240\n",
      "[95]\ttrain-auc:0.912438\n",
      "[96]\ttrain-auc:0.912659\n",
      "[97]\ttrain-auc:0.912941\n",
      "[98]\ttrain-auc:0.913030\n",
      "[99]\ttrain-auc:0.913249\n",
      "[100]\ttrain-auc:0.913389\n",
      "[101]\ttrain-auc:0.913516\n",
      "[102]\ttrain-auc:0.913702\n",
      "[103]\ttrain-auc:0.913910\n",
      "[104]\ttrain-auc:0.914036\n",
      "[105]\ttrain-auc:0.914176\n",
      "[106]\ttrain-auc:0.914307\n",
      "[107]\ttrain-auc:0.914433\n",
      "[108]\ttrain-auc:0.914614\n",
      "[109]\ttrain-auc:0.914746\n",
      "[110]\ttrain-auc:0.914778\n",
      "[111]\ttrain-auc:0.914834\n",
      "[112]\ttrain-auc:0.915026\n",
      "[113]\ttrain-auc:0.915126\n",
      "[114]\ttrain-auc:0.915146\n",
      "[115]\ttrain-auc:0.915302\n",
      "[116]\ttrain-auc:0.915456\n",
      "[117]\ttrain-auc:0.915530\n",
      "[118]\ttrain-auc:0.915594\n",
      "[119]\ttrain-auc:0.915635\n",
      "[120]\ttrain-auc:0.915799\n"
     ]
    },
    {
     "name": "stdout",
     "output_type": "stream",
     "text": [
      " 93.868597 seconds (21.32 k allocations: 1.036 MB)\n"
     ]
    },
    {
     "data": {
      "text/plain": [
       "XGBoost.Booster(Ptr{Void} @0x00000000425f0360)"
      ]
     },
     "execution_count": 23,
     "metadata": {},
     "output_type": "execute_result"
    }
   ],
   "source": [
    "@time bst = xgboost(xgmat, num_round, param=param)"
   ]
  },
  {
   "cell_type": "markdown",
   "metadata": {},
   "source": [
    "Testing the model"
   ]
  },
  {
   "cell_type": "code",
   "execution_count": 16,
   "metadata": {
    "collapsed": false
   },
   "outputs": [
    {
     "data": {
      "text/plain": [
       "(\n",
       "550000x31 Array{Float64,2}:\n",
       " 350000.0  -999.0     79.589   23.916  …  -999.0    -999.0     -0.0  \n",
       " 350001.0   106.398   67.49    87.949     -999.0    -999.0     47.575\n",
       " 350002.0   117.794   56.226   96.358     -999.0    -999.0      0.0  \n",
       " 350003.0   135.861   30.604   97.288     -999.0    -999.0      0.0  \n",
       " 350004.0    74.159   82.772   58.731        0.335     2.587  599.213\n",
       " 350005.0    95.709   94.168   66.28   …  -999.0    -999.0      0.0  \n",
       " 350006.0    85.798   49.059   66.131     -999.0    -999.0     36.99 \n",
       " 350007.0   429.273   75.057  234.61         1.833     2.788  179.059\n",
       " 350008.0    70.958   66.329   60.95      -999.0    -999.0     -0.0  \n",
       " 350009.0   110.539    2.82    62.136        2.397     1.479  156.294\n",
       " 350010.0    89.921   75.566   73.543  …  -999.0    -999.0     45.078\n",
       " 350011.0   143.089  105.195  106.832     -999.0    -999.0      0.0  \n",
       " 350012.0    96.033   43.116   59.27      -999.0    -999.0      0.0  \n",
       "      ⋮                                ⋱                        ⋮    \n",
       " 899988.0   101.833   61.419   43.571       -3.577    -2.214  246.129\n",
       " 899989.0    67.22    54.243   51.137     -999.0    -999.0      0.0  \n",
       " 899990.0    75.958   57.269   56.194  …  -999.0    -999.0      0.0  \n",
       " 899991.0   188.398   32.924  129.743     -999.0    -999.0     78.396\n",
       " 899992.0   115.522   16.587   78.65      -999.0    -999.0      0.0  \n",
       " 899993.0  -999.0     99.822   15.488       -0.026    -2.516  110.327\n",
       " 899994.0    48.49    77.031   43.248       -0.487    -0.108   98.494\n",
       " 899995.0   309.53    28.185  170.795  …  -999.0    -999.0     97.451\n",
       " 899996.0   105.653    5.096   77.256     -999.0    -999.0     -0.0  \n",
       " 899997.0  -999.0     69.47    51.766     -999.0    -999.0     -0.0  \n",
       " 899998.0   107.254   13.5     79.833     -999.0    -999.0     43.099\n",
       " 899999.0   107.961   85.2     75.67      -999.0    -999.0     49.231,\n",
       "\n",
       "1x31 Array{AbstractString,2}:\n",
       " \"EventId\"  \"DER_mass_MMC\"  …  \"PRI_jet_all_pt\")"
      ]
     },
     "execution_count": 16,
     "metadata": {},
     "output_type": "execute_result"
    }
   ],
   "source": [
    "#preds = predict(bst, test_X)\n",
    "dtest=readcsv(\"../data/higgs/test.csv\",header=true)\n"
   ]
  },
  {
   "cell_type": "code",
   "execution_count": 17,
   "metadata": {
    "collapsed": false
   },
   "outputs": [
    {
     "data": {
      "text/plain": [
       "550000x30 Array{Float64,2}:\n",
       " -999.0     79.589   23.916    3.036  …  -999.0    -999.0     -0.0  \n",
       "  106.398   67.49    87.949   49.994     -999.0    -999.0     47.575\n",
       "  117.794   56.226   96.358    4.137     -999.0    -999.0      0.0  \n",
       "  135.861   30.604   97.288    9.104     -999.0    -999.0      0.0  \n",
       "   74.159   82.772   58.731   89.646        0.335     2.587  599.213\n",
       "   95.709   94.168   66.28    14.719  …  -999.0    -999.0      0.0  \n",
       "   85.798   49.059   66.131   37.074     -999.0    -999.0     36.99 \n",
       "  429.273   75.057  234.61    71.019        1.833     2.788  179.059\n",
       "   70.958   66.329   60.95     0.758     -999.0    -999.0     -0.0  \n",
       "  110.539    2.82    62.136  179.753        2.397     1.479  156.294\n",
       "   89.921   75.566   73.543   69.708  …  -999.0    -999.0     45.078\n",
       "  143.089  105.195  106.832   23.149     -999.0    -999.0      0.0  \n",
       "   96.033   43.116   59.27     5.141     -999.0    -999.0      0.0  \n",
       "    ⋮                                 ⋱                             \n",
       "  101.833   61.419   43.571  196.527       -3.577    -2.214  246.129\n",
       "   67.22    54.243   51.137   45.152     -999.0    -999.0      0.0  \n",
       "   75.958   57.269   56.194   26.306  …  -999.0    -999.0      0.0  \n",
       "  188.398   32.924  129.743   79.818     -999.0    -999.0     78.396\n",
       "  115.522   16.587   78.65     0.999     -999.0    -999.0      0.0  \n",
       " -999.0     99.822   15.488    5.828       -0.026    -2.516  110.327\n",
       "   48.49    77.031   43.248   89.363       -0.487    -0.108   98.494\n",
       "  309.53    28.185  170.795   99.349  …  -999.0    -999.0     97.451\n",
       "  105.653    5.096   77.256   33.04      -999.0    -999.0     -0.0  \n",
       " -999.0     69.47    51.766    1.189     -999.0    -999.0     -0.0  \n",
       "  107.254   13.5     79.833   50.801     -999.0    -999.0     43.099\n",
       "  107.961   85.2     75.67    42.009     -999.0    -999.0     49.231"
      ]
     },
     "execution_count": 17,
     "metadata": {},
     "output_type": "execute_result"
    }
   ],
   "source": [
    "datatest=dtest[1][:,2:31]"
   ]
  },
  {
   "cell_type": "code",
   "execution_count": 18,
   "metadata": {
    "collapsed": false
   },
   "outputs": [
    {
     "data": {
      "text/plain": [
       "Array{Float64,2}"
      ]
     },
     "execution_count": 18,
     "metadata": {},
     "output_type": "execute_result"
    }
   ],
   "source": [
    "typeof(datatest)"
   ]
  },
  {
   "cell_type": "code",
   "execution_count": 19,
   "metadata": {
    "collapsed": false
   },
   "outputs": [
    {
     "data": {
      "text/plain": [
       "0.0"
      ]
     },
     "execution_count": 19,
     "metadata": {},
     "output_type": "execute_result"
    }
   ],
   "source": [
    "idx0 = findin(datatest,0.0)\n",
    "datatest[idx0]=eps()\n",
    "idx9=findin(datatest, -999.0)\n",
    "datatest[idx9]=0.0\n"
   ]
  },
  {
   "cell_type": "code",
   "execution_count": 20,
   "metadata": {
    "collapsed": false
   },
   "outputs": [
    {
     "data": {
      "text/plain": [
       "550000x30 sparse matrix with 12960567 Float64 entries:\n",
       "\t[2     ,      1]  =  106.398\n",
       "\t[3     ,      1]  =  117.794\n",
       "\t[4     ,      1]  =  135.861\n",
       "\t[5     ,      1]  =  74.159\n",
       "\t[6     ,      1]  =  95.709\n",
       "\t[7     ,      1]  =  85.798\n",
       "\t[8     ,      1]  =  429.273\n",
       "\t[9     ,      1]  =  70.958\n",
       "\t[10    ,      1]  =  110.539\n",
       "\t[11    ,      1]  =  89.921\n",
       "\t⋮\n",
       "\t[549987,     30]  =  2.22045e-16\n",
       "\t[549989,     30]  =  246.129\n",
       "\t[549990,     30]  =  2.22045e-16\n",
       "\t[549991,     30]  =  2.22045e-16\n",
       "\t[549992,     30]  =  78.396\n",
       "\t[549993,     30]  =  2.22045e-16\n",
       "\t[549994,     30]  =  110.327\n",
       "\t[549995,     30]  =  98.494\n",
       "\t[549996,     30]  =  97.451\n",
       "\t[549999,     30]  =  43.099\n",
       "\t[550000,     30]  =  49.231"
      ]
     },
     "execution_count": 20,
     "metadata": {},
     "output_type": "execute_result"
    }
   ],
   "source": [
    "test = sparse(datatest)"
   ]
  },
  {
   "cell_type": "code",
   "execution_count": 22,
   "metadata": {
    "collapsed": false
   },
   "outputs": [
    {
     "data": {
      "text/plain": [
       "550000-element Array{Float32,1}:\n",
       "  0.547127\n",
       "  4.5685  \n",
       "  6.3327  \n",
       "  7.91321 \n",
       "  0.815153\n",
       "  3.26169 \n",
       "  4.59102 \n",
       " -2.47866 \n",
       "  2.41904 \n",
       "  7.78133 \n",
       "  3.20014 \n",
       "  4.57928 \n",
       "  6.2027  \n",
       "  ⋮       \n",
       "  6.15356 \n",
       "  2.82534 \n",
       "  4.23187 \n",
       "  2.89811 \n",
       "  7.60106 \n",
       "  0.589281\n",
       " -0.208251\n",
       "  3.11921 \n",
       "  6.17333 \n",
       "  3.85057 \n",
       "  6.20555 \n",
       "  5.32127 "
      ]
     },
     "execution_count": 22,
     "metadata": {},
     "output_type": "execute_result"
    }
   ],
   "source": [
    "preds = predict(bst, test)"
   ]
  },
  {
   "cell_type": "code",
   "execution_count": null,
   "metadata": {
    "collapsed": true
   },
   "outputs": [],
   "source": []
  }
 ],
 "metadata": {
  "kernelspec": {
   "display_name": "Julia 0.4.5",
   "language": "julia",
   "name": "julia-0.4"
  },
  "language_info": {
   "file_extension": ".jl",
   "mimetype": "application/julia",
   "name": "julia",
   "version": "0.4.5"
  }
 },
 "nbformat": 4,
 "nbformat_minor": 0
}
