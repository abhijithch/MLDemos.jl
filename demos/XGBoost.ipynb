{
 "cells": [
  {
   "cell_type": "markdown",
   "metadata": {},
   "source": [
    "# XGBoost.jl - quickest ways to win data science competitions"
   ]
  },
  {
   "cell_type": "markdown",
   "metadata": {},
   "source": [
    "Here is an example of how a single non-ensembled model can achieve high ranking scores using XGBoost, which is an optimized distributed gradient boosting library designed to be highly efficient, flexible and portable."
   ]
  },
  {
   "cell_type": "markdown",
   "metadata": {},
   "source": [
    "### Distinguishing poisonous vs edible mushrooms"
   ]
  },
  {
   "cell_type": "markdown",
   "metadata": {},
   "source": [
    "Based on 8142 instances and 22 attributes like, odor, habitat, color, etc, we can easily and accurately classify mushrooms as poisonous or edible and in few cases of unknown edibility and hence not recommended. \n",
    "\n",
    "The Agaricus genus contains the most widely consumed and best-known mushroom today, but there are poisonous ones among them as well. The dataset consists of 8142 observations of Agaricus and Lepiota Family, this is a multivariate dataset with 22 characteristic attributes and classified into 2 classes, edible and poisonous.\n",
    "\n",
    "![Agaricus californicus](../data/mushroom/ACP.jpg) ![Agaricus campestris](../data/mushroom/ACE2.jpg)"
   ]
  },
  {
   "cell_type": "code",
   "execution_count": 12,
   "metadata": {
    "collapsed": false
   },
   "outputs": [],
   "source": [
    "using XGBoost\n",
    "include(\"$(Pkg.dir())/MLDemos/src/xgboost/mushroom.jl\")\n",
    "path = \"$(Pkg.dir())/MLDemos/\";"
   ]
  },
  {
   "cell_type": "code",
   "execution_count": 11,
   "metadata": {
    "collapsed": false
   },
   "outputs": [
    {
     "name": "stdout",
     "output_type": "stream",
     "text": [
      "ACE2.jpg\n",
      "ACE.jpg\n",
      "ACP.jpg\n",
      "Agaricus_californicus(P).jpg\n",
      "Agaricus campestris 1 Michael Beug.jpg\n",
      "Agaricus_campestris(E).jpg\n",
      "agaricus.txt.test\n",
      "agaricus.txt.train\n",
      "Agaricus_xanthoderma(P).jpg\n"
     ]
    }
   ],
   "source": [
    ";ls /home/abhijithc/.julia/v0.4/MLDemos/data/mushroom/"
   ]
  },
  {
   "cell_type": "markdown",
   "metadata": {},
   "source": [
    "#### We use auxiliary function to read LIBSVM format into julia Matrix.\n"
   ]
  },
  {
   "cell_type": "code",
   "execution_count": 13,
   "metadata": {
    "collapsed": false
   },
   "outputs": [
    {
     "name": "stderr",
     "output_type": "stream",
     "text": [
      "WARNING: int(s::AbstractString) is deprecated, use parse(Int,s) instead.\n",
      " in depwarn at deprecated.jl:73\n",
      " in int at deprecated.jl:50\n",
      " in readlibsvm at /home/abhijithc/.julia/v0.4/MLDemos/src/xgboost/mushroom.jl:16\n",
      " in include_string at loading.jl:282\n",
      " in execute_request_0x535c5df2 at /home/abhijithc/.julia/v0.4/IJulia/src/execute_request.jl:183\n",
      " in eventloop at /home/abhijithc/.julia/v0.4/IJulia/src/IJulia.jl:143\n",
      " in anonymous at task.jl:447\n",
      "while loading In[13], in expression starting on line 1\n"
     ]
    },
    {
     "data": {
      "text/plain": [
       "(\n",
       "1611x126 Array{Float32,2}:\n",
       " 1.0  0.0  0.0  0.0  0.0  0.0  0.0  0.0  …  0.0  0.0  1.0  0.0  0.0  0.0  0.0\n",
       " 0.0  0.0  1.0  0.0  0.0  0.0  0.0  0.0     0.0  0.0  0.0  0.0  1.0  0.0  0.0\n",
       " 1.0  0.0  0.0  0.0  0.0  0.0  0.0  0.0     0.0  0.0  1.0  0.0  0.0  0.0  0.0\n",
       " 0.0  0.0  1.0  0.0  0.0  0.0  0.0  0.0     0.0  0.0  1.0  0.0  0.0  0.0  0.0\n",
       " 0.0  0.0  0.0  1.0  0.0  0.0  1.0  0.0     0.0  0.0  0.0  0.0  1.0  0.0  0.0\n",
       " 0.0  0.0  1.0  0.0  0.0  0.0  0.0  0.0  …  0.0  0.0  0.0  0.0  0.0  0.0  1.0\n",
       " 0.0  0.0  1.0  0.0  0.0  0.0  0.0  0.0     0.0  0.0  0.0  0.0  1.0  0.0  0.0\n",
       " 1.0  0.0  0.0  0.0  0.0  0.0  0.0  0.0     1.0  0.0  0.0  0.0  0.0  0.0  0.0\n",
       " 0.0  0.0  1.0  0.0  0.0  0.0  0.0  0.0     1.0  0.0  0.0  0.0  0.0  0.0  0.0\n",
       " 0.0  0.0  0.0  1.0  0.0  0.0  0.0  0.0     0.0  0.0  0.0  1.0  0.0  0.0  0.0\n",
       " 0.0  0.0  1.0  0.0  0.0  0.0  0.0  0.0  …  0.0  0.0  0.0  0.0  1.0  0.0  0.0\n",
       " 1.0  0.0  0.0  0.0  0.0  0.0  0.0  0.0     0.0  0.0  1.0  0.0  0.0  0.0  0.0\n",
       " 0.0  0.0  0.0  1.0  0.0  0.0  1.0  0.0     1.0  0.0  0.0  0.0  0.0  0.0  0.0\n",
       " ⋮                        ⋮              ⋱       ⋮                        ⋮  \n",
       " 0.0  0.0  0.0  0.0  1.0  0.0  0.0  0.0     0.0  0.0  0.0  1.0  0.0  0.0  0.0\n",
       " 0.0  0.0  0.0  0.0  1.0  0.0  0.0  0.0  …  0.0  1.0  0.0  0.0  0.0  0.0  0.0\n",
       " 0.0  0.0  0.0  0.0  1.0  0.0  0.0  0.0     0.0  1.0  0.0  0.0  0.0  0.0  0.0\n",
       " 1.0  0.0  0.0  0.0  0.0  0.0  1.0  0.0     1.0  0.0  0.0  0.0  0.0  0.0  0.0\n",
       " 0.0  0.0  0.0  0.0  1.0  0.0  0.0  0.0     0.0  1.0  0.0  0.0  0.0  0.0  0.0\n",
       " 1.0  0.0  0.0  0.0  0.0  0.0  0.0  0.0     1.0  0.0  0.0  0.0  0.0  0.0  0.0\n",
       " 0.0  0.0  0.0  0.0  1.0  0.0  1.0  0.0  …  1.0  0.0  0.0  0.0  0.0  0.0  0.0\n",
       " 0.0  0.0  0.0  0.0  1.0  0.0  1.0  0.0     1.0  0.0  0.0  0.0  0.0  0.0  0.0\n",
       " 0.0  0.0  0.0  0.0  1.0  0.0  0.0  0.0     1.0  0.0  0.0  0.0  0.0  0.0  0.0\n",
       " 0.0  0.0  0.0  0.0  1.0  0.0  0.0  0.0     0.0  0.0  0.0  0.0  0.0  0.0  1.0\n",
       " 0.0  0.0  0.0  0.0  1.0  0.0  0.0  0.0     0.0  1.0  0.0  0.0  0.0  0.0  0.0\n",
       " 0.0  0.0  0.0  0.0  1.0  0.0  0.0  0.0  …  0.0  1.0  0.0  0.0  0.0  0.0  0.0,\n",
       "\n",
       "Float32[0.0,1.0,0.0,0.0,0.0,0.0,1.0,0.0,1.0,0.0  …  0.0,0.0,1.0,0.0,0.0,0.0,0.0,1.0,0.0,1.0])"
      ]
     },
     "execution_count": 13,
     "metadata": {},
     "output_type": "execute_result"
    }
   ],
   "source": [
    "train_X, train_Y = readlibsvm(\"$(path)data/mushroom/agaricus.txt.train\", (6513, 126))\n",
    "test_X, test_Y = readlibsvm(\"$(path)data/mushroom/agaricus.txt.test\", (1611, 126))"
   ]
  },
  {
   "cell_type": "markdown",
   "metadata": {},
   "source": [
    "#### Basic training using XGBoost :\n",
    "You can directly pass julia's matrix or sparse matrix as data,"
   ]
  },
  {
   "cell_type": "code",
   "execution_count": null,
   "metadata": {
    "collapsed": true
   },
   "outputs": [],
   "source": [
    "num_round = 2\n",
    "\n",
    "print(\"training xgboost with dense matrix\\n\")\n",
    "bst = xgboost(train_X, num_round, label = train_Y, eta=1, max_depth=2, objective=\"binary:logistic\")\n",
    "\n",
    "print(\"training xgboost with sparse matrix\\n\")\n",
    "sptrain = sparse(train_X)\n"
   ]
  },
  {
   "cell_type": "markdown",
   "metadata": {},
   "source": [
    "#### Alternatively, you can pass parameters in as a map"
   ]
  },
  {
   "cell_type": "code",
   "execution_count": 7,
   "metadata": {
    "collapsed": false
   },
   "outputs": [
    {
     "name": "stderr",
     "output_type": "stream",
     "text": [
      "\n",
      "WARNING: deprecated syntax \"[a=>b, ...]\" at In[7]:1.\n",
      "Use \"Dict(a=>b, ...)\" instead.\n"
     ]
    },
    {
     "ename": "LoadError",
     "evalue": "LoadError: UndefVarError: train_Y not defined\nwhile loading In[7], in expression starting on line 155",
     "output_type": "error",
     "traceback": [
      "LoadError: UndefVarError: train_Y not defined\nwhile loading In[7], in expression starting on line 155",
      ""
     ]
    }
   ],
   "source": [
    "param = [\"max_depth\"=>2, \"eta\"=>1, \"objective\"=>\"binary:logistic\"]\n",
    "@time bst = xgboost(sptrain, num_round, label = train_Y, param=param)"
   ]
  },
  {
   "cell_type": "markdown",
   "metadata": {},
   "source": [
    "#### You can also put in xgboost's DMatrix object. DMatrix stores label, data and other meta datas needed for advanced features"
   ]
  },
  {
   "cell_type": "code",
   "execution_count": null,
   "metadata": {
    "collapsed": true
   },
   "outputs": [],
   "source": [
    "print(\"training xgboost with DMatrix\\n\")\n",
    "dtrain = DMatrix(train_X, label = train_Y)\n",
    "bst = xgboost(dtrain, num_round, eta = 1, objective = \"binary:logistic\")"
   ]
  },
  {
   "cell_type": "markdown",
   "metadata": {},
   "source": [
    "### -----Basic prediction using XGBoost-----\n",
    "\n",
    "#### You can put in Matrix, SparseMatrix or DMatrix"
   ]
  }
 ],
 "metadata": {
  "kernelspec": {
   "display_name": "Julia 0.4.5",
   "language": "julia",
   "name": "julia-0.4"
  },
  "language_info": {
   "file_extension": ".jl",
   "mimetype": "application/julia",
   "name": "julia",
   "version": "0.4.5"
  }
 },
 "nbformat": 4,
 "nbformat_minor": 0
}
