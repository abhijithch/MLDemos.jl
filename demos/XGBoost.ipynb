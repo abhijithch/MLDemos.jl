{
 "cells": [
  {
   "cell_type": "markdown",
   "metadata": {},
   "source": [
    "# XGBoost.jl - quickest ways to win data science competitions"
   ]
  },
  {
   "cell_type": "markdown",
   "metadata": {},
   "source": [
    "Here is an example of how a single non-ensembled model can achieve high ranking scores using XGBoost, which is an optimized distributed gradient boosting library designed to be highly efficient, flexible and portable."
   ]
  },
  {
   "cell_type": "markdown",
   "metadata": {},
   "source": [
    "## Highlights of XGBoost\n",
    "\n",
    "*  ### Distributed on Cloud\n",
    "  Supports distributed training on multiple machines, including AWS, GCE, Azure, and Yarn clusters. Can be integrated with Flink, Spark and other cloud dataflow systems.\n",
    "* ### Battle-tested\n",
    "  Wins many data science and machine learning challenges. Used in production by multiple companies.\n",
    "* ### Flexible\n",
    "  Supports regression, classification, ranking and user defined objectives."
   ]
  },
  {
   "cell_type": "markdown",
   "metadata": {},
   "source": [
    "### Distinguishing poisonous vs edible mushrooms"
   ]
  },
  {
   "cell_type": "markdown",
   "metadata": {},
   "source": [
    "Based on 8142 instances and 22 attributes like, odor, habitat, color, etc, we can easily and accurately classify mushrooms as poisonous or edible and in few cases of unknown edibility and hence not recommended. \n",
    "\n",
    "The Agaricus genus contains the most widely consumed and best-known mushroom today, but there are poisonous ones among them as well. The dataset consists of 8142 observations of Agaricus and Lepiota Family, this is a multivariate dataset with 22 characteristic attributes and classified into 2 classes, edible and poisonous.\n",
    "\n",
    "![Agaricus californicus](ACP.jpg) ![Agaricus campestris](ACE2.jpg)"
   ]
  },
  {
   "cell_type": "code",
   "execution_count": 34,
   "metadata": {
    "collapsed": false
   },
   "outputs": [],
   "source": [
    "using XGBoost, DataFrames, Gadfly, GLM\n",
    "include(\"$(Pkg.dir())/MLDemos/src/xgboost/mushroom.jl\");\n",
    "path = \"$(Pkg.dir())/MLDemos/\";"
   ]
  },
  {
   "cell_type": "markdown",
   "metadata": {},
   "source": [
    "#### We use auxiliary function to read LIBSVM format into julia Matrix.\n",
    "\n",
    "Each line represent a single instance, and in the first line '1' is the instance label,'101' and '102' are feature indices, '1.2' and '0.03' are feature values.\n",
    "\n",
    "Ex. :\n",
    "\n",
    "1 2:1 9:1 10:1 20:1 29:1 33:1 35:1 39:1 40:1 52:1 57:1 64:1 68:1 76:1 85:1 87:1 91:1 94:1 101:1 104:1 116:1 123:1\n",
    "\n",
    "0 2:1 9:1 19:1 20:1 22:1 33:1 35:1 38:1 40:1 52:1 55:1 64:1 68:1 76:1 85:1 87:1 91:1 94:1 101:1 105:1 115:1 119:1"
   ]
  },
  {
   "cell_type": "markdown",
   "metadata": {},
   "source": [
    "### Attribute Information:\n",
    "\n",
    "1. cap-shape: bell=b,conical=c,convex=x,flat=f, knobbed=k,sunken=s \n",
    "2. cap-surface: fibrous=f,grooves=g,scaly=y,smooth=s \n",
    "3. cap-color: brown=n,buff=b,cinnamon=c,gray=g,green=r, pink=p,purple=u,red=e,white=w,yellow=y \n",
    "4. bruises?: bruises=t,no=f \n",
    "5. odor: almond=a,anise=l,creosote=c,fishy=y,foul=f, musty=m,none=n,pungent=p,spicy=s \n",
    "6. gill-attachment: attached=a,descending=d,free=f,notched=n \n",
    "7. gill-spacing: close=c,crowded=w,distant=d \n",
    "8. gill-size: broad=b,narrow=n \n",
    "9. gill-color: black=k,brown=n,buff=b,chocolate=h,gray=g, green=r,orange=o,pink=p,purple=u,red=e, white=w,yellow=y \n",
    "10. stalk-shape: enlarging=e,tapering=t \n",
    "11. stalk-root: bulbous=b,club=c,cup=u,equal=e, rhizomorphs=z,rooted=r,missing=? \n",
    "12. stalk-surface-above-ring: fibrous=f,scaly=y,silky=k,smooth=s \n",
    "13. stalk-surface-below-ring: fibrous=f,scaly=y,silky=k,smooth=s \n",
    "14. stalk-color-above-ring: brown=n,buff=b,cinnamon=c,gray=g,orange=o, pink=p,red=e,white=w,yellow=y \n",
    "15. stalk-color-below-ring: brown=n,buff=b,cinnamon=c,gray=g,orange=o, pink=p,red=e,white=w,yellow=y \n",
    "16. veil-type: partial=p,universal=u \n",
    "17. veil-color: brown=n,orange=o,white=w,yellow=y \n",
    "18. ring-number: none=n,one=o,two=t \n",
    "19. ring-type: cobwebby=c,evanescent=e,flaring=f,large=l, none=n,pendant=p,sheathing=s,zone=z \n",
    "20. spore-print-color: black=k,brown=n,buff=b,chocolate=h,green=r, orange=o,purple=u,white=w,yellow=y \n",
    "21. population: abundant=a,clustered=c,numerous=n, scattered=s,several=v,solitary=y \n",
    "22. habitat: grasses=g,leaves=l,meadows=m,paths=p, urban=u,waste=w,woods=d\n",
    "\n"
   ]
  },
  {
   "cell_type": "code",
   "execution_count": 40,
   "metadata": {
    "collapsed": false
   },
   "outputs": [
    {
     "data": {
      "text/plain": [
       "Dict{Int64,ASCIIString} with 112 entries:\n",
       "  68  => \"stalk-color-below-ring: cinnamon\"\n",
       "  89  => \"ring-type: pendant\"\n",
       "  11  => \"cap-color: brown\"\n",
       "  39  => \"gill-size: broad\"\n",
       "  46  => \"gill-color: green\"\n",
       "  85  => \"ring-type: evanescent\"\n",
       "  25  => \"odor: acreosote\"\n",
       "  55  => \"stalk-root: bulbous\"\n",
       "  42  => \"gill-color: brown\"\n",
       "  29  => \"odor: none\"\n",
       "  58  => \"stalk-root: equal\"\n",
       "  66  => \"stalk-color-below-ring: brown\"\n",
       "  59  => \"stalk-root: rhizomorphs\"\n",
       "  8   => \"cap-surface:grooves\"\n",
       "  74  => \"stalk-color-below-ring: yellow\"\n",
       "  95  => \"spore-print-color: chocolate\"\n",
       "  57  => \"stalk-root: cup\"\n",
       "  20  => \"cap-color: yellow\"\n",
       "  90  => \"ring-type: sheathing\"\n",
       "  111 => \"habitat: urban\"\n",
       "  14  => \"cap-color: gray\"\n",
       "  31  => \"odor: spicy\"\n",
       "  78  => \"veil-color: orange\"\n",
       "  112 => \"habitat: waste\"\n",
       "  70  => \"stalk-color-below-ring: orange\"\n",
       "  ⋮   => ⋮"
      ]
     },
     "execution_count": 40,
     "metadata": {},
     "output_type": "execute_result"
    }
   ],
   "source": [
    "attribute_dict = Dict(1=>\"cap-shape:bell\",2=>\"cap-shape:conical\",3=>\"cap-shape:convex\",4=>\"cap-shape:flat\",5=>\"cap-shape:knobbed\",6=>\"cap-shape:sunken\",\n",
    "7=>\"cap-surface: fibrous\",8=>\"cap-surface:grooves\",9=>\"cap-surface:scaly\",10=>\"cap-surface:smooth\",\n",
    "11=>\"cap-color: brown\",12=>\"cap-color: buff\",13=>\"cap-color: cinnamon\",14=>\"cap-color: gray\",15=>\"cap-color: green\", 16=>\"cap-color: pink\",17=>\"cap-color: purple\",18=>\"cap-color: red\",19=>\"cap-color: white\",20=>\"cap-color: yellow\",\n",
    "21=>\"bruises?: yes\",22=>\"bruises?: no\",\n",
    "23=>\"odor: almond\",24=>\"odor: anise\",25=>\"odor: acreosote\",26=>\"odor: fishy\",27=>\"odor: foul\", 28=>\"odor: musty\",29=>\"odor: none\",30=>\"odor: pungent\",31=>\"odor: spicy\",\n",
    "32=>\"gill-attachment: attached\",33=>\"gill-attachment: descending\",34=>\"gill-attachment: free\",35=>\"gill-attachment: notched\",\n",
    "36=>\"gill-spacing: close\",37=>\"gill-spacing: crowded\",38=>\"gill-spacing: distant\",\n",
    "39=>\"gill-size: broad\",40=>\"gill-size: narrow\",\n",
    "41=>\"gill-color: black\",42=>\"gill-color: brown\",43=>\"gill-color: buff\",44=>\"gill-color: chocolate\",45=>\"gill-color: gray\", 46=>\"gill-color: green\",47=>\"gill-color: orange\",48=>\"gill-color: pink\",49=>\"gill-color: purple\",50=>\"gill-color: red\", 51=>\"gill-color: white\",52=>\"gill-color: yellow\",\n",
    "53=>\"stalk-shape: enlarging\",54=>\"stalk-shape: tapering\",\n",
    "55=>\"stalk-root: bulbous\",56=>\"stalk-root: club\",57=>\"stalk-root: cup\",58=>\"stalk-root: equal\", 59=>\"stalk-root: rhizomorphs\",60=>\"stalk-root: rooted\",61=>\"stalk-root: missing\",\n",
    "62=>\"stalk-surface-above-ring: fibrous\",63=>\"stalk-surface-above-ring: scaly\",64=>\"stalk-surface-above-ring: silky\",65=>\"stalk-surface-above-ring: smooth\",\n",
    "66=>\"stalk-color-below-ring: brown\",67=>\"stalk-color-below-ring: buff\",68=>\"stalk-color-below-ring: cinnamon\",69=>\"stalk-color-below-ring: gray\",70=>\"stalk-color-below-ring: orange\", 71=>\"stalk-color-below-ring: pink\",72=>\"stalk-color-below-ring: red\",73=>\"stalk-color-below-ring: white\",74=>\"stalk-color-below-ring: yellow\",\n",
    "75=>\"veil-type: partial\",76=>\"veil-type: universal\",\n",
    "77=>\"veil-color: brown\",78=>\"veil-color: orange\",79=>\"veil-color: white\",80=>\"veil-color: yellow\",\n",
    "81=>\"ring-number: none\",82=>\"ring-number: one\",83=>\"ring-number: two\",\n",
    "84=>\"ring-type: cobwebby\",85=>\"ring-type: evanescent\",86=>\"ring-type: flaring\",87=>\"ring-type: large\", 88=>\"ring-type: none\",89=>\"ring-type: pendant\",90=>\"ring-type: sheathing\",91=>\"ring-type: zone\",\n",
    "92=>\"spore-print-color: black\",93=>\"spore-print-color: brown\",94=>\"spore-print-color: buff\",95=>\"spore-print-color: chocolate\",96=>\"spore-print-color: green\", 97=>\"spore-print-color: orange\",98=>\"spore-print-color: purple\",99=>\"spore-print-color: white\",100=>\"spore-print-color: yellow\",\n",
    "101=>\"population: abundant\",102=>\"population: clustered\",103=>\"population: numerous\", 104=>\"population: scattered\",105=>\"population: several\",106=>\"population: solitary\",\n",
    "107=>\"habitat: grasses\",108=>\"habitat: leaves\",109=>\"habitat: meadows\",110=>\"habitat: paths\", 111=>\"habitat: urban\",112=>\"habitat: waste\",113=>\"habitat: woods\")"
   ]
  },
  {
   "cell_type": "code",
   "execution_count": 4,
   "metadata": {
    "collapsed": false
   },
   "outputs": [],
   "source": [
    "train_X, train_Y = readlibsvm(\"$(path)data/mushroom/agaricus.txt.train\", (6513, 126));\n",
    "test_X, test_Y = readlibsvm(\"$(path)data/mushroom/agaricus.txt.test\", (1611, 126));"
   ]
  },
  {
   "cell_type": "markdown",
   "metadata": {},
   "source": [
    "#### Basic training using XGBoost :\n",
    "You can directly pass julia's matrix as data,"
   ]
  },
  {
   "cell_type": "code",
   "execution_count": 52,
   "metadata": {
    "collapsed": false
   },
   "outputs": [
    {
     "name": "stdout",
     "output_type": "stream",
     "text": [
      "training xgboost with dense matrix\n",
      "  0.024368 seconds (146 allocations: 3.137 MB)\n"
     ]
    },
    {
     "name": "stderr",
     "output_type": "stream",
     "text": [
      "[1]\ttrain-error:0.046522\n",
      "[2]\ttrain-error:0.022263\n"
     ]
    }
   ],
   "source": [
    "num_round = 2;\n",
    "\n",
    "print(\"training xgboost with dense matrix\\n\");\n",
    "@time bst1 = xgboost(train_X, num_round, label = train_Y, eta=1, max_depth=2, objective=\"binary:logistic\");\n"
   ]
  },
  {
   "cell_type": "markdown",
   "metadata": {},
   "source": [
    "#### Alternatively, you can sparse matrix as data and also pass parameters in as a map"
   ]
  },
  {
   "cell_type": "code",
   "execution_count": 8,
   "metadata": {
    "collapsed": false
   },
   "outputs": [
    {
     "name": "stdout",
     "output_type": "stream",
     "text": [
      "training xgboost with sparse matrix\n",
      "  0.005247 seconds (131 allocations: 1.648 MB)\n"
     ]
    },
    {
     "name": "stderr",
     "output_type": "stream",
     "text": [
      "\n",
      "WARNING: deprecated syntax \"[a=>b, ...]\" at In[8]:3.\n",
      "Use \"Dict(a=>b, ...)\" instead.\n",
      "[1]\ttrain-error:0.046522\n",
      "[2]\ttrain-error:0.022263\n"
     ]
    },
    {
     "data": {
      "text/plain": [
       "XGBoost.Booster(Ptr{Void} @0x00000000045db0c0)"
      ]
     },
     "execution_count": 8,
     "metadata": {},
     "output_type": "execute_result"
    }
   ],
   "source": [
    "print(\"training xgboost with sparse matrix\\n\");\n",
    "sptrain = sparse(train_X);\n",
    "param = [\"max_depth\"=>2, \"eta\"=>1, \"objective\"=>\"binary:logistic\"]\n",
    "@time bst = xgboost(sptrain, num_round, label = train_Y, param=param)"
   ]
  },
  {
   "cell_type": "markdown",
   "metadata": {},
   "source": [
    "#### You can also put in xgboost's DMatrix object. DMatrix stores label, data and other metadata needed for advanced features"
   ]
  },
  {
   "cell_type": "code",
   "execution_count": 51,
   "metadata": {
    "collapsed": false
   },
   "outputs": [
    {
     "name": "stdout",
     "output_type": "stream",
     "text": [
      "training xgboost with DMatrix\n",
      "4\n",
      "  0.030044 seconds (196 allocations: 8.766 KB)\n"
     ]
    },
    {
     "name": "stderr",
     "output_type": "stream",
     "text": [
      "[1]\ttrain-error:0.000614\n",
      "[2]\ttrain-error:0.000000\n",
      "[3]\ttrain-error:0.000000\n",
      "[4]\ttrain-error:0.000000\n"
     ]
    },
    {
     "data": {
      "text/plain": [
       "XGBoost.Booster(Ptr{Void} @0x0000000006009950)"
      ]
     },
     "execution_count": 51,
     "metadata": {},
     "output_type": "execute_result"
    }
   ],
   "source": [
    "print(\"training xgboost with DMatrix\\n\")\n",
    "dtrain = DMatrix(train_X, label = train_Y)\n",
    "println(num_round)\n",
    "@time bst = xgboost(dtrain, num_round, eta = 1, objective = \"binary:logistic\")"
   ]
  },
  {
   "cell_type": "markdown",
   "metadata": {},
   "source": [
    "### -----Basic prediction using XGBoost-----\n",
    "\n",
    "#### You can put in Matrix, SparseMatrix or DMatrix"
   ]
  },
  {
   "cell_type": "code",
   "execution_count": 7,
   "metadata": {
    "collapsed": false
   },
   "outputs": [
    {
     "name": "stdout",
     "output_type": "stream",
     "text": [
      "test-error=0.021725636250775917\n"
     ]
    }
   ],
   "source": [
    "preds1 = predict(bst1, test_X)\n",
    "print(\"test-error=\", sum((preds1 .> 0.5) .!= test_Y) / float(size(preds1)[1]), \"\\n\")"
   ]
  },
  {
   "cell_type": "markdown",
   "metadata": {},
   "source": [
    "#### The error is only 2.1%. "
   ]
  },
  {
   "cell_type": "markdown",
   "metadata": {},
   "source": [
    "### Lets find out if we can eat a few test mushrooms :"
   ]
  },
  {
   "cell_type": "code",
   "execution_count": 75,
   "metadata": {
    "collapsed": false
   },
   "outputs": [
    {
     "name": "stdout",
     "output_type": "stream",
     "text": [
      "int(preds[n]) = 0\n",
      "cap-shape:bell\n",
      "cap-surface:scaly\n",
      "cap-color: yellow\n",
      "bruises?: yes\n",
      "odor: anise\n",
      "gill-attachment: free\n",
      "gill-spacing: close\n",
      "gill-size: broad\n",
      "gill-color: black\n",
      "stalk-shape: enlarging\n",
      "stalk-root: club\n",
      "stalk-surface-above-ring: smooth\n",
      "stalk-color-below-ring: gray\n",
      "veil-color: brown\n",
      "ring-type: flaring\n",
      "ring-type: none\n",
      "spore-print-color: black\n",
      "spore-print-color: chocolate\n",
      "population: clustered\n",
      "population: solitary\n",
      "stalk-surface-below-ring: smooth\n"
     ]
    },
    {
     "ename": "LoadError",
     "evalue": "LoadError: KeyError: 122 not found\nwhile loading In[75], in expression starting on line 5",
     "output_type": "error",
     "traceback": [
      "LoadError: KeyError: 122 not found\nwhile loading In[75], in expression starting on line 5",
      "",
      " in getindex at dict.jl:724",
      " in describe_mushroom at In[67]:3"
     ]
    }
   ],
   "source": [
    "# To find if the mushroon in the test set(1<n<1611) is edible or not: ~= 1 edible, `= 0 poisonous.\n",
    "n=3\n",
    "attribs = find(test_X[n,:])\n",
    "@show int(preds[n])\n",
    "describe_mushroom(n);"
   ]
  },
  {
   "cell_type": "code",
   "execution_count": 67,
   "metadata": {
    "collapsed": false
   },
   "outputs": [
    {
     "data": {
      "text/plain": [
       "describe_mushroom (generic function with 1 method)"
      ]
     },
     "execution_count": 67,
     "metadata": {},
     "output_type": "execute_result"
    }
   ],
   "source": [
    "function describe_mushroom(n)\n",
    "    for i =1:length(attribs)\n",
    "        println(attribute_dict[attribs[i]])\n",
    "    end\n",
    "end"
   ]
  },
  {
   "cell_type": "markdown",
   "metadata": {
    "collapsed": false
   },
   "source": [
    "### XGBoost to solve as linear solver :"
   ]
  },
  {
   "cell_type": "markdown",
   "metadata": {
    "collapsed": true
   },
   "source": [
    "Solving the same problem not using linear models instead of trees,"
   ]
  },
  {
   "cell_type": "code",
   "execution_count": 35,
   "metadata": {
    "collapsed": false
   },
   "outputs": [
    {
     "data": {
      "text/plain": [
       "Dict{ASCIIString,Any} with 6 entries:\n",
       "  \"alpha\"     => 0.0001\n",
       "  \"objective\" => \"binary:logistic\"\n",
       "  \"lambda\"    => 1\n",
       "  \"eta\"       => 1\n",
       "  \"booster\"   => \"gblinear\"\n",
       "  \"silent\"    => 0"
      ]
     },
     "execution_count": 35,
     "metadata": {},
     "output_type": "execute_result"
    }
   ],
   "source": [
    "param_lm = Dict(\"booster\"=>\"gblinear\", \"eta\"=>1, \"silent\"=>0,\n",
    "         \"objective\"=>\"binary:logistic\", \"alpha\"=>0.0001, \"lambda\"=>1)"
   ]
  },
  {
   "cell_type": "code",
   "execution_count": 18,
   "metadata": {
    "collapsed": false
   },
   "outputs": [
    {
     "name": "stdout",
     "output_type": "stream",
     "text": [
      "6513x126 matrix with 143286 entries is loaded from ../data/mushroom/agaricus.txt.train\n",
      "1611x126 matrix with 35442 entries is loaded from ../data/mushroom/agaricus.txt.test\n"
     ]
    },
    {
     "data": {
      "text/plain": [
       "4"
      ]
     },
     "execution_count": 18,
     "metadata": {},
     "output_type": "execute_result"
    }
   ],
   "source": [
    "dtrain = DMatrix(\"../data/mushroom/agaricus.txt.train\")\n",
    "dtest = DMatrix(\"../data/mushroom/agaricus.txt.test\")\n",
    "watchlist  = [(dtest,\"eval\"), (dtrain,\"train\")]\n",
    "num_round = 4"
   ]
  },
  {
   "cell_type": "code",
   "execution_count": 36,
   "metadata": {
    "collapsed": false
   },
   "outputs": [
    {
     "name": "stderr",
     "output_type": "stream",
     "text": [
      "[1]\teval-error:0.065798\ttrain-error:0.051589\n",
      "[2]\teval-error:0.006828\ttrain-error:0.008291\n",
      "[3]\teval-error:0.001241\ttrain-error:0.003531\n",
      "[4]\teval-error:0.000621\ttrain-error:0.001382\n"
     ]
    },
    {
     "data": {
      "text/plain": [
       "XGBoost.Booster(Ptr{Void} @0x0000000005cbe790)"
      ]
     },
     "execution_count": 36,
     "metadata": {},
     "output_type": "execute_result"
    }
   ],
   "source": [
    "bst = xgboost(dtrain, num_round, param=param_lm, watchlist=watchlist)\n"
   ]
  },
  {
   "cell_type": "code",
   "execution_count": 22,
   "metadata": {
    "collapsed": false
   },
   "outputs": [
    {
     "data": {
      "text/plain": [
       "1611-element Array{Float32,1}:\n",
       " 0.0119101  \n",
       " 0.986318   \n",
       " 0.00978163 \n",
       " 0.00433835 \n",
       " 0.0479371  \n",
       " 0.04251    \n",
       " 0.972526   \n",
       " 0.0180784  \n",
       " 0.975881   \n",
       " 0.00829592 \n",
       " 0.981871   \n",
       " 0.0150381  \n",
       " 0.000560712\n",
       " ⋮          \n",
       " 0.999467   \n",
       " 0.0276137  \n",
       " 0.0266209  \n",
       " 0.0035387  \n",
       " 0.993822   \n",
       " 0.00399743 \n",
       " 0.00268785 \n",
       " 0.0376749  \n",
       " 0.00671114 \n",
       " 0.998771   \n",
       " 0.0237168  \n",
       " 0.997941   "
      ]
     },
     "execution_count": 22,
     "metadata": {},
     "output_type": "execute_result"
    }
   ],
   "source": [
    "preds_glm = predict(bst, dtest)"
   ]
  },
  {
   "cell_type": "code",
   "execution_count": 23,
   "metadata": {
    "collapsed": false
   },
   "outputs": [
    {
     "data": {
      "text/plain": [
       "1611-element Array{Float32,1}:\n",
       " 0.0\n",
       " 1.0\n",
       " 0.0\n",
       " 0.0\n",
       " 0.0\n",
       " 0.0\n",
       " 1.0\n",
       " 0.0\n",
       " 1.0\n",
       " 0.0\n",
       " 1.0\n",
       " 0.0\n",
       " 0.0\n",
       " ⋮  \n",
       " 1.0\n",
       " 0.0\n",
       " 0.0\n",
       " 0.0\n",
       " 1.0\n",
       " 0.0\n",
       " 0.0\n",
       " 0.0\n",
       " 0.0\n",
       " 1.0\n",
       " 0.0\n",
       " 1.0"
      ]
     },
     "execution_count": 23,
     "metadata": {},
     "output_type": "execute_result"
    }
   ],
   "source": [
    "labels = get_info(dtest, \"label\")"
   ]
  },
  {
   "cell_type": "code",
   "execution_count": 24,
   "metadata": {
    "collapsed": false
   },
   "outputs": [
    {
     "name": "stdout",
     "output_type": "stream",
     "text": [
      "test-error=0.0\n"
     ]
    }
   ],
   "source": [
    "\n",
    "print(\"test-error=\", sum((preds .> 0.5) .!= labels) / float(size(preds)[1]), \"\\n\")"
   ]
  },
  {
   "cell_type": "code",
   "execution_count": null,
   "metadata": {
    "collapsed": true
   },
   "outputs": [],
   "source": []
  }
 ],
 "metadata": {
  "kernelspec": {
   "display_name": "Julia 0.4.5",
   "language": "julia",
   "name": "julia-0.4"
  },
  "language_info": {
   "file_extension": ".jl",
   "mimetype": "application/julia",
   "name": "julia",
   "version": "0.4.5"
  }
 },
 "nbformat": 4,
 "nbformat_minor": 0
}
