{
 "cells": [
  {
   "cell_type": "code",
   "execution_count": 1,
   "metadata": {
    "collapsed": false
   },
   "outputs": [
    {
     "name": "stderr",
     "output_type": "stream",
     "text": [
      "INFO: Recompiling stale cache file /Users/abhijithc/.julia/lib/v0.4/LightXML.ji for module LightXML.\n",
      "INFO: Recompiling stale cache file /Users/abhijithc/.julia/lib/v0.4/HttpParser.ji for module HttpParser.\n",
      "INFO: Recompiling stale cache file /Users/abhijithc/.julia/lib/v0.4/Requests.ji for module Requests.\n",
      "INFO: Recompiling stale cache file /Users/abhijithc/.julia/lib/v0.4/MbedTLS.ji for module MbedTLS.\n",
      "INFO: Recompiling stale cache file /Users/abhijithc/.julia/lib/v0.4/Codecs.ji for module Codecs.\n"
     ]
    }
   ],
   "source": [
    "using MLDemos, DataFrames"
   ]
  },
  {
   "cell_type": "code",
   "execution_count": 2,
   "metadata": {
    "collapsed": false
   },
   "outputs": [
    {
     "data": {
      "text/html": [
       "<table class=\"data-frame\"><tr><th></th><th>Disease</th><th>Drug</th><th>Target</th></tr><tr><th>1</th><td>Epilepsy</td><td>Doxaprost</td><td>Gonadotropin-Releasing Hormone Receptor</td></tr><tr><th>2</th><td>Glaucoma</td><td>Doxazosin Mesylate</td><td>Metabotropic Glutamate Receptor 1</td></tr><tr><th>3</th><td>Arrhythmia</td><td>Doxepin Hydrochloride</td><td>Metabotropic Glutamate Receptor 2</td></tr><tr><th>4</th><td>Calculus Urinary</td><td>Doxycycline Hydrochloride</td><td>Metabotropic Glutamate Receptor 3</td></tr><tr><th>5</th><td>Seizures</td><td>Dracotanoside D</td><td>Pancreatic Alpha-Amylase</td></tr><tr><th>6</th><td>Pruritis</td><td>Dragonamide B</td><td>Lysosomal Alpha-Glucosidase</td></tr><tr><th>7</th><td>Cushings Syndrome</td><td>Dragonamide E</td><td>Carbonic Anhydrase 3</td></tr><tr><th>8</th><td>Deep Vein Thrombosis</td><td>Drobuline</td><td>Adenosine A3 Receptor</td></tr><tr><th>9</th><td>Hypertension Ocular</td><td>Drospirenone</td><td>Atp-Binding Cassette Transporter Sub-Family C Member 8</td></tr><tr><th>10</th><td>Arterial Occlusion Peripheral</td><td>Droxinavir Hydrochloride</td><td>Multidrug Resistance Protein 1</td></tr><tr><th>11</th><td>Bipolar Affective Disorder</td><td>Drupanin</td><td>Renin</td></tr><tr><th>12</th><td>Gilberts Syndrome</td><td>Kaad-Cyclopamine</td><td>Gamma-Aminobutyric Acid Receptor Subunit Gamma-1</td></tr><tr><th>13</th><td>Hyperbilirubinemia</td><td>Kabiramide K</td><td>Gamma-Aminobutyric Acid Receptor Subunit Gamma-3</td></tr><tr><th>14</th><td>Rheumatoid Arthritis</td><td>Kadcoccilactone A</td><td>Gamma-Aminobutyric Acid Receptor Subunit Theta</td></tr><tr><th>15</th><td>Rhinitis Seasonal Allergic</td><td>Kadcoccilactone C</td><td>Gamma-Aminobutyric Acid Receptor Subunit Rho-3</td></tr><tr><th>16</th><td>Myeloma Multiple</td><td>Kadcoccilactone D</td><td>Gamma-Aminobutyric-Acid Receptor Subunit Alpha-1</td></tr><tr><th>17</th><td>Opiate Dependence</td><td>Kadcoccilactone F</td><td>Neuronal Acetylcholine Receptor Subunit Alpha-10</td></tr><tr><th>18</th><td>Polycystic Ovarian Syndrome</td><td>Kadsulactone A</td><td>Calcium-Activated Potassium Channel Subunit Alpha 1</td></tr><tr><th>19</th><td>Transplant Bone Marrow</td><td>Kadsuphilol C</td><td>Methylenetetrahydrofolate Reductase</td></tr><tr><th>20</th><td>Central Nervous System Disorder</td><td>Kadsuphilol E</td><td>Glutamate Receptor 1</td></tr><tr><th>21</th><td>Deficiency Vitamin D</td><td>Kadsuracoccinic Acid A</td><td>Estrogen Receptor Beta</td></tr><tr><th>22</th><td>Nephropathy Diabetic</td><td>Kaempferitrin</td><td>Microtubule-Associated Protein 1a</td></tr><tr><th>23</th><td>Infection Rickettsia</td><td>Kaempferol</td><td>Low-Density Lipoprotein Receptor-Related Protein 2</td></tr><tr><th>24</th><td>Shigellosis</td><td>4-Medck Thiolactone</td><td>Atp-Sensitive Inward Rectifier Potassium Channel 1</td></tr><tr><th>25</th><td>Nervousness</td><td>4-Mercaptopyridine</td><td>Glutathione Peroxidase 6</td></tr><tr><th>26</th><td>Anesthesia Local</td><td>N-Heptanoyl-L-Homoserine Lactone</td><td>Glutathione S-Transferase Theta-1</td></tr><tr><th>27</th><td>Hypoglycemia</td><td>N-Heptyl-4-Sulfamoyl-Benzamide</td><td>Maleylacetoacetate Isomerase</td></tr><tr><th>28</th><td>Muscle Relaxation</td><td>N-Heptylcarbamic Acid Quinolin-6-Yl Ester</td><td>Thioredoxin Domain-Containing Protein 12</td></tr><tr><th>29</th><td>Arthritis Psoriatic</td><td>N-Hexanesulfonamide</td><td>G Protein-Activated Inward Rectifier Potassium Channel 2</td></tr><tr><th>30</th><td>Carcinoma Brain</td><td>Ab-Meca</td><td>Tissue-Type Plasminogen Activator</td></tr><tr><th>&vellip;</th><td>&vellip;</td><td>&vellip;</td><td>&vellip;</td></tr></table>"
      ],
      "text/plain": [
       "254x3 DataFrames.DataFrame\n",
       "| Row | |-----|\n",
       "| 1   | | 2   | | 3   | | 4   | | 5   | | 6   | | 7   | | 8   | | 9   | | 10  | | 11  | \n",
       "⋮\n",
       "| 243 | | 244 | | 245 | | 246 | | 247 | | 248 | | 249 | | 250 | | 251 | | 252 | | 253 | | 254 | \n",
       "\n",
       "| Row | Disease                                                                    |\n",
       "|-----|----------------------------------------------------------------------------|\n",
       "| 1   | \"Epilepsy\"                                                                 |\n",
       "| 2   | \"Glaucoma\"                                                                 |\n",
       "| 3   | \"Arrhythmia\"                                                               |\n",
       "| 4   | \"Calculus Urinary\"                                                         |\n",
       "| 5   | \"Seizures\"                                                                 |\n",
       "| 6   | \"Pruritis\"                                                                 |\n",
       "| 7   | \"Cushings Syndrome\"                                                        |\n",
       "| 8   | \"Deep Vein Thrombosis\"                                                     |\n",
       "| 9   | \"Hypertension Ocular\"                                                      |\n",
       "| 10  | \"Arterial Occlusion Peripheral\"                                            |\n",
       "| 11  | \"Bipolar Affective Disorder\"                                               |\n",
       "⋮\n",
       "| 243 | \"Deficiency Vitamin\"                                                       |\n",
       "| 244 | \"Fibrocystic Breast Disease\"                                               |\n",
       "| 245 | \"Leprosy Lepromatous\"                                                      |\n",
       "| 246 | \"Onchocerciasis |River blindness |Robles disease |African river blindness\" |\n",
       "| 247 | \"Onchocerca volvulus | Onchocerca\"                                         |\n",
       "| 248 | \"Wolbachia\"                                                                |\n",
       "| 249 | \"filarial infection\"                                                       |\n",
       "| 250 | \"microfilaria\"                                                             |\n",
       "| 251 | \"microfilaricide\"                                                          |\n",
       "| 252 | \"Nematodes\"                                                                |\n",
       "| 253 | NA                                                                         |\n",
       "| 254 | NA                                                                         |\n",
       "\n",
       "| Row | Drug                        |\n",
       "|-----|-----------------------------|\n",
       "| 1   | \"Doxaprost\"                 |\n",
       "| 2   | \"Doxazosin Mesylate\"        |\n",
       "| 3   | \"Doxepin Hydrochloride\"     |\n",
       "| 4   | \"Doxycycline Hydrochloride\" |\n",
       "| 5   | \"Dracotanoside D\"           |\n",
       "| 6   | \"Dragonamide B\"             |\n",
       "| 7   | \"Dragonamide E\"             |\n",
       "| 8   | \"Drobuline\"                 |\n",
       "| 9   | \"Drospirenone\"              |\n",
       "| 10  | \"Droxinavir Hydrochloride\"  |\n",
       "| 11  | \"Drupanin\"                  |\n",
       "⋮\n",
       "| 243 | \"Droserone\"                 |\n",
       "| 244 | \"Droxicam\"                  |\n",
       "| 245 | \"Droxinavir\"                |\n",
       "| 246 | \"Rapamycin\"                 |\n",
       "| 247 | \"Sirolimus\"                 |\n",
       "| 248 | \"Tacrolimus |fb506\"         |\n",
       "| 249 | \"Clarithromycin\"            |\n",
       "| 250 | \"Imatinib\"                  |\n",
       "| 251 | \"Atorvastatin\"              |\n",
       "| 252 | \"Bexarotene\"                |\n",
       "| 253 | NA                          |\n",
       "| 254 | NA                          |\n",
       "\n",
       "| Row | Target                                                                                          |\n",
       "|-----|-------------------------------------------------------------------------------------------------|\n",
       "| 1   | \"Gonadotropin-Releasing Hormone Receptor\"                                                       |\n",
       "| 2   | \"Metabotropic Glutamate Receptor 1\"                                                             |\n",
       "| 3   | \"Metabotropic Glutamate Receptor 2\"                                                             |\n",
       "| 4   | \"Metabotropic Glutamate Receptor 3\"                                                             |\n",
       "| 5   | \"Pancreatic Alpha-Amylase\"                                                                      |\n",
       "| 6   | \"Lysosomal Alpha-Glucosidase\"                                                                   |\n",
       "| 7   | \"Carbonic Anhydrase 3\"                                                                          |\n",
       "| 8   | \"Adenosine A3 Receptor\"                                                                         |\n",
       "| 9   | \"Atp-Binding Cassette Transporter Sub-Family C Member 8\"                                        |\n",
       "| 10  | \"Multidrug Resistance Protein 1\"                                                                |\n",
       "| 11  | \"Renin\"                                                                                         |\n",
       "⋮\n",
       "| 243 | \"Intermediate Conductance Calcium-Activated Potassium Channel Protein 4\"                        |\n",
       "| 244 | \"Tubulin Beta-1 Chain\"                                                                          |\n",
       "| 245 | \"Signal Transducer And Activator Of Transcription 5b\"                                           |\n",
       "| 246 | \"Glutathione S-transferase 1 |EC 2.5.1.18 |Glutathione S-transferase |OvGST1\"                   |\n",
       "| 247 | \"Ornithine decarboxylase| ODC\"                                                                  |\n",
       "| 248 | \"Ornithine decarboxylase antizyme |OvAZ\"                                                        |\n",
       "| 249 | \"Fatty-acid and retinol-binding protein |Antigen maltose-binding protein| Ov-FAR-1 | Ov20\"      |\n",
       "| 250 | \"Retinoid-x-receptor |RXR\"                                                                      |\n",
       "| 251 | \"Dihydroorotate dehydrogenase |DHODH\"                                                           |\n",
       "| 252 | \"Chitinase |OvCHT1\"                                                                             |\n",
       "| 253 | \"Hydroxymethylglutaryl-CoA reductase |3-hydroxy-3-methylglutaryl-coenzyme A reductase| HMG-CoA\" |\n",
       "| 254 | \"Tyrosine-protein kinase CSK |TK protein kinase |Tyrosine kinase\"                               |"
      ]
     },
     "execution_count": 2,
     "metadata": {},
     "output_type": "execute_result"
    }
   ],
   "source": [
    "terms = readtable(\"$(Pkg.dir())/MLDemos/data/drug/data.csv\", header=true)"
   ]
  },
  {
   "cell_type": "code",
   "execution_count": 3,
   "metadata": {
    "collapsed": false
   },
   "outputs": [],
   "source": [
    "drugs = dropna(terms[:Drug]);\n",
    "targets = dropna(terms[:Target]);\n",
    "diseases = dropna(terms[:Disease]);"
   ]
  },
  {
   "cell_type": "code",
   "execution_count": 43,
   "metadata": {
    "collapsed": false
   },
   "outputs": [
    {
     "data": {
      "text/plain": [
       "(252,)"
      ]
     },
     "execution_count": 43,
     "metadata": {},
     "output_type": "execute_result"
    }
   ],
   "source": [
    "size(drugs)"
   ]
  },
  {
   "cell_type": "code",
   "execution_count": 44,
   "metadata": {
    "collapsed": false
   },
   "outputs": [
    {
     "data": {
      "text/plain": [
       "300-element Array{UTF8String,1}:\n",
       " \"Doxaprost\"                 \n",
       " \"Doxazosin Mesylate\"        \n",
       " \"Doxepin Hydrochloride\"     \n",
       " \"Doxycycline Hydrochloride\" \n",
       " \"Dracotanoside D\"           \n",
       " \"Dragonamide B\"             \n",
       " \"Dragonamide E\"             \n",
       " \"Drobuline\"                 \n",
       " \"Drospirenone\"              \n",
       " \"Droxinavir Hydrochloride\"  \n",
       " \"Drupanin\"                  \n",
       " \"Kaad-Cyclopamine\"          \n",
       " \"Kabiramide K\"              \n",
       " ⋮                           \n",
       " \"Cardiac Dysrhythmia\"       \n",
       " \"Puberty Precocious\"        \n",
       " \"Aspergillosis\"             \n",
       " \"Meningitis Bacterial\"      \n",
       " \"Ankylosing Spondylitis\"    \n",
       " \"Pain Musculoskeletal\"      \n",
       " \"Hyperlipoproteinemia\"      \n",
       " \"Obstructive Airway Disease\"\n",
       " \"Iritis\"                    \n",
       " \"Carcinoma Endometrial\"     \n",
       " \"Anxiety Disorder\"          \n",
       " \"Somatoform Disorder\"       "
      ]
     },
     "execution_count": 44,
     "metadata": {},
     "output_type": "execute_result"
    }
   ],
   "source": [
    "all = [drugs[1:100];targets[1:100];diseases[1:100]]"
   ]
  },
  {
   "cell_type": "code",
   "execution_count": 45,
   "metadata": {
    "collapsed": false
   },
   "outputs": [
    {
     "name": "stdout",
     "output_type": "stream",
     "text": [
      " Doxaprost [Title/Abstract] AND\n",
      " Doxazosin Mesylate [Title/Abstract] AND\n",
      " Doxepin Hydrochloride [Title/Abstract] AND\n",
      " Doxycycline Hydrochloride [Title/Abstract] AND\n",
      " Dracotanoside D [Title/Abstract] AND\n",
      " Dragonamide B [Title/Abstract] AND\n",
      " Dragonamide E [Title/Abstract] AND\n",
      " Drobuline [Title/Abstract] AND\n",
      " Drospirenone [Title/Abstract] AND\n",
      " Droxinavir Hydrochloride [Title/Abstract] AND\n",
      " Drupanin [Title/Abstract] AND\n",
      " Kaad-Cyclopamine [Title/Abstract] AND\n",
      " Kabiramide K [Title/Abstract] AND\n",
      " Kadcoccilactone A [Title/Abstract] AND\n",
      " Kadcoccilactone C [Title/Abstract] AND\n",
      " Kadcoccilactone D [Title/Abstract] AND\n",
      " Kadcoccilactone F [Title/Abstract] AND\n",
      " Kadsulactone A [Title/Abstract] AND\n",
      " Kadsuphilol C [Title/Abstract] AND\n",
      " Kadsuphilol E [Title/Abstract] AND\n",
      " Kadsuracoccinic Acid A [Title/Abstract] AND\n",
      " Kaempferitrin [Title/Abstract] AND\n",
      " Kaempferol [Title/Abstract] AND\n",
      " 4-Medck Thiolactone [Title/Abstract] AND\n",
      " 4-Mercaptopyridine [Title/Abstract] AND\n",
      " N-Heptanoyl-L-Homoserine Lactone [Title/Abstract] AND\n",
      " N-Heptyl-4-Sulfamoyl-Benzamide [Title/Abstract] AND\n",
      " N-Heptylcarbamic Acid Quinolin-6-Yl Ester [Title/Abstract] AND\n",
      " N-Hexanesulfonamide [Title/Abstract] AND\n",
      " Ab-Meca [Title/Abstract] AND\n",
      " Abaperidone [Title/Abstract] AND\n",
      " Abeohyousterone [Title/Abstract] AND\n",
      " Abiesadine B [Title/Abstract] AND\n",
      " Doxacurium [Title/Abstract] AND\n",
      " Doxaminol [Title/Abstract] AND\n",
      " Doxanthrine [Title/Abstract] AND\n",
      " Doxazolidine [Title/Abstract] AND\n",
      " Doxorubicin Analogue [Title/Abstract] AND\n",
      " Doxorubicin Trifluoroacetate [Title/Abstract] AND\n",
      " Dpdpe [Title/Abstract] AND\n",
      " Draconin A [Title/Abstract] AND\n",
      " Dragmacidin E [Title/Abstract] AND\n",
      " Dragonamide [Title/Abstract] AND\n",
      " Drimentine H [Title/Abstract] AND\n",
      " Droclidinium [Title/Abstract] AND\n",
      " Droloxifene [Title/Abstract] AND\n",
      " Drotaverine [Title/Abstract] AND\n",
      " Droxacin [Title/Abstract] AND\n",
      " Droxidopa [Title/Abstract] AND\n",
      " Droxypropine [Title/Abstract] AND\n",
      " Drummondin C [Title/Abstract] AND\n",
      " Dsm-121 [Title/Abstract] AND\n",
      " Dsm-131 [Title/Abstract] AND\n",
      " K-Strophanthoside [Title/Abstract] AND\n",
      " Kabiramide G [Title/Abstract] AND\n",
      " Kadangustin C [Title/Abstract] AND\n",
      " Kadangustin H [Title/Abstract] AND\n",
      " Kadangustin J [Title/Abstract] AND\n",
      " Kadlongilactone A [Title/Abstract] AND\n",
      " Kadsuphilins B [Title/Abstract] AND\n",
      " Kadsuphilol A [Title/Abstract] AND\n",
      " Kadsuphilol D [Title/Abstract] AND\n",
      " Kadsurenin C [Title/Abstract] AND\n",
      " Kadsurin [Title/Abstract] AND\n",
      " 4-Methanesulfonyl-Benzamidine [Title/Abstract] AND\n",
      " N-Hexadecyl-4-Methoxybenzamide [Title/Abstract] AND\n",
      " N-Hexadecyl-4-Nitrobenzamide [Title/Abstract] AND\n",
      " N-Hexadecyl-N'-Methyl-Guanidine Trifluoroacetic Acid [Title/Abstract] AND\n",
      " N-Hexanoyldihydrosphingosine [Title/Abstract] AND\n",
      " N-Hexanoylspingosine [Title/Abstract] AND\n",
      " Dox-Saliform [Title/Abstract] AND\n",
      " Doxefazepam [Title/Abstract] AND\n",
      " Doxorubicin 8-(Menthoxycarbonyl)Octanoylhydrazone Hydrochloride [Title/Abstract] AND\n",
      " Doxorubicin-Pep42 [Title/Abstract] AND\n",
      " Doxylamine Succinate [Title/Abstract] AND\n",
      " Dracorhodin [Title/Abstract] AND\n",
      " Dracotanoside A [Title/Abstract] AND\n",
      " Draflazine [Title/Abstract] AND\n",
      " Dramedilol [Title/Abstract] AND\n",
      " Dronedarone Hydrochloride [Title/Abstract] AND\n",
      " Drymaritin [Title/Abstract] AND\n",
      " Dsm-123 [Title/Abstract] AND\n",
      " Dsm-124 [Title/Abstract] AND\n",
      " Dsm-73 [Title/Abstract] AND\n",
      " K76-Cooh [Title/Abstract] AND\n",
      " Kabiramide C [Title/Abstract] AND\n",
      " Kabiramide J [Title/Abstract] AND\n",
      " Kadangustin B [Title/Abstract] AND\n",
      " Kadangustin G [Title/Abstract] AND\n",
      " Kadcoccilactone E [Title/Abstract] AND\n",
      " Kadsulignan L [Title/Abstract] AND\n",
      " Kadsuphilol B [Title/Abstract] AND\n",
      " Kadsuralignan J [Title/Abstract] AND\n",
      " Kaempferol Diacyl Rhamnoside [Title/Abstract] AND\n",
      " Kaempferol-3-O-(2''-O-Galloyl)-Glucoside [Title/Abstract] AND\n",
      " N-Glycylaminomethyl-P-Methylphosphinic Acid [Title/Abstract] AND\n",
      " N-Heptyl-2-Mercapto-Thionicotinamide [Title/Abstract] AND\n",
      " N-Heptyl-N-Methyl-N-Nitrosoamine [Title/Abstract] AND\n",
      " N-Heptylpiperazin-1-Amine [Title/Abstract] AND\n",
      " N-Hexadecanyl Alpha-D-Galactopyranoside [Title/Abstract] AND\n",
      " Gonadotropin-Releasing Hormone Receptor [Title/Abstract] AND\n",
      " Metabotropic Glutamate Receptor 1 [Title/Abstract] AND\n",
      " Metabotropic Glutamate Receptor 2 [Title/Abstract] AND\n",
      " Metabotropic Glutamate Receptor 3 [Title/Abstract] AND\n",
      " Pancreatic Alpha-Amylase [Title/Abstract] AND\n",
      " Lysosomal Alpha-Glucosidase [Title/Abstract] AND\n",
      " Carbonic Anhydrase 3 [Title/Abstract] AND\n",
      " Adenosine A3 Receptor [Title/Abstract] AND\n",
      " Atp-Binding Cassette Transporter Sub-Family C Member 8 [Title/Abstract] AND\n",
      " Multidrug Resistance Protein 1 [Title/Abstract] AND\n",
      " Renin [Title/Abstract] AND\n",
      " Gamma-Aminobutyric Acid Receptor Subunit Gamma-1 [Title/Abstract] AND\n",
      " Gamma-Aminobutyric Acid Receptor Subunit Gamma-3 [Title/Abstract] AND\n",
      " Gamma-Aminobutyric Acid Receptor Subunit Theta [Title/Abstract] AND\n",
      " Gamma-Aminobutyric Acid Receptor Subunit Rho-3 [Title/Abstract] AND\n",
      " Gamma-Aminobutyric-Acid Receptor Subunit Alpha-1 [Title/Abstract] AND\n",
      " Neuronal Acetylcholine Receptor Subunit Alpha-10 [Title/Abstract] AND\n",
      " Calcium-Activated Potassium Channel Subunit Alpha 1 [Title/Abstract] AND\n",
      " Methylenetetrahydrofolate Reductase [Title/Abstract] AND\n",
      " Glutamate Receptor 1 [Title/Abstract] AND\n",
      " Estrogen Receptor Beta [Title/Abstract] AND\n",
      " Microtubule-Associated Protein 1a [Title/Abstract] AND\n",
      " Low-Density Lipoprotein Receptor-Related Protein 2 [Title/Abstract] AND\n",
      " Atp-Sensitive Inward Rectifier Potassium Channel 1 [Title/Abstract] AND\n",
      " Glutathione Peroxidase 6 [Title/Abstract] AND\n",
      " Glutathione S-Transferase Theta-1 [Title/Abstract] AND\n",
      " Maleylacetoacetate Isomerase [Title/Abstract] AND\n",
      " Thioredoxin Domain-Containing Protein 12 [Title/Abstract] AND\n",
      " G Protein-Activated Inward Rectifier Potassium Channel 2 [Title/Abstract] AND\n",
      " Tissue-Type Plasminogen Activator [Title/Abstract] AND\n",
      " Phosphatidylinositol 3-Kinase Regulatory Subunit Gamma [Title/Abstract] AND\n",
      " Chromaffin Granule Amine Transporter [Title/Abstract] AND\n",
      " Dihydrofolate Reductase [Title/Abstract] AND\n",
      " Small Conductance Calcium-Activated Potassium Channel Protein 2 [Title/Abstract] AND\n",
      " Prostaglandin E2 Receptor Ep4 Subtype [Title/Abstract] AND\n",
      " Tachykinin Receptor 1 [Title/Abstract] AND\n",
      " Vitamin D Receptor Interacting Protein [Title/Abstract] AND\n",
      " Penicillin Binding Protein 3 [Title/Abstract] AND\n",
      " Dna Gyrase [Title/Abstract] AND\n",
      " Phospholipase A2 [Title/Abstract] AND\n",
      " Beta-Tubulin [Title/Abstract] AND\n",
      " Calcium Dependent Atpase [Title/Abstract] AND\n",
      " Opioid Receptor Mu [Title/Abstract] AND\n",
      " N-Type Calcium Channel [Title/Abstract] AND\n",
      " Cyclooxygenase-3 [Title/Abstract] AND\n",
      " Erbb2 [Title/Abstract] AND\n",
      " Aldosterone Receptor [Title/Abstract] AND\n",
      " Udp-Glucuronosyltransferase [Title/Abstract] AND\n",
      " Opioid Receptor Sigma 1 [Title/Abstract] AND\n",
      " Crth2 Receptor [Title/Abstract] AND\n",
      " Ent2 [Title/Abstract] AND\n",
      " Cox-2 [Title/Abstract] AND\n",
      " Sphingomyelinase [Title/Abstract] AND\n",
      " Sulfonylurea Receptor 2b [Title/Abstract] AND\n",
      " Hiv-1 Integrase [Title/Abstract] AND\n",
      " Mu Opioid Receptor [Title/Abstract] AND\n",
      " Trace Amine-Associated Receptor 1 [Title/Abstract] AND\n",
      " 5-Hydroxytryptamine 6 Receptor [Title/Abstract] AND\n",
      " Cytochrome B [Title/Abstract] AND\n",
      " Arachidonate 5-Lipoxygenase [Title/Abstract] AND\n",
      " Sodium Channel Protein Type 5 Subunit Alpha [Title/Abstract] AND\n",
      " Aldo-Keto Reductase Family 1 Member C3 [Title/Abstract] AND\n",
      " Gap Junction Alpha-1 Protein [Title/Abstract] AND\n",
      " Vascular Cell Adhesion Protein 1 [Title/Abstract] AND\n",
      " Myeloperoxidase [Title/Abstract] AND\n",
      " Tyrosine-Protein Kinase Fer [Title/Abstract] AND\n",
      " Peptidyl-Prolyl Cis-Trans Isomerase Fkbp4 [Title/Abstract] AND\n",
      " 4-Hydroxy-Tetrahydrodipicolinate Synthase [Title/Abstract] AND\n",
      " Prostaglandin Reductase 1 [Title/Abstract] AND\n",
      " Xaa-Pro Dipeptidase [Title/Abstract] AND\n",
      " Hydroxyacid Oxidase 1 [Title/Abstract] AND\n",
      " Hypoxia-Inducible Factor 1-Alpha [Title/Abstract] AND\n",
      " Natriuretic Peptides A [Title/Abstract] AND\n",
      " Dna Polymerase I [Title/Abstract] AND\n",
      " Cysteinyl Leukotriene Receptor 2 [Title/Abstract] AND\n",
      " Sphingosine 1-Phosphate Receptor 1 [Title/Abstract] AND\n",
      " Alpha-Glucosidase [Title/Abstract] AND\n",
      " Induced Myeloid Leukemia Cell Differentiation Protein Mcl-1 [Title/Abstract] AND\n",
      " Macrophage Metalloelastase [Title/Abstract] AND\n",
      " Egl Nine Homolog 1 [Title/Abstract] AND\n",
      " Nad-Dependent Protein Deacetylase Sirtuin-1 [Title/Abstract] AND\n",
      " Serine/Threonine-Protein Kinase 17a [Title/Abstract] AND\n",
      " Hyaluronidase-1 [Title/Abstract] AND\n",
      " Probable Low Molecular Weight Protein-Tyrosine-Phosphatase [Title/Abstract] AND\n",
      " Serine/Threonine-Protein Kinase Brsk2 [Title/Abstract] AND\n",
      " Maternal Embryonic Leucine Zipper Kinase [Title/Abstract] AND\n",
      " Collagenase 3 [Title/Abstract] AND\n",
      " Aurora Kinase A [Title/Abstract] AND\n",
      " Melanin-Concentrating Hormone Receptor 1 [Title/Abstract] AND\n",
      " Chorismate Synthase [Title/Abstract] AND\n",
      " Kallikrein-8 [Title/Abstract] AND\n",
      " Protein Fimh [Title/Abstract] AND\n",
      " Ns3 [Title/Abstract] AND\n",
      " Mitogen-Activated Protein Kinase Kinase Kinase 8 [Title/Abstract] AND\n",
      " Galectin-1 [Title/Abstract] AND\n",
      " Carbonic Anhydrase 4 [Title/Abstract] AND\n",
      " Retinoic Acid Receptor Alpha [Title/Abstract] AND\n",
      " Retinoic Acid Receptor Gamma-1 [Title/Abstract] AND\n",
      " Retinoic Acid Receptor Rxr-Beta [Title/Abstract] AND\n",
      " Adenosine A1 Receptor [Title/Abstract] AND\n",
      " Epilepsy [Title/Abstract] AND\n",
      " Glaucoma [Title/Abstract] AND\n",
      " Arrhythmia [Title/Abstract] AND\n",
      " Calculus Urinary [Title/Abstract] AND\n",
      " Seizures [Title/Abstract] AND\n",
      " Pruritis [Title/Abstract] AND\n",
      " Cushings Syndrome [Title/Abstract] AND\n",
      " Deep Vein Thrombosis [Title/Abstract] AND\n",
      " Hypertension Ocular [Title/Abstract] AND\n",
      " Arterial Occlusion Peripheral [Title/Abstract] AND\n",
      " Bipolar Affective Disorder [Title/Abstract] AND\n",
      " Gilberts Syndrome [Title/Abstract] AND\n",
      " Hyperbilirubinemia [Title/Abstract] AND\n",
      " Rheumatoid Arthritis [Title/Abstract] AND\n",
      " Rhinitis Seasonal Allergic [Title/Abstract] AND\n",
      " Myeloma Multiple [Title/Abstract] AND\n",
      " Opiate Dependence [Title/Abstract] AND\n",
      " Polycystic Ovarian Syndrome [Title/Abstract] AND\n",
      " Transplant Bone Marrow [Title/Abstract] AND\n",
      " Central Nervous System Disorder [Title/Abstract] AND\n",
      " Deficiency Vitamin D [Title/Abstract] AND\n",
      " Nephropathy Diabetic [Title/Abstract] AND\n",
      " Infection Rickettsia [Title/Abstract] AND\n",
      " Shigellosis [Title/Abstract] AND\n",
      " Nervousness [Title/Abstract] AND\n",
      " Anesthesia Local [Title/Abstract] AND\n",
      " Hypoglycemia [Title/Abstract] AND\n",
      " Muscle Relaxation [Title/Abstract] AND\n",
      " Arthritis Psoriatic [Title/Abstract] AND\n",
      " Carcinoma Brain [Title/Abstract] AND\n",
      " Graft Versus Host Disease [Title/Abstract] AND\n",
      " Metastatic Breast Cancer [Title/Abstract] AND\n",
      " Amnesia [Title/Abstract] AND\n",
      " Pinworm [Title/Abstract] AND\n",
      " Dementia [Title/Abstract] AND\n",
      " Hyperthyroidism [Title/Abstract] AND\n",
      " Skin Disease [Title/Abstract] AND\n",
      " Hypogonadism Male Primary [Title/Abstract] AND\n",
      " Niemann Pick Disease [Title/Abstract] AND\n",
      " Inflammatory Bowel Diseases [Title/Abstract] AND\n",
      " Conjunctival Disease [Title/Abstract] AND\n",
      " Xerostomia [Title/Abstract] AND\n",
      " Pneumonia Pneumocystis Carinii [Title/Abstract] AND\n",
      " Gastritis [Title/Abstract] AND\n",
      " Hepatitis Chronic Active [Title/Abstract] AND\n",
      " Drug Hypersensitivity [Title/Abstract] AND\n",
      " Leukemias [Title/Abstract] AND\n",
      " Multiple Myeloma [Title/Abstract] AND\n",
      " Chronic Lymphocytic Leukemia [Title/Abstract] AND\n",
      " Renal Failure [Title/Abstract] AND\n",
      " Adult Respiratory Distress Syndrome [Title/Abstract] AND\n",
      " Anemia [Title/Abstract] AND\n",
      " Melanoma Malignant [Title/Abstract] AND\n",
      " Leukemia Chronic Myelogenous [Title/Abstract] AND\n",
      " Myelodysplastic Syndrome [Title/Abstract] AND\n",
      " Allergic Rhinitis [Title/Abstract] AND\n",
      " Urticaria [Title/Abstract] AND\n",
      " Proteinuria [Title/Abstract] AND\n",
      " Itching [Title/Abstract] AND\n",
      " Bone Disorder [Title/Abstract] AND\n",
      " Gonorrhea [Title/Abstract] AND\n",
      " Albuminuria [Title/Abstract] AND\n",
      " Infection Upper Respiratory Tract [Title/Abstract] AND\n",
      " Edema Pulmonary [Title/Abstract] AND\n",
      " Seizures Partial [Title/Abstract] AND\n",
      " Meningitis [Title/Abstract] AND\n",
      " Lichen Planus [Title/Abstract] AND\n",
      " Lupus Erythematosus Discoid [Title/Abstract] AND\n",
      " Necrobiosis Lipoidica [Title/Abstract] AND\n",
      " Nephrotic Syndrome [Title/Abstract] AND\n",
      " Conjunctivitis [Title/Abstract] AND\n",
      " Arthralgia Syndrome [Title/Abstract] AND\n",
      " Non Insulin Dependent Diabetes Mellitus [Title/Abstract] AND\n",
      " Chills [Title/Abstract] AND\n",
      " Malnutrition [Title/Abstract] AND\n",
      " Soft Tissue Infection [Title/Abstract] AND\n",
      " Muscle Weakness [Title/Abstract] AND\n",
      " Headache [Title/Abstract] AND\n",
      " Pain [Title/Abstract] AND\n",
      " Hepatitis B [Title/Abstract] AND\n",
      " Anxiety [Title/Abstract] AND\n",
      " Aggression [Title/Abstract] AND\n",
      " Depression [Title/Abstract] AND\n",
      " Stroke [Title/Abstract] AND\n",
      " Cerebrovascular Disorder [Title/Abstract] AND\n",
      " Pneumonia [Title/Abstract] AND\n",
      " Hypertriglyceridemia [Title/Abstract] AND\n",
      " Carcinoma Head [Title/Abstract] AND\n",
      " Cardiac Dysrhythmia [Title/Abstract] AND\n",
      " Puberty Precocious [Title/Abstract] AND\n",
      " Aspergillosis [Title/Abstract] AND\n",
      " Meningitis Bacterial [Title/Abstract] AND\n",
      " Ankylosing Spondylitis [Title/Abstract] AND\n",
      " Pain Musculoskeletal [Title/Abstract] AND\n",
      " Hyperlipoproteinemia [Title/Abstract] AND\n",
      " Obstructive Airway Disease [Title/Abstract] AND\n",
      " Iritis [Title/Abstract] AND\n",
      " Carcinoma Endometrial [Title/Abstract] AND\n",
      " Anxiety Disorder [Title/Abstract] AND\n",
      " Somatoform Disorder [Title/Abstract] AND\n",
      "355.895514 seconds (425.84 k allocations: 668.239 MB, 0.01% gc time)\n"
     ]
    },
    {
     "data": {
      "text/plain": [
       "300x27097379 sparse matrix with 2218 Int64 entries:\n",
       "\t[1       ,     7000]  =  1\n",
       "\t[268     ,   374316]  =  1\n",
       "\t[8       ,   692260]  =  1\n",
       "\t[245     ,   842879]  =  1\n",
       "\t[1       ,   935524]  =  1\n",
       "\t[212     ,  1055005]  =  1\n",
       "\t[298     ,  1152496]  =  1\n",
       "\t[245     ,  1152537]  =  1\n",
       "\t[290     ,  1276700]  =  1\n",
       "\t[198     ,  1332684]  =  1\n",
       "\t⋮\n",
       "\t[266     , 27097347]  =  1\n",
       "\t[5       , 27097348]  =  1\n",
       "\t[16      , 27097348]  =  1\n",
       "\t[111     , 27097354]  =  1\n",
       "\t[15      , 27097360]  =  1\n",
       "\t[15      , 27097363]  =  1\n",
       "\t[247     , 27097363]  =  1\n",
       "\t[96      , 27097368]  =  1\n",
       "\t[15      , 27097373]  =  1\n",
       "\t[281     , 27097379]  =  1\n",
       "\t[284     , 27097379]  =  1"
      ]
     },
     "execution_count": 45,
     "metadata": {},
     "output_type": "execute_result"
    }
   ],
   "source": [
    "@time T = tdm(all, \"PUBMED\")"
   ]
  },
  {
   "cell_type": "code",
   "execution_count": 47,
   "metadata": {
    "collapsed": false
   },
   "outputs": [
    {
     "name": "stdout",
     "output_type": "stream",
     "text": [
      "  0.369356 seconds (42 allocations: 206.779 MB, 5.86% gc time)\n"
     ]
    },
    {
     "data": {
      "text/plain": [
       "300x27097379 sparse matrix with 2218 Float64 entries:\n",
       "\t[1       ,     7000]  =  16.4218\n",
       "\t[268     ,   374316]  =  14.8124\n",
       "\t[8       ,   692260]  =  17.1149\n",
       "\t[245     ,   842879]  =  15.3232\n",
       "\t[1       ,   935524]  =  16.4218\n",
       "\t[212     ,  1055005]  =  16.0163\n",
       "\t[298     ,  1152496]  =  15.3232\n",
       "\t[245     ,  1152537]  =  15.3232\n",
       "\t[290     ,  1276700]  =  14.8124\n",
       "\t[198     ,  1332684]  =  15.3232\n",
       "\t⋮\n",
       "\t[266     , 27097347]  =  14.8124\n",
       "\t[5       , 27097348]  =  14.8124\n",
       "\t[16      , 27097348]  =  14.8124\n",
       "\t[111     , 27097354]  =  14.8124\n",
       "\t[15      , 27097360]  =  14.8124\n",
       "\t[15      , 27097363]  =  14.8124\n",
       "\t[247     , 27097363]  =  14.8124\n",
       "\t[96      , 27097368]  =  14.8124\n",
       "\t[15      , 27097373]  =  14.8124\n",
       "\t[281     , 27097379]  =  14.8124\n",
       "\t[284     , 27097379]  =  14.8124"
      ]
     },
     "execution_count": 47,
     "metadata": {},
     "output_type": "execute_result"
    }
   ],
   "source": [
    "@time tdmf=T .* log(size(T,2)./sum(T,2))"
   ]
  },
  {
   "cell_type": "code",
   "execution_count": 48,
   "metadata": {
    "collapsed": false
   },
   "outputs": [
    {
     "name": "stdout",
     "output_type": "stream",
     "text": [
      "  0.107908 seconds (61 allocations: 164.844 KB)\n"
     ]
    },
    {
     "data": {
      "text/plain": [
       "27097379x300 sparse matrix with 2218 Float64 entries:\n",
       "\t[7000    ,        1]  =  16.4218\n",
       "\t[935524  ,        1]  =  16.4218\n",
       "\t[22131637,        2]  =  14.8124\n",
       "\t[23385960,        2]  =  14.8124\n",
       "\t[23983168,        2]  =  14.8124\n",
       "\t[25007615,        2]  =  14.8124\n",
       "\t[25668796,        2]  =  14.8124\n",
       "\t[25840026,        2]  =  14.8124\n",
       "\t[26201344,        2]  =  14.8124\n",
       "\t[26328143,        2]  =  14.8124\n",
       "\t⋮\n",
       "\t[27096571,      299]  =  14.8124\n",
       "\t[26863248,      300]  =  14.8124\n",
       "\t[26919056,      300]  =  14.8124\n",
       "\t[26932754,      300]  =  14.8124\n",
       "\t[26944392,      300]  =  14.8124\n",
       "\t[26951025,      300]  =  14.8124\n",
       "\t[26984121,      300]  =  14.8124\n",
       "\t[26997020,      300]  =  14.8124\n",
       "\t[27037573,      300]  =  14.8124\n",
       "\t[27045631,      300]  =  14.8124\n",
       "\t[27064523,      300]  =  14.8124"
      ]
     },
     "execution_count": 48,
     "metadata": {},
     "output_type": "execute_result"
    }
   ],
   "source": [
    "@time dtmf=T' .* log(size(T',1)./sum(T',1))"
   ]
  },
  {
   "cell_type": "code",
   "execution_count": 49,
   "metadata": {
    "collapsed": false
   },
   "outputs": [
    {
     "data": {
      "text/plain": [
       "cosine_vectorized (generic function with 1 method)"
      ]
     },
     "execution_count": 49,
     "metadata": {},
     "output_type": "execute_result"
    }
   ],
   "source": [
    "function cosine_vectorized(i::SparseMatrixCSC{Float64, Int64}, j::SparseMatrixCSC{Float64, Int64})\n",
    "    return sum(i .* j)/sqrt(sum(i.*i)*sum(j.*j))\n",
    "end"
   ]
  },
  {
   "cell_type": "code",
   "execution_count": 91,
   "metadata": {
    "collapsed": false
   },
   "outputs": [
    {
     "data": {
      "text/plain": [
       "3-element Array{UTF8String,1}:\n",
       " \"Epilepsy\"                               \n",
       " \"Doxaprost\"                              \n",
       " \"Gonadotropin-Releasing Hormone Receptor\""
      ]
     },
     "execution_count": 91,
     "metadata": {},
     "output_type": "execute_result"
    }
   ],
   "source": [
    "array(terms[1,:])[:]"
   ]
  },
  {
   "cell_type": "code",
   "execution_count": 92,
   "metadata": {
    "collapsed": false
   },
   "outputs": [
    {
     "name": "stdout",
     "output_type": "stream",
     "text": [
      " Epilepsy [Title/Abstract] OR Doxaprost [Title/Abstract] OR Gonadotropin-Releasing Hormone Receptor [Title/Abstract] OR\n"
     ]
    },
    {
     "data": {
      "text/plain": [
       "MLDemos.PubIds(Nullable(UTF8String[\"Epilepsy\",\"Doxaprost\",\"Gonadotropin-Releasing Hormone Receptor\"]),Nullable([27097007,27096812,27096250,27095821,27095588,27095555,27095099,27095080,27095079,27094525]),10)"
      ]
     },
     "execution_count": 92,
     "metadata": {},
     "output_type": "execute_result"
    }
   ],
   "source": [
    "dbsearch(\"PUBMED\",array(terms[1,:])[:], \"OR\")"
   ]
  },
  {
   "cell_type": "code",
   "execution_count": 104,
   "metadata": {
    "collapsed": false
   },
   "outputs": [
    {
     "name": "stdout",
     "output_type": "stream",
     "text": [
      " Doxaprost [Title/Abstract] OR\n"
     ]
    },
    {
     "data": {
      "text/plain": [
       "MLDemos.PubIds(Nullable(UTF8String[\"Doxaprost\"]),Nullable([935524,7000]),2)"
      ]
     },
     "execution_count": 104,
     "metadata": {},
     "output_type": "execute_result"
    }
   ],
   "source": [
    "d=dbsearch(\"PUBMED\",[terms[1,2]], \"OR\")"
   ]
  },
  {
   "cell_type": "code",
   "execution_count": 115,
   "metadata": {
    "collapsed": false
   },
   "outputs": [
    {
     "data": {
      "text/plain": [
       "2-element Array{Int64,1}:\n",
       " 935524\n",
       "   7000"
      ]
     },
     "execution_count": 115,
     "metadata": {},
     "output_type": "execute_result"
    }
   ],
   "source": [
    "drug = get(d.pubids)"
   ]
  },
  {
   "cell_type": "code",
   "execution_count": 114,
   "metadata": {
    "collapsed": false
   },
   "outputs": [
    {
     "data": {
      "text/plain": [
       "10-element Array{Int64,1}:\n",
       " 27097007\n",
       " 27096812\n",
       " 27096250\n",
       " 27095821\n",
       " 27095588\n",
       " 27095555\n",
       " 27095099\n",
       " 27095080\n",
       " 27095079\n",
       " 27094525"
      ]
     },
     "execution_count": 114,
     "metadata": {},
     "output_type": "execute_result"
    }
   ],
   "source": [
    "dis = get(di.pubids)"
   ]
  },
  {
   "cell_type": "code",
   "execution_count": 113,
   "metadata": {
    "collapsed": false
   },
   "outputs": [
    {
     "data": {
      "text/plain": [
       "10-element Array{Int64,1}:\n",
       " 27063262\n",
       " 27045358\n",
       " 26953247\n",
       " 26920257\n",
       " 26892063\n",
       " 26645560\n",
       " 26580281\n",
       " 26550267\n",
       " 26373374\n",
       " 26345908"
      ]
     },
     "execution_count": 113,
     "metadata": {},
     "output_type": "execute_result"
    }
   ],
   "source": [
    "target=get(t.pubids)"
   ]
  },
  {
   "cell_type": "code",
   "execution_count": 63,
   "metadata": {
    "collapsed": false
   },
   "outputs": [
    {
     "name": "stdout",
     "output_type": "stream",
     "text": [
      "  0.000692 seconds (9 allocations: 703.422 KB)\n"
     ]
    }
   ],
   "source": [
    "@time D = zeros(r,r)\n",
    "for i = 1:r\n",
    "    for j = i+1:r\n",
    "        D[i,j] = cosine_vectorized(tdmf[:,i],tdmf[:,j])\n",
    "    end\n",
    "end"
   ]
  },
  {
   "cell_type": "code",
   "execution_count": 64,
   "metadata": {
    "collapsed": false
   },
   "outputs": [
    {
     "data": {
      "text/plain": [
       "300x300 sparse matrix with 44850 Float64 entries:\n",
       "\t[1  ,   2]  =  NaN\n",
       "\t[1  ,   3]  =  NaN\n",
       "\t[2  ,   3]  =  NaN\n",
       "\t[1  ,   4]  =  NaN\n",
       "\t[2  ,   4]  =  NaN\n",
       "\t[3  ,   4]  =  NaN\n",
       "\t[1  ,   5]  =  NaN\n",
       "\t[2  ,   5]  =  NaN\n",
       "\t[3  ,   5]  =  NaN\n",
       "\t[4  ,   5]  =  NaN\n",
       "\t⋮\n",
       "\t[289, 300]  =  NaN\n",
       "\t[290, 300]  =  NaN\n",
       "\t[291, 300]  =  NaN\n",
       "\t[292, 300]  =  NaN\n",
       "\t[293, 300]  =  NaN\n",
       "\t[294, 300]  =  NaN\n",
       "\t[295, 300]  =  NaN\n",
       "\t[296, 300]  =  NaN\n",
       "\t[297, 300]  =  NaN\n",
       "\t[298, 300]  =  NaN\n",
       "\t[299, 300]  =  NaN"
      ]
     },
     "execution_count": 64,
     "metadata": {},
     "output_type": "execute_result"
    }
   ],
   "source": [
    "Ds = sparse(D)"
   ]
  },
  {
   "cell_type": "code",
   "execution_count": 62,
   "metadata": {
    "collapsed": false
   },
   "outputs": [
    {
     "data": {
      "text/plain": [
       "9670-element Array{Float64,1}:\n",
       "   1.0\n",
       " NaN  \n",
       " NaN  \n",
       " NaN  \n",
       " NaN  \n",
       " NaN  \n",
       " NaN  \n",
       " NaN  \n",
       " NaN  \n",
       " NaN  \n",
       " NaN  \n",
       " NaN  \n",
       " NaN  \n",
       "   ⋮  \n",
       " NaN  \n",
       " NaN  \n",
       " NaN  \n",
       " NaN  \n",
       " NaN  \n",
       " NaN  \n",
       " NaN  \n",
       " NaN  \n",
       " NaN  \n",
       " NaN  \n",
       " NaN  \n",
       "   0.1"
      ]
     },
     "execution_count": 62,
     "metadata": {},
     "output_type": "execute_result"
    }
   ],
   "source": [
    "Ds.nzval\n"
   ]
  },
  {
   "cell_type": "code",
   "execution_count": 34,
   "metadata": {
    "collapsed": false
   },
   "outputs": [
    {
     "data": {
      "text/plain": [
       "27097348x1 sparse matrix with 10 Float64 entries:\n",
       "\t[22131637,        1]  =  14.8124\n",
       "\t[23385960,        1]  =  14.8124\n",
       "\t[23983168,        1]  =  14.8124\n",
       "\t[25007615,        1]  =  14.8124\n",
       "\t[25668796,        1]  =  14.8124\n",
       "\t[25840026,        1]  =  14.8124\n",
       "\t[26201344,        1]  =  14.8124\n",
       "\t[26328143,        1]  =  14.8124\n",
       "\t[26716887,        1]  =  14.8124\n",
       "\t[26735908,        1]  =  14.8124"
      ]
     },
     "execution_count": 34,
     "metadata": {},
     "output_type": "execute_result"
    }
   ],
   "source": [
    "dtmf[:,2]"
   ]
  },
  {
   "cell_type": "code",
   "execution_count": 35,
   "metadata": {
    "collapsed": false
   },
   "outputs": [
    {
     "data": {
      "text/plain": [
       "\"Gonadotropin-Releasing Hormone Receptor\""
      ]
     },
     "execution_count": 35,
     "metadata": {},
     "output_type": "execute_result"
    }
   ],
   "source": [
    "all[11]"
   ]
  },
  {
   "cell_type": "code",
   "execution_count": 36,
   "metadata": {
    "collapsed": false
   },
   "outputs": [
    {
     "data": {
      "text/plain": [
       "\"Doxaprost\""
      ]
     },
     "execution_count": 36,
     "metadata": {},
     "output_type": "execute_result"
    }
   ],
   "source": [
    "all[1]"
   ]
  },
  {
   "cell_type": "code",
   "execution_count": 37,
   "metadata": {
    "collapsed": false
   },
   "outputs": [
    {
     "data": {
      "text/plain": [
       "\"Epilepsy\""
      ]
     },
     "execution_count": 37,
     "metadata": {},
     "output_type": "execute_result"
    }
   ],
   "source": [
    "all[21]"
   ]
  },
  {
   "cell_type": "code",
   "execution_count": 39,
   "metadata": {
    "collapsed": false
   },
   "outputs": [
    {
     "data": {
      "text/plain": [
       "27097348x1 sparse matrix with 10 Float64 entries:\n",
       "\t[26345908,        1]  =  14.8124\n",
       "\t[26373374,        1]  =  14.8124\n",
       "\t[26550267,        1]  =  14.8124\n",
       "\t[26580281,        1]  =  14.8124\n",
       "\t[26645560,        1]  =  14.8124\n",
       "\t[26892063,        1]  =  14.8124\n",
       "\t[26920257,        1]  =  14.8124\n",
       "\t[26953247,        1]  =  14.8124\n",
       "\t[27045358,        1]  =  14.8124\n",
       "\t[27063262,        1]  =  14.8124"
      ]
     },
     "execution_count": 39,
     "metadata": {},
     "output_type": "execute_result"
    }
   ],
   "source": [
    "dtmf[:,11]"
   ]
  },
  {
   "cell_type": "code",
   "execution_count": 40,
   "metadata": {
    "collapsed": false
   },
   "outputs": [
    {
     "data": {
      "text/plain": [
       "27097348x1 sparse matrix with 2 Float64 entries:\n",
       "\t[7000    ,        1]  =  16.4218\n",
       "\t[935524  ,        1]  =  16.4218"
      ]
     },
     "execution_count": 40,
     "metadata": {},
     "output_type": "execute_result"
    }
   ],
   "source": [
    "dtmf[:,1]"
   ]
  },
  {
   "cell_type": "code",
   "execution_count": 42,
   "metadata": {
    "collapsed": false
   },
   "outputs": [
    {
     "name": "stdout",
     "output_type": "stream",
     "text": [
      " Gonadotropin-Releasing Hormone Receptor [Title/Abstract] AND\n"
     ]
    },
    {
     "data": {
      "text/plain": [
       "MLDemos.PubIds(Nullable(UTF8String[\"Gonadotropin-Releasing Hormone Receptor\"]),Nullable([27063262,27045358,26953247,26920257,26892063,26645560,26580281,26550267,26373374,26345908]),10)"
      ]
     },
     "execution_count": 42,
     "metadata": {},
     "output_type": "execute_result"
    }
   ],
   "source": [
    "dbsearch(\"PUBMED\", [all[11]], \"AND\")"
   ]
  },
  {
   "cell_type": "code",
   "execution_count": null,
   "metadata": {
    "collapsed": true
   },
   "outputs": [],
   "source": []
  }
 ],
 "metadata": {
  "kernelspec": {
   "display_name": "Julia 0.4.5",
   "language": "julia",
   "name": "julia-0.4"
  },
  "language_info": {
   "file_extension": ".jl",
   "mimetype": "application/julia",
   "name": "julia",
   "version": "0.4.5"
  }
 },
 "nbformat": 4,
 "nbformat_minor": 0
}
