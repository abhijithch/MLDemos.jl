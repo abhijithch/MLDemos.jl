{
 "cells": [
  {
   "cell_type": "markdown",
   "metadata": {},
   "source": [
    "## Character recognition \n",
    "\n",
    "This demo extends the kaggle [competition](https://www.kaggle.com/c/street-view-getting-started-with-julia/details/julia-tutorial). In this demo, we train using images of characters obtained from google view, and also classify test images which are of various sizes. Firstly k-Nearest Neighbor is used to identify the characters. Some of the take aways are how easy it is to build parallelizable and fast systems. We also try out various other methods and show comparisons. \n",
    "\n",
    "Download the following files from [here](https://www.kaggle.com/c/street-view-getting-started-with-julia/data), and place them in the /data directory :\n",
    "\n",
    "* testResized/\n",
    "* trainResized/\n",
    "* sampleSubmission.csv\n",
    "* trainLabels.csv"
   ]
  },
  {
   "cell_type": "code",
   "execution_count": null,
   "metadata": {
    "collapsed": true
   },
   "outputs": [],
   "source": [
    "using Images, Colors, DataFrames"
   ]
  },
  {
   "cell_type": "code",
   "execution_count": null,
   "metadata": {
    "collapsed": true
   },
   "outputs": [],
   "source": [
    "include(\"$(Pkg.dir())/MLDemos/src/knndemo.jl\")"
   ]
  },
  {
   "cell_type": "code",
   "execution_count": null,
   "metadata": {
    "collapsed": true
   },
   "outputs": [],
   "source": [
    "# Some configurations\n",
    "path = \"$(Pkg.dir())/MLDemos/\";\n",
    "imageSize = 400\n",
    "# Read the training labels\n",
    "labelsInfoTrain = readtable(\"$(path)/data/trainLabels.csv\")\n",
    "# Read the test labels\n",
    "labelsInfoTest = readtable(\"$(path)/data/testLabels.csv\")\n"
   ]
  },
  {
   "cell_type": "code",
   "execution_count": 4,
   "metadata": {
    "collapsed": false
   },
   "outputs": [
    {
     "data": {
      "text/plain": [
       "\"/Users/abhijithc/.julia/v0.4/MLDemos/demos\""
      ]
     },
     "execution_count": 4,
     "metadata": {},
     "output_type": "execute_result"
    }
   ],
   "source": [
    "#read the images in from the training data.\n",
    "xTrain = read_data(\"train\", labelsInfoTrain, imageSize, path)\n",
    "#read the test images\n",
    "xTest = read_data(\"test\", labelsInfoTest, imageSize, path)"
   ]
  },
  {
   "cell_type": "code",
   "execution_count": 29,
   "metadata": {
    "collapsed": false
   },
   "outputs": [
    {
     "data": {
      "text/plain": [
       "read_data (generic function with 1 method)"
      ]
     },
     "execution_count": 29,
     "metadata": {},
     "output_type": "execute_result"
    }
   ],
   "source": [
    "#Map the training characters to ASCII values\n",
    "yTrain = map(x -> x[1], labelsInfoTrain[:Class])\n",
    "yTrain = int(yTrain)"
   ]
  },
  {
   "cell_type": "code",
   "execution_count": null,
   "metadata": {
    "collapsed": true
   },
   "outputs": [],
   "source": [
    "xTrain = xTrain'\n",
    "xTest = xTest'"
   ]
  },
  {
   "cell_type": "code",
   "execution_count": null,
   "metadata": {
    "collapsed": true
   },
   "outputs": [],
   "source": [
    "# Add some processors\n",
    "addprocs()"
   ]
  },
  {
   "cell_type": "code",
   "execution_count": 63,
   "metadata": {
    "collapsed": false
   },
   "outputs": [
    {
     "data": {
      "text/plain": [
       "2797"
      ]
     },
     "execution_count": 63,
     "metadata": {},
     "output_type": "execute_result"
    }
   ],
   "source": [
    "# Assign the labels to the training images and find the ratio\n",
    "# of correctly classified labels to the total number of labels\n",
    "\n",
    "k = 1\n",
    "sumValues = @parallel (+) for i in 1:size(xTrain, 2)\n",
    " assign_label(xTrain, yTrain, k, i) == yTrain[i, 1]\n",
    "end\n",
    "loofCvAccuracy = sumValues / size(xTrain, 2)"
   ]
  },
  {
   "cell_type": "code",
   "execution_count": 65,
   "metadata": {
    "collapsed": false
   },
   "outputs": [
    {
     "data": {
      "text/plain": [
       "0"
      ]
     },
     "execution_count": 65,
     "metadata": {},
     "output_type": "execute_result"
    }
   ],
   "source": [
    "# Running the kNN on test data set\n",
    "tic()\n",
    "k = 3 # The CV accuracy shows this value to be the best.                             \n",
    "yPredictions = @parallel (vcat) for i in 1:size(xTest, 2)\n",
    " nRows = size(xTrain, 1)\n",
    " imageI = Array(Float32, nRows)\n",
    " for index in 1:nRows\n",
    "  imageI[index] = xTest[index, i]\n",
    " end\n",
    " assign_label(xTrain, yTrain, k, imageI)\n",
    "end\n",
    "toc()"
   ]
  },
  {
   "cell_type": "code",
   "execution_count": null,
   "metadata": {
    "collapsed": true
   },
   "outputs": [],
   "source": [
    "#Convert integer predictions to character                                            \n",
    "labelsInfoTest[:Class] = char(yPredictions)"
   ]
  },
  {
   "cell_type": "code",
   "execution_count": null,
   "metadata": {
    "collapsed": true
   },
   "outputs": [],
   "source": [
    "#Save predictions                                                                    \n",
    "writetable(\"$(path)/data/juliaKNNSubmission.csv\", labelsInfoTest, separator=',', header=true)"
   ]
  },
  {
   "cell_type": "code",
   "execution_count": null,
   "metadata": {
    "collapsed": true
   },
   "outputs": [],
   "source": [
    "@show predictions = readtable(\"$(path)/data/juliaKNNSubmission.csv\")"
   ]
  }
 ],
 "metadata": {
  "kernelspec": {
   "display_name": "Julia 0.4.2",
   "language": "julia",
   "name": "julia-0.4"
  },
  "language_info": {
   "file_extension": ".jl",
   "mimetype": "application/julia",
   "name": "julia",
   "version": "0.4.2"
  }
 },
 "nbformat": 4,
 "nbformat_minor": 0
}
