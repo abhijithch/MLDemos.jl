{
 "cells": [
  {
   "cell_type": "markdown",
   "metadata": {},
   "source": [
    "## MXNet\n",
    "\n",
    "MXNet is a deep learning framework designed for both efficiency and flexibility. It allows you to mix the flavours of symbolic programming and imperative programming to maximize efficiency and productivity. In its core, a dynamic dependency scheduler that automatically parallelizes both symbolic and imperative operations on the fly. A graph optimization layer on top of that makes symbolic execution fast and memory efficient. The library is portable and lightweight, and it scales to multiple GPUs and multiple machines."
   ]
  },
  {
   "cell_type": "markdown",
   "metadata": {},
   "source": [
    "#### Simple multi-layer perceptron in MNIST"
   ]
  },
  {
   "cell_type": "code",
   "execution_count": 1,
   "metadata": {
    "collapsed": false
   },
   "outputs": [
    {
     "name": "stderr",
     "output_type": "stream",
     "text": [
      "WARNING: module mx should explicitly import transpose from Base\n"
     ]
    }
   ],
   "source": [
    "using MXNet"
   ]
  },
  {
   "cell_type": "code",
   "execution_count": 3,
   "metadata": {
    "collapsed": false
   },
   "outputs": [
    {
     "data": {
      "text/plain": [
       "MXNet.mx.SymbolicNode(MXNet.mx.MX_SymbolHandle(Ptr{Void} @0x00000000035fdae0))"
      ]
     },
     "execution_count": 3,
     "metadata": {},
     "output_type": "execute_result"
    }
   ],
   "source": [
    "data = mx.Variable(:data)"
   ]
  },
  {
   "cell_type": "code",
   "execution_count": 4,
   "metadata": {
    "collapsed": false
   },
   "outputs": [
    {
     "data": {
      "text/plain": [
       "MXNet.mx.SymbolicNode(MXNet.mx.MX_SymbolHandle(Ptr{Void} @0x00000000036d53d0))"
      ]
     },
     "execution_count": 4,
     "metadata": {},
     "output_type": "execute_result"
    }
   ],
   "source": [
    "fc1  = mx.FullyConnected(data = data, name=:fc1, num_hidden=128)\n",
    "act1 = mx.Activation(data = fc1, name=:relu1, act_type=:relu)\n",
    "fc2  = mx.FullyConnected(data = act1, name=:fc2, num_hidden=64)\n",
    "act2 = mx.Activation(data = fc2, name=:relu2, act_type=:relu)\n",
    "fc3  = mx.FullyConnected(data = act2, name=:fc3, num_hidden=10)"
   ]
  },
  {
   "cell_type": "code",
   "execution_count": 5,
   "metadata": {
    "collapsed": false
   },
   "outputs": [
    {
     "data": {
      "text/plain": [
       "MXNet.mx.SymbolicNode(MXNet.mx.MX_SymbolHandle(Ptr{Void} @0x0000000002d1ec10))"
      ]
     },
     "execution_count": 5,
     "metadata": {},
     "output_type": "execute_result"
    }
   ],
   "source": [
    "mlp  = mx.SoftmaxOutput(data = fc3, name=:softmax)"
   ]
  },
  {
   "cell_type": "code",
   "execution_count": 6,
   "metadata": {
    "collapsed": false
   },
   "outputs": [
    {
     "data": {
      "text/plain": [
       "MXNet.mx.SymbolicNode(MXNet.mx.MX_SymbolHandle(Ptr{Void} @0x00000000036d4020))"
      ]
     },
     "execution_count": 6,
     "metadata": {},
     "output_type": "execute_result"
    }
   ],
   "source": [
    "mlp = @mx.chain mx.Variable(:data)             =>\n",
    "  mx.FullyConnected(name=:fc1, num_hidden=128) =>\n",
    "  mx.Activation(name=:relu1, act_type=:relu)   =>\n",
    "  mx.FullyConnected(name=:fc2, num_hidden=64)  =>\n",
    "  mx.Activation(name=:relu2, act_type=:relu)   =>\n",
    "  mx.FullyConnected(name=:fc3, num_hidden=10)  =>\n",
    "  mx.SoftmaxOutput(name=:softmax)"
   ]
  },
  {
   "cell_type": "code",
   "execution_count": 8,
   "metadata": {
    "collapsed": false
   },
   "outputs": [
    {
     "data": {
      "text/plain": [
       "(MXNet.mx.MXDataProvider(MXNet.mx.MX_DataIterHandle(Ptr{Void} @0x00000000038bd6f0),Tuple{Symbol,Tuple}[(:data,(784,100))],Tuple{Symbol,Tuple}[(:softmax_label,(100,))],100,true,true),MXNet.mx.MXDataProvider(MXNet.mx.MX_DataIterHandle(Ptr{Void} @0x00000000038bd1c0),Tuple{Symbol,Tuple}[(:data,(784,100))],Tuple{Symbol,Tuple}[(:softmax_label,(100,))],100,true,true))"
      ]
     },
     "execution_count": 8,
     "metadata": {},
     "output_type": "execute_result"
    }
   ],
   "source": [
    "batch_size = 100\n",
    "include(Pkg.dir(\"MXNet\", \"examples\", \"mnist\", \"mnist-data.jl\"))\n",
    "train_provider, eval_provider = get_mnist_providers(batch_size)"
   ]
  },
  {
   "cell_type": "code",
   "execution_count": 9,
   "metadata": {
    "collapsed": false
   },
   "outputs": [
    {
     "data": {
      "text/plain": [
       "MXNet.mx.FeedForward(MXNet.mx.SymbolicNode(MXNet.mx.MX_SymbolHandle(Ptr{Void} @0x00000000036d4020)),[CPU0],#undef,#undef,#undef)"
      ]
     },
     "execution_count": 9,
     "metadata": {},
     "output_type": "execute_result"
    }
   ],
   "source": [
    "model = mx.FeedForward(mlp, context=mx.cpu())"
   ]
  },
  {
   "cell_type": "code",
   "execution_count": 10,
   "metadata": {
    "collapsed": false
   },
   "outputs": [
    {
     "data": {
      "text/plain": [
       "MXNet.mx.SGD(MXNet.mx.SGDOptions(0.1,0.9,0,1.0e-5,MXNet.mx.LearningRate.Fixed(0.1),MXNet.mx.Momentum.Fixed(0.9)),#undef)"
      ]
     },
     "execution_count": 10,
     "metadata": {},
     "output_type": "execute_result"
    }
   ],
   "source": [
    "optimizer = mx.SGD(lr=0.1, momentum=0.9, weight_decay=0.00001)"
   ]
  },
  {
   "cell_type": "code",
   "execution_count": 11,
   "metadata": {
    "collapsed": false
   },
   "outputs": [
    {
     "name": "stderr",
     "output_type": "stream",
     "text": [
      "INFO: Start training on [CPU0]\n",
      "INFO: Initializing parameters...\n",
      "INFO: Creating KVStore...\n",
      "INFO: Start training...\n",
      "INFO: == Epoch 001 ==========\n",
      "INFO: ## Training summary\n",
      "INFO:           accuracy = 0.7601\n",
      "INFO:               time = 3.3509 seconds\n",
      "INFO: ## Validation summary\n",
      "INFO:           accuracy = 0.9498\n",
      "INFO: == Epoch 002 ==========\n",
      "INFO: ## Training summary\n",
      "INFO:           accuracy = 0.9590\n",
      "INFO:               time = 3.4518 seconds\n",
      "INFO: ## Validation summary\n",
      "INFO:           accuracy = 0.9671\n",
      "INFO: == Epoch 003 ==========\n",
      "INFO: ## Training summary\n",
      "INFO:           accuracy = 0.9733\n",
      "INFO:               time = 3.4310 seconds\n",
      "INFO: ## Validation summary\n",
      "INFO:           accuracy = 0.9692\n",
      "INFO: == Epoch 004 ==========\n",
      "INFO: ## Training summary\n",
      "INFO:           accuracy = 0.9781\n",
      "INFO:               time = 3.5150 seconds\n",
      "INFO: ## Validation summary\n",
      "INFO:           accuracy = 0.9681\n",
      "INFO: == Epoch 005 ==========\n",
      "INFO: ## Training summary\n",
      "INFO:           accuracy = 0.9814\n",
      "INFO:               time = 3.4267 seconds\n",
      "INFO: ## Validation summary\n",
      "INFO:           accuracy = 0.9706\n",
      "INFO: == Epoch 006 ==========\n",
      "INFO: ## Training summary\n",
      "INFO:           accuracy = 0.9849\n",
      "INFO:               time = 3.5449 seconds\n",
      "INFO: ## Validation summary\n",
      "INFO:           accuracy = 0.9723\n",
      "INFO: == Epoch 007 ==========\n",
      "INFO: ## Training summary\n",
      "INFO:           accuracy = 0.9866\n",
      "INFO:               time = 3.4357 seconds\n",
      "INFO: ## Validation summary\n",
      "INFO:           accuracy = 0.9722\n",
      "INFO: == Epoch 008 ==========\n",
      "INFO: ## Training summary\n",
      "INFO:           accuracy = 0.9877\n",
      "INFO:               time = 3.3715 seconds\n",
      "INFO: ## Validation summary\n",
      "INFO:           accuracy = 0.9762\n",
      "INFO: == Epoch 009 ==========\n",
      "INFO: ## Training summary\n",
      "INFO:           accuracy = 0.9884\n",
      "INFO:               time = 3.5188 seconds\n",
      "INFO: ## Validation summary\n",
      "INFO:           accuracy = 0.9760\n",
      "INFO: == Epoch 010 ==========\n",
      "INFO: ## Training summary\n",
      "INFO:           accuracy = 0.9898\n",
      "INFO:               time = 3.3600 seconds\n",
      "INFO: ## Validation summary\n",
      "INFO:           accuracy = 0.9753\n",
      "INFO: == Epoch 011 ==========\n",
      "INFO: ## Training summary\n",
      "INFO:           accuracy = 0.9913\n",
      "INFO:               time = 3.4289 seconds\n",
      "INFO: ## Validation summary\n",
      "INFO:           accuracy = 0.9745\n",
      "INFO: == Epoch 012 ==========\n",
      "INFO: ## Training summary\n",
      "INFO:           accuracy = 0.9915\n",
      "INFO:               time = 3.4940 seconds\n",
      "INFO: ## Validation summary\n",
      "INFO:           accuracy = 0.9734\n",
      "INFO: == Epoch 013 ==========\n",
      "INFO: ## Training summary\n",
      "INFO:           accuracy = 0.9928\n",
      "INFO:               time = 3.2728 seconds\n",
      "INFO: ## Validation summary\n",
      "INFO:           accuracy = 0.9742\n",
      "INFO: == Epoch 014 ==========\n",
      "INFO: ## Training summary\n",
      "INFO:           accuracy = 0.9922\n",
      "INFO:               time = 3.4565 seconds\n",
      "INFO: ## Validation summary\n",
      "INFO:           accuracy = 0.9757\n",
      "INFO: == Epoch 015 ==========\n",
      "INFO: ## Training summary\n",
      "INFO:           accuracy = 0.9921\n",
      "INFO:               time = 3.3051 seconds\n",
      "INFO: ## Validation summary\n",
      "INFO:           accuracy = 0.9732\n",
      "INFO: == Epoch 016 ==========\n",
      "INFO: ## Training summary\n",
      "INFO:           accuracy = 0.9938\n",
      "INFO:               time = 3.4103 seconds\n",
      "INFO: ## Validation summary\n",
      "INFO:           accuracy = 0.9744\n",
      "INFO: == Epoch 017 ==========\n",
      "INFO: ## Training summary\n",
      "INFO:           accuracy = 0.9945\n",
      "INFO:               time = 3.3453 seconds\n",
      "INFO: ## Validation summary\n",
      "INFO:           accuracy = 0.9707\n",
      "INFO: == Epoch 018 ==========\n",
      "INFO: ## Training summary\n",
      "INFO:           accuracy = 0.9942\n",
      "INFO:               time = 3.3366 seconds\n",
      "INFO: ## Validation summary\n",
      "INFO:           accuracy = 0.9768\n",
      "INFO: == Epoch 019 ==========\n",
      "INFO: ## Training summary\n",
      "INFO:           accuracy = 0.9938\n",
      "INFO:               time = 3.5216 seconds\n",
      "INFO: ## Validation summary\n",
      "INFO:           accuracy = 0.9732\n",
      "INFO: == Epoch 020 ==========\n",
      "INFO: ## Training summary\n",
      "INFO:           accuracy = 0.9947\n",
      "INFO:               time = 3.2642 seconds\n",
      "INFO: ## Validation summary\n",
      "INFO:           accuracy = 0.9760\n"
     ]
    },
    {
     "name": "stdout",
     "output_type": "stream",
     "text": [
      " 78.032759 seconds (24.56 M allocations: 961.778 MB, 0.88% gc time)\n"
     ]
    }
   ],
   "source": [
    "@time mx.fit(model, optimizer, train_provider, n_epoch=20, eval_data=eval_provider)\n"
   ]
  },
  {
   "cell_type": "code",
   "execution_count": 12,
   "metadata": {
    "collapsed": false
   },
   "outputs": [
    {
     "data": {
      "text/plain": [
       "10x10000 Array{Float32,2}:\n",
       " 5.79763e-13  8.34022e-22  1.0123e-11   …  2.20957e-17  1.18963e-17\n",
       " 1.54726e-8   1.46249e-11  0.999997        7.51705e-23  2.22471e-24\n",
       " 3.26623e-11  1.0          2.08448e-8      7.72174e-25  2.41204e-23\n",
       " 3.57994e-10  1.76444e-18  2.36883e-11     3.47416e-17  1.87433e-28\n",
       " 3.50414e-10  1.37008e-22  2.97204e-7      6.7937e-31   1.13583e-18\n",
       " 4.16315e-12  3.84812e-19  4.02902e-9   …  1.0          2.60441e-19\n",
       " 5.68832e-15  3.49655e-19  3.95294e-9      5.0934e-15   1.0        \n",
       " 1.0          1.36276e-13  5.80916e-7      2.25628e-20  9.75627e-33\n",
       " 2.91113e-13  6.68736e-22  2.39233e-6      3.49587e-13  3.3515e-20 \n",
       " 4.67181e-7   6.65774e-28  3.33547e-9      7.99229e-20  1.18165e-19"
      ]
     },
     "execution_count": 12,
     "metadata": {},
     "output_type": "execute_result"
    }
   ],
   "source": [
    "probs = mx.predict(model, eval_provider)"
   ]
  },
  {
   "cell_type": "code",
   "execution_count": 14,
   "metadata": {
    "collapsed": false
   },
   "outputs": [
    {
     "data": {
      "text/plain": [
       "10000-element Array{Float32,1}:\n",
       " 7.0\n",
       " 2.0\n",
       " 1.0\n",
       " 0.0\n",
       " 4.0\n",
       " 1.0\n",
       " 4.0\n",
       " 9.0\n",
       " 5.0\n",
       " 9.0\n",
       " 0.0\n",
       " 6.0\n",
       " 9.0\n",
       " ⋮  \n",
       " 5.0\n",
       " 6.0\n",
       " 7.0\n",
       " 8.0\n",
       " 9.0\n",
       " 0.0\n",
       " 1.0\n",
       " 2.0\n",
       " 3.0\n",
       " 4.0\n",
       " 5.0\n",
       " 6.0"
      ]
     },
     "execution_count": 14,
     "metadata": {},
     "output_type": "execute_result"
    }
   ],
   "source": [
    "# collect all labels from eval data\n",
    "labels = Array[]\n",
    "for batch in eval_provider\n",
    "    push!(labels, copy(mx.get(eval_provider, batch, :softmax_label)))\n",
    "end\n",
    "labels = cat(1, labels...)\n"
   ]
  },
  {
   "cell_type": "code",
   "execution_count": 15,
   "metadata": {
    "collapsed": false
   },
   "outputs": [
    {
     "name": "stdout",
     "output_type": "stream",
     "text": [
      "Accuracy on eval set: 97.60%\n"
     ]
    }
   ],
   "source": [
    "# Now we use compute the accuracy\n",
    "correct = 0\n",
    "for i = 1:length(labels)\n",
    "    # labels are 0...9\n",
    "    if indmax(probs[:,i]) == labels[i]+1\n",
    "        correct += 1\n",
    "    end\n",
    "end\n",
    "accuracy = 100correct/length(labels)\n",
    "println(mx.format(\"Accuracy on eval set: {1:.2f}%\", accuracy))"
   ]
  },
  {
   "cell_type": "code",
   "execution_count": null,
   "metadata": {
    "collapsed": false
   },
   "outputs": [
    {
     "name": "stderr",
     "output_type": "stream",
     "text": [
      "INFO: Testing MXNet\n",
      "WARNING: module mx should explicitly import transpose from Base\n",
      "INFO: SymbolicNode::basic\n"
     ]
    }
   ],
   "source": [
    "Pkg.test(\"MXNet\")"
   ]
  },
  {
   "cell_type": "code",
   "execution_count": null,
   "metadata": {
    "collapsed": true
   },
   "outputs": [],
   "source": []
  }
 ],
 "metadata": {
  "kernelspec": {
   "display_name": "Julia 0.4.5",
   "language": "julia",
   "name": "julia-0.4"
  },
  "language_info": {
   "file_extension": ".jl",
   "mimetype": "application/julia",
   "name": "julia",
   "version": "0.4.5"
  }
 },
 "nbformat": 4,
 "nbformat_minor": 0
}
