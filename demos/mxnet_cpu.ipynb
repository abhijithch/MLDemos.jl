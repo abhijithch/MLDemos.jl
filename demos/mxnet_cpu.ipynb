{
 "cells": [
  {
   "cell_type": "markdown",
   "metadata": {},
   "source": [
    "## MXNet\n",
    "\n",
    "MXNet is a deep learning framework designed for both efficiency and flexibility. It allows you to mix the flavours of symbolic programming and imperative programming to maximize efficiency and productivity. In its core, a dynamic dependency scheduler that automatically parallelizes both symbolic and imperative operations on the fly. A graph optimization layer on top of that makes symbolic execution fast and memory efficient. The library is portable and lightweight, and it scales to multiple GPUs and multiple machines."
   ]
  },
  {
   "cell_type": "markdown",
   "metadata": {},
   "source": [
    "#### Simple multi-layer perceptron: \n",
    "\n",
    "Here we have the CPU version of a 3-layer MLP model to perform digit recognition on the MNIST dataset. "
   ]
  },
  {
   "cell_type": "code",
   "execution_count": 1,
   "metadata": {
    "collapsed": false
   },
   "outputs": [],
   "source": [
    "ENV[\"MXNET_HOME\"] = \"/home/ubuntu/mxnet/\"\n",
    "Base.compilecache(\"MXNet\")\n",
    "using MXNet"
   ]
  },
  {
   "cell_type": "code",
   "execution_count": 2,
   "metadata": {
    "collapsed": false
   },
   "outputs": [
    {
     "data": {
      "text/plain": [
       "MXNet.mx.SymbolicNode(MXNet.mx.MX_SymbolHandle(Ptr{Void} @0x0000000002832110))"
      ]
     },
     "execution_count": 2,
     "metadata": {},
     "output_type": "execute_result"
    }
   ],
   "source": [
    "data = mx.Variable(:data)"
   ]
  },
  {
   "cell_type": "code",
   "execution_count": 3,
   "metadata": {
    "collapsed": false
   },
   "outputs": [
    {
     "data": {
      "text/plain": [
       "MXNet.mx.SymbolicNode(MXNet.mx.MX_SymbolHandle(Ptr{Void} @0x0000000002d1cdf0))"
      ]
     },
     "execution_count": 3,
     "metadata": {},
     "output_type": "execute_result"
    }
   ],
   "source": [
    "fc1  = mx.FullyConnected(data = data, name=:fc1, num_hidden=128)\n",
    "act1 = mx.Activation(data = fc1, name=:relu1, act_type=:relu)\n",
    "fc2  = mx.FullyConnected(data = act1, name=:fc2, num_hidden=64)\n",
    "act2 = mx.Activation(data = fc2, name=:relu2, act_type=:relu)\n",
    "fc3  = mx.FullyConnected(data = act2, name=:fc3, num_hidden=10)"
   ]
  },
  {
   "cell_type": "code",
   "execution_count": 4,
   "metadata": {
    "collapsed": false
   },
   "outputs": [
    {
     "data": {
      "text/plain": [
       "MXNet.mx.SymbolicNode(MXNet.mx.MX_SymbolHandle(Ptr{Void} @0x0000000002d3e140))"
      ]
     },
     "execution_count": 4,
     "metadata": {},
     "output_type": "execute_result"
    }
   ],
   "source": [
    "mlp  = mx.SoftmaxOutput(data = fc3, name=:softmax)"
   ]
  },
  {
   "cell_type": "code",
   "execution_count": 5,
   "metadata": {
    "collapsed": false
   },
   "outputs": [
    {
     "data": {
      "text/plain": [
       "MXNet.mx.SymbolicNode(MXNet.mx.MX_SymbolHandle(Ptr{Void} @0x0000000002e184f0))"
      ]
     },
     "execution_count": 5,
     "metadata": {},
     "output_type": "execute_result"
    }
   ],
   "source": [
    "mlp = @mx.chain mx.Variable(:data)             =>\n",
    "  mx.FullyConnected(name=:fc1, num_hidden=128) =>\n",
    "  mx.Activation(name=:relu1, act_type=:relu)   =>\n",
    "  mx.FullyConnected(name=:fc2, num_hidden=64)  =>\n",
    "  mx.Activation(name=:relu2, act_type=:relu)   =>\n",
    "  mx.FullyConnected(name=:fc3, num_hidden=10)  =>\n",
    "  mx.SoftmaxOutput(name=:softmax)"
   ]
  },
  {
   "cell_type": "code",
   "execution_count": 6,
   "metadata": {
    "collapsed": false
   },
   "outputs": [
    {
     "data": {
      "text/plain": [
       "(MXNet.mx.MXDataProvider(MXNet.mx.MX_DataIterHandle(Ptr{Void} @0x000000000304d4f0),Tuple{Symbol,Tuple}[(:data,(784,100))],Tuple{Symbol,Tuple}[(:softmax_label,(100,))],100,true,true),MXNet.mx.MXDataProvider(MXNet.mx.MX_DataIterHandle(Ptr{Void} @0x0000000002db00b0),Tuple{Symbol,Tuple}[(:data,(784,100))],Tuple{Symbol,Tuple}[(:softmax_label,(100,))],100,true,true))"
      ]
     },
     "execution_count": 6,
     "metadata": {},
     "output_type": "execute_result"
    }
   ],
   "source": [
    "batch_size = 100\n",
    "include(Pkg.dir(\"MXNet\", \"examples\", \"mnist\", \"mnist-data.jl\"))\n",
    "train_provider, eval_provider = get_mnist_providers(batch_size)"
   ]
  },
  {
   "cell_type": "code",
   "execution_count": 7,
   "metadata": {
    "collapsed": false
   },
   "outputs": [
    {
     "data": {
      "text/plain": [
       "MXNet.mx.FeedForward(MXNet.mx.SymbolicNode(MXNet.mx.MX_SymbolHandle(Ptr{Void} @0x0000000002e184f0)),[CPU0],#undef,#undef,#undef)"
      ]
     },
     "execution_count": 7,
     "metadata": {},
     "output_type": "execute_result"
    }
   ],
   "source": [
    "model = mx.FeedForward(mlp, context=mx.cpu())"
   ]
  },
  {
   "cell_type": "code",
   "execution_count": 8,
   "metadata": {
    "collapsed": false
   },
   "outputs": [
    {
     "data": {
      "text/plain": [
       "MXNet.mx.SGD(MXNet.mx.SGDOptions(0.1,0.9,0,1.0e-5,MXNet.mx.LearningRate.Fixed(0.1),MXNet.mx.Momentum.Fixed(0.9)),#undef)"
      ]
     },
     "execution_count": 8,
     "metadata": {},
     "output_type": "execute_result"
    }
   ],
   "source": [
    "optimizer = mx.SGD(lr=0.1, momentum=0.9, weight_decay=0.00001)"
   ]
  },
  {
   "cell_type": "code",
   "execution_count": 9,
   "metadata": {
    "collapsed": false
   },
   "outputs": [
    {
     "name": "stderr",
     "output_type": "stream",
     "text": [
      "INFO: Start training on [CPU0]\n",
      "INFO: Initializing parameters...\n",
      "INFO: Creating KVStore...\n",
      "INFO: TempSpace: Total 0 MB allocated on CPU0\n",
      "INFO: Start training...\n",
      "INFO: == Epoch 001 ==========\n",
      "INFO: ## Training summary\n",
      "INFO:           accuracy = 0.7601\n",
      "INFO:               time = 79.2076 seconds\n",
      "INFO: ## Validation summary\n",
      "INFO:           accuracy = 0.9498\n",
      "INFO: == Epoch 002 ==========\n",
      "INFO: ## Training summary\n",
      "INFO:           accuracy = 0.9591\n",
      "INFO:               time = 80.3366 seconds\n",
      "INFO: ## Validation summary\n",
      "INFO:           accuracy = 0.9619\n",
      "INFO: == Epoch 003 ==========\n",
      "INFO: ## Training summary\n",
      "INFO:           accuracy = 0.9728\n",
      "INFO:               time = 84.7242 seconds\n",
      "INFO: ## Validation summary\n",
      "INFO:           accuracy = 0.9649\n",
      "INFO: == Epoch 004 ==========\n",
      "INFO: ## Training summary\n",
      "INFO:           accuracy = 0.9788\n",
      "INFO:               time = 82.3494 seconds\n",
      "INFO: ## Validation summary\n",
      "INFO:           accuracy = 0.9703\n",
      "INFO: == Epoch 005 ==========\n",
      "INFO: ## Training summary\n",
      "INFO:           accuracy = 0.9823\n",
      "INFO:               time = 83.3827 seconds\n",
      "INFO: ## Validation summary\n",
      "INFO:           accuracy = 0.9728\n",
      "INFO: == Epoch 006 ==========\n",
      "INFO: ## Training summary\n",
      "INFO:           accuracy = 0.9847\n",
      "INFO:               time = 81.1912 seconds\n",
      "INFO: ## Validation summary\n",
      "INFO:           accuracy = 0.9738\n",
      "INFO: == Epoch 007 ==========\n",
      "INFO: ## Training summary\n",
      "INFO:           accuracy = 0.9861\n",
      "INFO:               time = 83.6950 seconds\n",
      "INFO: ## Validation summary\n",
      "INFO:           accuracy = 0.9730\n",
      "INFO: == Epoch 008 ==========\n",
      "INFO: ## Training summary\n",
      "INFO:           accuracy = 0.9876\n",
      "INFO:               time = 87.6382 seconds\n",
      "INFO: ## Validation summary\n",
      "INFO:           accuracy = 0.9697\n",
      "INFO: == Epoch 009 ==========\n",
      "INFO: ## Training summary\n",
      "INFO:           accuracy = 0.9885\n",
      "INFO:               time = 112.5983 seconds\n",
      "INFO: ## Validation summary\n",
      "INFO:           accuracy = 0.9729\n",
      "INFO: == Epoch 010 ==========\n",
      "INFO: ## Training summary\n",
      "INFO:           accuracy = 0.9892\n",
      "INFO:               time = 92.7522 seconds\n",
      "INFO: ## Validation summary\n",
      "INFO:           accuracy = 0.9748\n",
      "INFO: == Epoch 011 ==========\n",
      "INFO: ## Training summary\n",
      "INFO:           accuracy = 0.9912\n",
      "INFO:               time = 84.8109 seconds\n",
      "INFO: ## Validation summary\n",
      "INFO:           accuracy = 0.9784\n",
      "INFO: == Epoch 012 ==========\n",
      "INFO: ## Training summary\n",
      "INFO:           accuracy = 0.9912\n",
      "INFO:               time = 82.3110 seconds\n",
      "INFO: ## Validation summary\n",
      "INFO:           accuracy = 0.9757\n",
      "INFO: == Epoch 013 ==========\n",
      "INFO: ## Training summary\n",
      "INFO:           accuracy = 0.9916\n",
      "INFO:               time = 83.8452 seconds\n",
      "INFO: ## Validation summary\n",
      "INFO:           accuracy = 0.9763\n",
      "INFO: == Epoch 014 ==========\n",
      "INFO: ## Training summary\n",
      "INFO:           accuracy = 0.9932\n",
      "INFO:               time = 84.9149 seconds\n",
      "INFO: ## Validation summary\n",
      "INFO:           accuracy = 0.9744\n",
      "INFO: == Epoch 015 ==========\n",
      "INFO: ## Training summary\n",
      "INFO:           accuracy = 0.9927\n",
      "INFO:               time = 82.5378 seconds\n",
      "INFO: ## Validation summary\n",
      "INFO:           accuracy = 0.9774\n",
      "INFO: == Epoch 016 ==========\n",
      "INFO: ## Training summary\n",
      "INFO:           accuracy = 0.9930\n",
      "INFO:               time = 82.0644 seconds\n",
      "INFO: ## Validation summary\n",
      "INFO:           accuracy = 0.9761\n",
      "INFO: == Epoch 017 ==========\n",
      "INFO: ## Training summary\n",
      "INFO:           accuracy = 0.9932\n",
      "INFO:               time = 84.4499 seconds\n",
      "INFO: ## Validation summary\n",
      "INFO:           accuracy = 0.9750\n",
      "INFO: == Epoch 018 ==========\n",
      "INFO: ## Training summary\n",
      "INFO:           accuracy = 0.9943\n",
      "INFO:               time = 81.0815 seconds\n",
      "INFO: ## Validation summary\n",
      "INFO:           accuracy = 0.9780\n",
      "INFO: == Epoch 019 ==========\n",
      "INFO: ## Training summary\n",
      "INFO:           accuracy = 0.9938\n",
      "INFO:               time = 84.1596 seconds\n",
      "INFO: ## Validation summary\n",
      "INFO:           accuracy = 0.9760\n",
      "INFO: == Epoch 020 ==========\n",
      "INFO: ## Training summary\n",
      "INFO:           accuracy = 0.9945\n",
      "INFO:               time = 83.8395 seconds\n",
      "INFO: ## Validation summary\n",
      "INFO:           accuracy = 0.9757\n"
     ]
    },
    {
     "name": "stdout",
     "output_type": "stream",
     "text": [
      "1803.345689 seconds (31.89 M allocations: 1.069 GB, 0.05% gc time)\n"
     ]
    }
   ],
   "source": [
    "@time mx.fit(model, optimizer, train_provider, n_epoch=20, eval_data=eval_provider)\n"
   ]
  },
  {
   "cell_type": "code",
   "execution_count": 21,
   "metadata": {
    "collapsed": false
   },
   "outputs": [
    {
     "name": "stderr",
     "output_type": "stream",
     "text": [
      "INFO: TempSpace: Total 0 MB allocated on CPU0\n"
     ]
    },
    {
     "data": {
      "text/plain": [
       "10x10000 Array{Float32,2}:\n",
       " 4.59429e-14  3.18306e-18  2.52542e-13  …  5.56595e-14  1.71275e-16\n",
       " 3.70478e-8   8.59895e-10  1.0             9.69901e-20  1.14819e-24\n",
       " 3.6383e-12   1.0          5.80729e-10     1.6547e-22   2.9313e-24 \n",
       " 4.11983e-10  1.58855e-17  9.64722e-15     3.17896e-16  3.41109e-25\n",
       " 1.65231e-9   3.37197e-20  1.59045e-8      1.07894e-25  8.58869e-25\n",
       " 1.55073e-11  6.13501e-20  7.77721e-10  …  1.0          1.96767e-16\n",
       " 1.51797e-14  1.56352e-17  6.11919e-10     1.80598e-11  1.0        \n",
       " 1.0          1.86019e-16  1.92821e-7      2.16589e-20  1.73618e-34\n",
       " 8.00314e-11  6.92101e-18  4.12114e-8      6.71468e-10  1.03235e-16\n",
       " 2.6602e-8    1.79244e-25  2.14456e-11     8.00378e-22  1.8358e-22 "
      ]
     },
     "execution_count": 21,
     "metadata": {},
     "output_type": "execute_result"
    }
   ],
   "source": [
    "probs = mx.predict(model, eval_provider)"
   ]
  },
  {
   "cell_type": "code",
   "execution_count": 22,
   "metadata": {
    "collapsed": false
   },
   "outputs": [
    {
     "data": {
      "text/plain": [
       "10000-element Array{Float32,1}:\n",
       " 7.0\n",
       " 2.0\n",
       " 1.0\n",
       " 0.0\n",
       " 4.0\n",
       " 1.0\n",
       " 4.0\n",
       " 9.0\n",
       " 5.0\n",
       " 9.0\n",
       " 0.0\n",
       " 6.0\n",
       " 9.0\n",
       " ⋮  \n",
       " 5.0\n",
       " 6.0\n",
       " 7.0\n",
       " 8.0\n",
       " 9.0\n",
       " 0.0\n",
       " 1.0\n",
       " 2.0\n",
       " 3.0\n",
       " 4.0\n",
       " 5.0\n",
       " 6.0"
      ]
     },
     "execution_count": 22,
     "metadata": {},
     "output_type": "execute_result"
    }
   ],
   "source": [
    "# collect all labels from eval data\n",
    "labels = Array[]\n",
    "for batch in eval_provider\n",
    "    push!(labels, copy(mx.get(eval_provider, batch, :softmax_label)))\n",
    "end\n",
    "labels = cat(1, labels...)\n"
   ]
  },
  {
   "cell_type": "code",
   "execution_count": 23,
   "metadata": {
    "collapsed": false
   },
   "outputs": [
    {
     "name": "stdout",
     "output_type": "stream",
     "text": [
      "Accuracy on eval set: 97.31%\n"
     ]
    }
   ],
   "source": [
    "# Now we use compute the accuracy\n",
    "correct = 0\n",
    "for i = 1:length(labels)\n",
    "    # labels are 0...9\n",
    "    if indmax(probs[:,i]) == labels[i]+1\n",
    "        correct += 1\n",
    "    end\n",
    "end\n",
    "accuracy = 100correct/length(labels)\n",
    "println(mx.format(\"Accuracy on eval set: {1:.2f}%\", accuracy))"
   ]
  },
  {
   "cell_type": "code",
   "execution_count": 24,
   "metadata": {
    "collapsed": false
   },
   "outputs": [
    {
     "data": {
      "text/plain": [
       "10000-element Array{Float32,1}:\n",
       " 7.0\n",
       " 2.0\n",
       " 1.0\n",
       " 0.0\n",
       " 4.0\n",
       " 1.0\n",
       " 4.0\n",
       " 9.0\n",
       " 5.0\n",
       " 9.0\n",
       " 0.0\n",
       " 6.0\n",
       " 9.0\n",
       " ⋮  \n",
       " 5.0\n",
       " 6.0\n",
       " 7.0\n",
       " 8.0\n",
       " 9.0\n",
       " 0.0\n",
       " 1.0\n",
       " 2.0\n",
       " 3.0\n",
       " 4.0\n",
       " 5.0\n",
       " 6.0"
      ]
     },
     "execution_count": 24,
     "metadata": {},
     "output_type": "execute_result"
    }
   ],
   "source": [
    "labels"
   ]
  },
  {
   "cell_type": "code",
   "execution_count": 16,
   "metadata": {
    "collapsed": false
   },
   "outputs": [
    {
     "data": {
      "text/plain": [
       "784-element Array{Float64,1}:\n",
       " 0.0\n",
       " 0.0\n",
       " 0.0\n",
       " 0.0\n",
       " 0.0\n",
       " 0.0\n",
       " 0.0\n",
       " 0.0\n",
       " 0.0\n",
       " 0.0\n",
       " 0.0\n",
       " 0.0\n",
       " 0.0\n",
       " ⋮  \n",
       " 0.0\n",
       " 0.0\n",
       " 0.0\n",
       " 0.0\n",
       " 0.0\n",
       " 0.0\n",
       " 0.0\n",
       " 0.0\n",
       " 0.0\n",
       " 0.0\n",
       " 0.0\n",
       " 0.0"
      ]
     },
     "execution_count": 16,
     "metadata": {},
     "output_type": "execute_result"
    }
   ],
   "source": [
    "features = trainfeatures(60000)"
   ]
  },
  {
   "cell_type": "code",
   "execution_count": 25,
   "metadata": {
    "collapsed": false
   },
   "outputs": [
    {
     "data": {
      "text/plain": [
       "784-element Array{Float64,1}:\n",
       " 0.0\n",
       " 0.0\n",
       " 0.0\n",
       " 0.0\n",
       " 0.0\n",
       " 0.0\n",
       " 0.0\n",
       " 0.0\n",
       " 0.0\n",
       " 0.0\n",
       " 0.0\n",
       " 0.0\n",
       " 0.0\n",
       " ⋮  \n",
       " 0.0\n",
       " 0.0\n",
       " 0.0\n",
       " 0.0\n",
       " 0.0\n",
       " 0.0\n",
       " 0.0\n",
       " 0.0\n",
       " 0.0\n",
       " 0.0\n",
       " 0.0\n",
       " 0.0"
      ]
     },
     "execution_count": 25,
     "metadata": {},
     "output_type": "execute_result"
    }
   ],
   "source": [
    "testfeatures(1)"
   ]
  },
  {
   "cell_type": "code",
   "execution_count": null,
   "metadata": {
    "collapsed": true
   },
   "outputs": [],
   "source": []
  }
 ],
 "metadata": {
  "kernelspec": {
   "display_name": "Julia 0.4.5",
   "language": "julia",
   "name": "julia-0.4"
  },
  "language_info": {
   "file_extension": ".jl",
   "mimetype": "application/julia",
   "name": "julia",
   "version": "0.4.5"
  }
 },
 "nbformat": 4,
 "nbformat_minor": 0
}
