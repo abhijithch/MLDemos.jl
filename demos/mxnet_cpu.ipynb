{
 "cells": [
  {
   "cell_type": "markdown",
   "metadata": {},
   "source": [
    "## MXNet\n",
    "\n",
    "MXNet is a deep learning framework designed for both efficiency and flexibility. It allows you to mix the flavours of symbolic programming and imperative programming to maximize efficiency and productivity. In its core, a dynamic dependency scheduler that automatically parallelizes both symbolic and imperative operations on the fly. A graph optimization layer on top of that makes symbolic execution fast and memory efficient. The library is portable and lightweight, and it scales to multiple GPUs and multiple machines."
   ]
  },
  {
   "cell_type": "markdown",
   "metadata": {},
   "source": [
    "#### Simple multi-layer perceptron: \n",
    "\n",
    "Here we have the CPU version of a 3-layer MLP model to perform digit recognition on the MNIST dataset. "
   ]
  },
  {
   "cell_type": "code",
   "execution_count": 2,
   "metadata": {
    "collapsed": false
   },
   "outputs": [],
   "source": [
    "ENV[\"MXNET_HOME\"] = \"/home/ubuntu/mxnet/\"\n",
    "Base.compilecache(\"MXNet\")\n",
    "using MXNet"
   ]
  },
  {
   "cell_type": "code",
   "execution_count": 3,
   "metadata": {
    "collapsed": false
   },
   "outputs": [
    {
     "data": {
      "text/plain": [
       "MXNet.mx.SymbolicNode(MXNet.mx.MX_SymbolHandle(Ptr{Void} @0x0000000003f290a0))"
      ]
     },
     "execution_count": 3,
     "metadata": {},
     "output_type": "execute_result"
    }
   ],
   "source": [
    "data = mx.Variable(:data)"
   ]
  },
  {
   "cell_type": "code",
   "execution_count": 4,
   "metadata": {
    "collapsed": false
   },
   "outputs": [
    {
     "data": {
      "text/plain": [
       "MXNet.mx.SymbolicNode(MXNet.mx.MX_SymbolHandle(Ptr{Void} @0x0000000004212c50))"
      ]
     },
     "execution_count": 4,
     "metadata": {},
     "output_type": "execute_result"
    }
   ],
   "source": [
    "fc1  = mx.FullyConnected(data = data, name=:fc1, num_hidden=128)\n",
    "act1 = mx.Activation(data = fc1, name=:relu1, act_type=:relu)\n",
    "fc2  = mx.FullyConnected(data = act1, name=:fc2, num_hidden=64)\n",
    "act2 = mx.Activation(data = fc2, name=:relu2, act_type=:relu)\n",
    "fc3  = mx.FullyConnected(data = act2, name=:fc3, num_hidden=10)"
   ]
  },
  {
   "cell_type": "code",
   "execution_count": 5,
   "metadata": {
    "collapsed": false
   },
   "outputs": [
    {
     "data": {
      "text/plain": [
       "MXNet.mx.SymbolicNode(MXNet.mx.MX_SymbolHandle(Ptr{Void} @0x00000000042763f0))"
      ]
     },
     "execution_count": 5,
     "metadata": {},
     "output_type": "execute_result"
    }
   ],
   "source": [
    "mlp  = mx.SoftmaxOutput(data = fc3, name=:softmax)"
   ]
  },
  {
   "cell_type": "code",
   "execution_count": 6,
   "metadata": {
    "collapsed": false
   },
   "outputs": [
    {
     "data": {
      "text/plain": [
       "MXNet.mx.SymbolicNode(MXNet.mx.MX_SymbolHandle(Ptr{Void} @0x00000000043313a0))"
      ]
     },
     "execution_count": 6,
     "metadata": {},
     "output_type": "execute_result"
    }
   ],
   "source": [
    "mlp = @mx.chain mx.Variable(:data)             =>\n",
    "  mx.FullyConnected(name=:fc1, num_hidden=128) =>\n",
    "  mx.Activation(name=:relu1, act_type=:relu)   =>\n",
    "  mx.FullyConnected(name=:fc2, num_hidden=64)  =>\n",
    "  mx.Activation(name=:relu2, act_type=:relu)   =>\n",
    "  mx.FullyConnected(name=:fc3, num_hidden=10)  =>\n",
    "  mx.SoftmaxOutput(name=:softmax)"
   ]
  },
  {
   "cell_type": "code",
   "execution_count": 7,
   "metadata": {
    "collapsed": false
   },
   "outputs": [
    {
     "data": {
      "text/plain": [
       "(MXNet.mx.MXDataProvider(MXNet.mx.MX_DataIterHandle(Ptr{Void} @0x0000000004361d60),Tuple{Symbol,Tuple}[(:data,(784,100))],Tuple{Symbol,Tuple}[(:softmax_label,(100,))],100,true,true),MXNet.mx.MXDataProvider(MXNet.mx.MX_DataIterHandle(Ptr{Void} @0x00000000044e0b80),Tuple{Symbol,Tuple}[(:data,(784,100))],Tuple{Symbol,Tuple}[(:softmax_label,(100,))],100,true,true))"
      ]
     },
     "execution_count": 7,
     "metadata": {},
     "output_type": "execute_result"
    }
   ],
   "source": [
    "batch_size = 100\n",
    "include(Pkg.dir(\"MXNet\", \"examples\", \"mnist\", \"mnist-data.jl\"))\n",
    "train_provider, eval_provider = get_mnist_providers(batch_size)"
   ]
  },
  {
   "cell_type": "code",
   "execution_count": 8,
   "metadata": {
    "collapsed": false
   },
   "outputs": [
    {
     "data": {
      "text/plain": [
       "MXNet.mx.MXDataProvider"
      ]
     },
     "execution_count": 8,
     "metadata": {},
     "output_type": "execute_result"
    }
   ],
   "source": [
    "typeof(train_provider)"
   ]
  },
  {
   "cell_type": "code",
   "execution_count": 18,
   "metadata": {
    "collapsed": false
   },
   "outputs": [
    {
     "data": {
      "text/plain": [
       "MXNet.mx.FeedForward(MXNet.mx.SymbolicNode(MXNet.mx.MX_SymbolHandle(Ptr{Void} @0x00000000043313a0)),[CPU0],#undef,#undef,#undef)"
      ]
     },
     "execution_count": 18,
     "metadata": {},
     "output_type": "execute_result"
    }
   ],
   "source": [
    "model = mx.FeedForward(mlp, context=mx.cpu())"
   ]
  },
  {
   "cell_type": "code",
   "execution_count": 19,
   "metadata": {
    "collapsed": false
   },
   "outputs": [
    {
     "data": {
      "text/plain": [
       "MXNet.mx.SGD(MXNet.mx.SGDOptions(0.1,0.9,0,1.0e-5,MXNet.mx.LearningRate.Fixed(0.1),MXNet.mx.Momentum.Fixed(0.9)),#undef)"
      ]
     },
     "execution_count": 19,
     "metadata": {},
     "output_type": "execute_result"
    }
   ],
   "source": [
    "optimizer = mx.SGD(lr=0.1, momentum=0.9, weight_decay=0.00001)"
   ]
  },
  {
   "cell_type": "code",
   "execution_count": 20,
   "metadata": {
    "collapsed": false
   },
   "outputs": [
    {
     "name": "stderr",
     "output_type": "stream",
     "text": [
      "INFO: Start training on [CPU0]\n",
      "INFO: Initializing parameters...\n",
      "INFO: Creating KVStore...\n",
      "INFO: TempSpace: Total 0 MB allocated on CPU0\n",
      "INFO: Start training...\n",
      "INFO: == Epoch 001 ==========\n",
      "INFO: ## Training summary\n",
      "INFO:           accuracy = 0.7598\n",
      "INFO:               time = 76.5261 seconds\n",
      "INFO: ## Validation summary\n",
      "INFO:           accuracy = 0.9542\n",
      "INFO: == Epoch 002 ==========\n",
      "INFO: ## Training summary\n",
      "INFO:           accuracy = 0.9586\n",
      "INFO:               time = 77.3835 seconds\n",
      "INFO: ## Validation summary\n",
      "INFO:           accuracy = 0.9656\n",
      "INFO: == Epoch 003 ==========\n",
      "INFO: ## Training summary\n",
      "INFO:           accuracy = 0.9718\n",
      "INFO:               time = 75.8727 seconds\n",
      "INFO: ## Validation summary\n",
      "INFO:           accuracy = 0.9660\n",
      "INFO: == Epoch 004 ==========\n",
      "INFO: ## Training summary\n",
      "INFO:           accuracy = 0.9775\n",
      "INFO:               time = 79.3376 seconds\n",
      "INFO: ## Validation summary\n",
      "INFO:           accuracy = 0.9716\n",
      "INFO: == Epoch 005 ==========\n",
      "INFO: ## Training summary\n",
      "INFO:           accuracy = 0.9820\n",
      "INFO:               time = 78.6452 seconds\n",
      "INFO: ## Validation summary\n",
      "INFO:           accuracy = 0.9682\n",
      "INFO: == Epoch 006 ==========\n",
      "INFO: ## Training summary\n",
      "INFO:           accuracy = 0.9846\n",
      "INFO:               time = 77.2573 seconds\n",
      "INFO: ## Validation summary\n",
      "INFO:           accuracy = 0.9722\n",
      "INFO: == Epoch 007 ==========\n",
      "INFO: ## Training summary\n",
      "INFO:           accuracy = 0.9864\n",
      "INFO:               time = 78.2858 seconds\n",
      "INFO: ## Validation summary\n",
      "INFO:           accuracy = 0.9758\n",
      "INFO: == Epoch 008 ==========\n",
      "INFO: ## Training summary\n",
      "INFO:           accuracy = 0.9875\n",
      "INFO:               time = 78.8695 seconds\n",
      "INFO: ## Validation summary\n",
      "INFO:           accuracy = 0.9745\n",
      "INFO: == Epoch 009 ==========\n",
      "INFO: ## Training summary\n",
      "INFO:           accuracy = 0.9879\n",
      "INFO:               time = 78.1871 seconds\n",
      "INFO: ## Validation summary\n",
      "INFO:           accuracy = 0.9765\n",
      "INFO: == Epoch 010 ==========\n",
      "INFO: ## Training summary\n",
      "INFO:           accuracy = 0.9889\n",
      "INFO:               time = 77.5577 seconds\n",
      "INFO: ## Validation summary\n",
      "INFO:           accuracy = 0.9770\n",
      "INFO: == Epoch 011 ==========\n",
      "INFO: ## Training summary\n",
      "INFO:           accuracy = 0.9911\n",
      "INFO:               time = 74.8813 seconds\n",
      "INFO: ## Validation summary\n",
      "INFO:           accuracy = 0.9735\n",
      "INFO: == Epoch 012 ==========\n",
      "INFO: ## Training summary\n",
      "INFO:           accuracy = 0.9904\n",
      "INFO:               time = 77.1459 seconds\n",
      "INFO: ## Validation summary\n",
      "INFO:           accuracy = 0.9741\n",
      "INFO: == Epoch 013 ==========\n",
      "INFO: ## Training summary\n",
      "INFO:           accuracy = 0.9912\n",
      "INFO:               time = 77.5983 seconds\n",
      "INFO: ## Validation summary\n",
      "INFO:           accuracy = 0.9723\n",
      "INFO: == Epoch 014 ==========\n",
      "INFO: ## Training summary\n",
      "INFO:           accuracy = 0.9921\n",
      "INFO:               time = 76.8788 seconds\n",
      "INFO: ## Validation summary\n",
      "INFO:           accuracy = 0.9727\n",
      "INFO: == Epoch 015 ==========\n",
      "INFO: ## Training summary\n",
      "INFO:           accuracy = 0.9918\n",
      "INFO:               time = 75.0435 seconds\n",
      "INFO: ## Validation summary\n",
      "INFO:           accuracy = 0.9771\n",
      "INFO: == Epoch 016 ==========\n",
      "INFO: ## Training summary\n",
      "INFO:           accuracy = 0.9934\n",
      "INFO:               time = 75.5411 seconds\n",
      "INFO: ## Validation summary\n",
      "INFO:           accuracy = 0.9724\n",
      "INFO: == Epoch 017 ==========\n",
      "INFO: ## Training summary\n",
      "INFO:           accuracy = 0.9950\n",
      "INFO:               time = 77.0984 seconds\n",
      "INFO: ## Validation summary\n",
      "INFO:           accuracy = 0.9731\n",
      "INFO: == Epoch 018 ==========\n",
      "INFO: ## Training summary\n",
      "INFO:           accuracy = 0.9939\n",
      "INFO:               time = 80.1760 seconds\n",
      "INFO: ## Validation summary\n",
      "INFO:           accuracy = 0.9762\n",
      "INFO: == Epoch 019 ==========\n",
      "INFO: ## Training summary\n",
      "INFO:           accuracy = 0.9947\n",
      "INFO:               time = 76.6627 seconds\n",
      "INFO: ## Validation summary\n",
      "INFO:           accuracy = 0.9737\n",
      "INFO: == Epoch 020 ==========\n",
      "INFO: ## Training summary\n",
      "INFO:           accuracy = 0.9924\n",
      "INFO:               time = 76.5347 seconds\n",
      "INFO: ## Validation summary\n",
      "INFO:           accuracy = 0.9731\n"
     ]
    },
    {
     "name": "stdout",
     "output_type": "stream",
     "text": [
      "1639.104336 seconds (31.82 M allocations: 1.065 GB, 0.07% gc time)\n"
     ]
    }
   ],
   "source": [
    "@time mx.fit(model, optimizer, train_provider, n_epoch=20, eval_data=eval_provider)\n"
   ]
  },
  {
   "cell_type": "code",
   "execution_count": 21,
   "metadata": {
    "collapsed": false
   },
   "outputs": [
    {
     "name": "stderr",
     "output_type": "stream",
     "text": [
      "INFO: TempSpace: Total 0 MB allocated on CPU0\n"
     ]
    },
    {
     "data": {
      "text/plain": [
       "10x10000 Array{Float32,2}:\n",
       " 4.59429e-14  3.18306e-18  2.52542e-13  …  5.56595e-14  1.71275e-16\n",
       " 3.70478e-8   8.59895e-10  1.0             9.69901e-20  1.14819e-24\n",
       " 3.6383e-12   1.0          5.80729e-10     1.6547e-22   2.9313e-24 \n",
       " 4.11983e-10  1.58855e-17  9.64722e-15     3.17896e-16  3.41109e-25\n",
       " 1.65231e-9   3.37197e-20  1.59045e-8      1.07894e-25  8.58869e-25\n",
       " 1.55073e-11  6.13501e-20  7.77721e-10  …  1.0          1.96767e-16\n",
       " 1.51797e-14  1.56352e-17  6.11919e-10     1.80598e-11  1.0        \n",
       " 1.0          1.86019e-16  1.92821e-7      2.16589e-20  1.73618e-34\n",
       " 8.00314e-11  6.92101e-18  4.12114e-8      6.71468e-10  1.03235e-16\n",
       " 2.6602e-8    1.79244e-25  2.14456e-11     8.00378e-22  1.8358e-22 "
      ]
     },
     "execution_count": 21,
     "metadata": {},
     "output_type": "execute_result"
    }
   ],
   "source": [
    "probs = mx.predict(model, eval_provider)"
   ]
  },
  {
   "cell_type": "code",
   "execution_count": 22,
   "metadata": {
    "collapsed": false
   },
   "outputs": [
    {
     "data": {
      "text/plain": [
       "10000-element Array{Float32,1}:\n",
       " 7.0\n",
       " 2.0\n",
       " 1.0\n",
       " 0.0\n",
       " 4.0\n",
       " 1.0\n",
       " 4.0\n",
       " 9.0\n",
       " 5.0\n",
       " 9.0\n",
       " 0.0\n",
       " 6.0\n",
       " 9.0\n",
       " ⋮  \n",
       " 5.0\n",
       " 6.0\n",
       " 7.0\n",
       " 8.0\n",
       " 9.0\n",
       " 0.0\n",
       " 1.0\n",
       " 2.0\n",
       " 3.0\n",
       " 4.0\n",
       " 5.0\n",
       " 6.0"
      ]
     },
     "execution_count": 22,
     "metadata": {},
     "output_type": "execute_result"
    }
   ],
   "source": [
    "# collect all labels from eval data\n",
    "labels = Array[]\n",
    "for batch in eval_provider\n",
    "    push!(labels, copy(mx.get(eval_provider, batch, :softmax_label)))\n",
    "end\n",
    "labels = cat(1, labels...)\n"
   ]
  },
  {
   "cell_type": "code",
   "execution_count": 23,
   "metadata": {
    "collapsed": false
   },
   "outputs": [
    {
     "name": "stdout",
     "output_type": "stream",
     "text": [
      "Accuracy on eval set: 97.31%\n"
     ]
    }
   ],
   "source": [
    "# Now we use compute the accuracy\n",
    "correct = 0\n",
    "for i = 1:length(labels)\n",
    "    # labels are 0...9\n",
    "    if indmax(probs[:,i]) == labels[i]+1\n",
    "        correct += 1\n",
    "    end\n",
    "end\n",
    "accuracy = 100correct/length(labels)\n",
    "println(mx.format(\"Accuracy on eval set: {1:.2f}%\", accuracy))"
   ]
  },
  {
   "cell_type": "code",
   "execution_count": 24,
   "metadata": {
    "collapsed": false
   },
   "outputs": [
    {
     "data": {
      "text/plain": [
       "10000-element Array{Float32,1}:\n",
       " 7.0\n",
       " 2.0\n",
       " 1.0\n",
       " 0.0\n",
       " 4.0\n",
       " 1.0\n",
       " 4.0\n",
       " 9.0\n",
       " 5.0\n",
       " 9.0\n",
       " 0.0\n",
       " 6.0\n",
       " 9.0\n",
       " ⋮  \n",
       " 5.0\n",
       " 6.0\n",
       " 7.0\n",
       " 8.0\n",
       " 9.0\n",
       " 0.0\n",
       " 1.0\n",
       " 2.0\n",
       " 3.0\n",
       " 4.0\n",
       " 5.0\n",
       " 6.0"
      ]
     },
     "execution_count": 24,
     "metadata": {},
     "output_type": "execute_result"
    }
   ],
   "source": [
    "labels"
   ]
  },
  {
   "cell_type": "code",
   "execution_count": 16,
   "metadata": {
    "collapsed": false
   },
   "outputs": [
    {
     "data": {
      "text/plain": [
       "784-element Array{Float64,1}:\n",
       " 0.0\n",
       " 0.0\n",
       " 0.0\n",
       " 0.0\n",
       " 0.0\n",
       " 0.0\n",
       " 0.0\n",
       " 0.0\n",
       " 0.0\n",
       " 0.0\n",
       " 0.0\n",
       " 0.0\n",
       " 0.0\n",
       " ⋮  \n",
       " 0.0\n",
       " 0.0\n",
       " 0.0\n",
       " 0.0\n",
       " 0.0\n",
       " 0.0\n",
       " 0.0\n",
       " 0.0\n",
       " 0.0\n",
       " 0.0\n",
       " 0.0\n",
       " 0.0"
      ]
     },
     "execution_count": 16,
     "metadata": {},
     "output_type": "execute_result"
    }
   ],
   "source": [
    "features = trainfeatures(60000)"
   ]
  },
  {
   "cell_type": "code",
   "execution_count": 25,
   "metadata": {
    "collapsed": false
   },
   "outputs": [
    {
     "data": {
      "text/plain": [
       "784-element Array{Float64,1}:\n",
       " 0.0\n",
       " 0.0\n",
       " 0.0\n",
       " 0.0\n",
       " 0.0\n",
       " 0.0\n",
       " 0.0\n",
       " 0.0\n",
       " 0.0\n",
       " 0.0\n",
       " 0.0\n",
       " 0.0\n",
       " 0.0\n",
       " ⋮  \n",
       " 0.0\n",
       " 0.0\n",
       " 0.0\n",
       " 0.0\n",
       " 0.0\n",
       " 0.0\n",
       " 0.0\n",
       " 0.0\n",
       " 0.0\n",
       " 0.0\n",
       " 0.0\n",
       " 0.0"
      ]
     },
     "execution_count": 25,
     "metadata": {},
     "output_type": "execute_result"
    }
   ],
   "source": [
    "testfeatures(1)"
   ]
  },
  {
   "cell_type": "code",
   "execution_count": null,
   "metadata": {
    "collapsed": true
   },
   "outputs": [],
   "source": []
  }
 ],
 "metadata": {
  "kernelspec": {
   "display_name": "Julia 0.4.5",
   "language": "julia",
   "name": "julia-0.4"
  },
  "language_info": {
   "file_extension": ".jl",
   "mimetype": "application/julia",
   "name": "julia",
   "version": "0.4.5"
  }
 },
 "nbformat": 4,
 "nbformat_minor": 0
}
