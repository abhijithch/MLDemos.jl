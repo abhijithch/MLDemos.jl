{
 "cells": [
  {
   "cell_type": "markdown",
   "metadata": {},
   "source": [
    "## MXNet\n",
    "\n",
    "MXNet is a deep learning framework designed for both efficiency and flexibility. It allows you to mix the flavours of symbolic programming and imperative programming to maximize efficiency and productivity. In its core, a dynamic dependency scheduler that automatically parallelizes both symbolic and imperative operations on the fly. A graph optimization layer on top of that makes symbolic execution fast and memory efficient. The library is portable and lightweight, and it scales to multiple GPUs and multiple machines."
   ]
  },
  {
   "cell_type": "markdown",
   "metadata": {},
   "source": [
    "#### Simple multi-layer perceptron in MNIST"
   ]
  },
  {
   "cell_type": "code",
   "execution_count": 10,
   "metadata": {
    "collapsed": false
   },
   "outputs": [],
   "source": [
    "using MXNet"
   ]
  },
  {
   "cell_type": "code",
   "execution_count": 11,
   "metadata": {
    "collapsed": false
   },
   "outputs": [
    {
     "data": {
      "text/plain": [
       "MXNet.mx.SymbolicNode(MXNet.mx.MX_SymbolHandle(Ptr{Void} @0x000000000a2ea300))"
      ]
     },
     "execution_count": 11,
     "metadata": {},
     "output_type": "execute_result"
    }
   ],
   "source": [
    "data = mx.Variable(:data)"
   ]
  },
  {
   "cell_type": "code",
   "execution_count": 12,
   "metadata": {
    "collapsed": false
   },
   "outputs": [
    {
     "data": {
      "text/plain": [
       "MXNet.mx.SymbolicNode(MXNet.mx.MX_SymbolHandle(Ptr{Void} @0x000000000a2eec40))"
      ]
     },
     "execution_count": 12,
     "metadata": {},
     "output_type": "execute_result"
    }
   ],
   "source": [
    "fc1  = mx.FullyConnected(data = data, name=:fc1, num_hidden=128)\n",
    "act1 = mx.Activation(data = fc1, name=:relu1, act_type=:relu)\n",
    "fc2  = mx.FullyConnected(data = act1, name=:fc2, num_hidden=64)\n",
    "act2 = mx.Activation(data = fc2, name=:relu2, act_type=:relu)\n",
    "fc3  = mx.FullyConnected(data = act2, name=:fc3, num_hidden=10)"
   ]
  },
  {
   "cell_type": "code",
   "execution_count": 13,
   "metadata": {
    "collapsed": false
   },
   "outputs": [
    {
     "data": {
      "text/plain": [
       "MXNet.mx.SymbolicNode(MXNet.mx.MX_SymbolHandle(Ptr{Void} @0x000000000a18efe0))"
      ]
     },
     "execution_count": 13,
     "metadata": {},
     "output_type": "execute_result"
    }
   ],
   "source": [
    "mlp  = mx.SoftmaxOutput(data = fc3, name=:softmax)"
   ]
  },
  {
   "cell_type": "code",
   "execution_count": 14,
   "metadata": {
    "collapsed": false
   },
   "outputs": [
    {
     "data": {
      "text/plain": [
       "MXNet.mx.SymbolicNode(MXNet.mx.MX_SymbolHandle(Ptr{Void} @0x000000000a29e6f0))"
      ]
     },
     "execution_count": 14,
     "metadata": {},
     "output_type": "execute_result"
    }
   ],
   "source": [
    "mlp = @mx.chain mx.Variable(:data)             =>\n",
    "  mx.FullyConnected(name=:fc1, num_hidden=128) =>\n",
    "  mx.Activation(name=:relu1, act_type=:relu)   =>\n",
    "  mx.FullyConnected(name=:fc2, num_hidden=64)  =>\n",
    "  mx.Activation(name=:relu2, act_type=:relu)   =>\n",
    "  mx.FullyConnected(name=:fc3, num_hidden=10)  =>\n",
    "  mx.SoftmaxOutput(name=:softmax)"
   ]
  },
  {
   "cell_type": "code",
   "execution_count": 15,
   "metadata": {
    "collapsed": false
   },
   "outputs": [
    {
     "data": {
      "text/plain": [
       "(MXNet.mx.MXDataProvider(MXNet.mx.MX_DataIterHandle(Ptr{Void} @0x000000000a3e15c0),Tuple{Symbol,Tuple}[(:data,(784,100))],Tuple{Symbol,Tuple}[(:softmax_label,(100,))],100,true,true),MXNet.mx.MXDataProvider(MXNet.mx.MX_DataIterHandle(Ptr{Void} @0x000000000404d180),Tuple{Symbol,Tuple}[(:data,(784,100))],Tuple{Symbol,Tuple}[(:softmax_label,(100,))],100,true,true))"
      ]
     },
     "execution_count": 15,
     "metadata": {},
     "output_type": "execute_result"
    }
   ],
   "source": [
    "batch_size = 100\n",
    "include(Pkg.dir(\"MXNet\", \"examples\", \"mnist\", \"mnist-data.jl\"))\n",
    "train_provider, eval_provider = get_mnist_providers(batch_size)"
   ]
  },
  {
   "cell_type": "code",
   "execution_count": 16,
   "metadata": {
    "collapsed": false
   },
   "outputs": [
    {
     "data": {
      "text/plain": [
       "MXNet.mx.FeedForward(MXNet.mx.SymbolicNode(MXNet.mx.MX_SymbolHandle(Ptr{Void} @0x000000000a29e6f0)),[GPU0],#undef,#undef,#undef)"
      ]
     },
     "execution_count": 16,
     "metadata": {},
     "output_type": "execute_result"
    }
   ],
   "source": [
    "model = mx.FeedForward(mlp, context=mx.gpu())"
   ]
  },
  {
   "cell_type": "code",
   "execution_count": 17,
   "metadata": {
    "collapsed": false
   },
   "outputs": [
    {
     "data": {
      "text/plain": [
       "MXNet.mx.SGD(MXNet.mx.SGDOptions(0.1,0.9,0,1.0e-5,MXNet.mx.LearningRate.Fixed(0.1),MXNet.mx.Momentum.Fixed(0.9)),#undef)"
      ]
     },
     "execution_count": 17,
     "metadata": {},
     "output_type": "execute_result"
    }
   ],
   "source": [
    "optimizer = mx.SGD(lr=0.1, momentum=0.9, weight_decay=0.00001)"
   ]
  },
  {
   "cell_type": "code",
   "execution_count": 18,
   "metadata": {
    "collapsed": false
   },
   "outputs": [
    {
     "name": "stderr",
     "output_type": "stream",
     "text": [
      "INFO: Start training on [GPU0]\n",
      "INFO: Initializing parameters...\n",
      "INFO: Creating KVStore...\n",
      "INFO: TempSpace: Total 0 MB allocated on GPU0\n",
      "INFO: Start training...\n",
      "INFO: == Epoch 001 ==========\n",
      "INFO: ## Training summary\n",
      "INFO:           accuracy = 0.7612\n",
      "INFO:               time = 1.2484 seconds\n",
      "INFO: ## Validation summary\n",
      "INFO:           accuracy = 0.9517\n",
      "INFO: == Epoch 002 ==========\n",
      "INFO: ## Training summary\n",
      "INFO:           accuracy = 0.9570\n",
      "INFO:               time = 1.4973 seconds\n",
      "INFO: ## Validation summary\n",
      "INFO:           accuracy = 0.9632\n",
      "INFO: == Epoch 003 ==========\n",
      "INFO: ## Training summary\n",
      "INFO:           accuracy = 0.9721\n",
      "INFO:               time = 1.4886 seconds\n",
      "INFO: ## Validation summary\n",
      "INFO:           accuracy = 0.9671\n",
      "INFO: == Epoch 004 ==========\n",
      "INFO: ## Training summary\n",
      "INFO:           accuracy = 0.9788\n",
      "INFO:               time = 1.4797 seconds\n",
      "INFO: ## Validation summary\n",
      "INFO:           accuracy = 0.9710\n",
      "INFO: == Epoch 005 ==========\n",
      "INFO: ## Training summary\n",
      "INFO:           accuracy = 0.9829\n",
      "INFO:               time = 1.4705 seconds\n",
      "INFO: ## Validation summary\n",
      "INFO:           accuracy = 0.9733\n",
      "INFO: == Epoch 006 ==========\n",
      "INFO: ## Training summary\n",
      "INFO:           accuracy = 0.9851\n",
      "INFO:               time = 1.4822 seconds\n",
      "INFO: ## Validation summary\n",
      "INFO:           accuracy = 0.9733\n",
      "INFO: == Epoch 007 ==========\n",
      "INFO: ## Training summary\n",
      "INFO:           accuracy = 0.9869\n",
      "INFO:               time = 1.4025 seconds\n",
      "INFO: ## Validation summary\n",
      "INFO:           accuracy = 0.9748\n",
      "INFO: == Epoch 008 ==========\n",
      "INFO: ## Training summary\n",
      "INFO:           accuracy = 0.9887\n",
      "INFO:               time = 1.4173 seconds\n",
      "INFO: ## Validation summary\n",
      "INFO:           accuracy = 0.9757\n",
      "INFO: == Epoch 009 ==========\n",
      "INFO: ## Training summary\n",
      "INFO:           accuracy = 0.9890\n",
      "INFO:               time = 1.3314 seconds\n",
      "INFO: ## Validation summary\n",
      "INFO:           accuracy = 0.9769\n",
      "INFO: == Epoch 010 ==========\n",
      "INFO: ## Training summary\n",
      "INFO:           accuracy = 0.9913\n",
      "INFO:               time = 1.3522 seconds\n",
      "INFO: ## Validation summary\n",
      "INFO:           accuracy = 0.9773\n",
      "INFO: == Epoch 011 ==========\n",
      "INFO: ## Training summary\n",
      "INFO:           accuracy = 0.9908\n",
      "INFO:               time = 1.1862 seconds\n",
      "INFO: ## Validation summary\n",
      "INFO:           accuracy = 0.9774\n",
      "INFO: == Epoch 012 ==========\n",
      "INFO: ## Training summary\n",
      "INFO:           accuracy = 0.9914\n",
      "INFO:               time = 1.3579 seconds\n",
      "INFO: ## Validation summary\n",
      "INFO:           accuracy = 0.9777\n",
      "INFO: == Epoch 013 ==========\n",
      "INFO: ## Training summary\n",
      "INFO:           accuracy = 0.9933\n",
      "INFO:               time = 1.3271 seconds\n",
      "INFO: ## Validation summary\n",
      "INFO:           accuracy = 0.9740\n",
      "INFO: == Epoch 014 ==========\n",
      "INFO: ## Training summary\n",
      "INFO:           accuracy = 0.9938\n",
      "INFO:               time = 1.3669 seconds\n",
      "INFO: ## Validation summary\n",
      "INFO:           accuracy = 0.9709\n",
      "INFO: == Epoch 015 ==========\n",
      "INFO: ## Training summary\n",
      "INFO:           accuracy = 0.9938\n",
      "INFO:               time = 1.5745 seconds\n",
      "INFO: ## Validation summary\n",
      "INFO:           accuracy = 0.9739\n",
      "INFO: == Epoch 016 ==========\n",
      "INFO: ## Training summary\n",
      "INFO:           accuracy = 0.9934\n",
      "INFO:               time = 1.3012 seconds\n",
      "INFO: ## Validation summary\n",
      "INFO:           accuracy = 0.9738\n",
      "INFO: == Epoch 017 ==========\n",
      "INFO: ## Training summary\n",
      "INFO:           accuracy = 0.9927\n",
      "INFO:               time = 1.4690 seconds\n",
      "INFO: ## Validation summary\n",
      "INFO:           accuracy = 0.9772\n",
      "INFO: == Epoch 018 ==========\n",
      "INFO: ## Training summary\n",
      "INFO:           accuracy = 0.9935\n",
      "INFO:               time = 1.4406 seconds\n",
      "INFO: ## Validation summary\n",
      "INFO:           accuracy = 0.9738\n",
      "INFO: == Epoch 019 ==========\n",
      "INFO: ## Training summary\n",
      "INFO:           accuracy = 0.9934\n",
      "INFO:               time = 1.4632 seconds\n",
      "INFO: ## Validation summary\n",
      "INFO:           accuracy = 0.9776\n",
      "INFO: == Epoch 020 ==========\n",
      "INFO: ## Training summary\n",
      "INFO:           accuracy = 0.9955\n",
      "INFO:               time = 1.3547 seconds\n",
      "INFO: ## Validation summary\n",
      "INFO:           accuracy = 0.9764\n"
     ]
    },
    {
     "name": "stdout",
     "output_type": "stream",
     "text": [
      " 30.183343 seconds (25.61 M allocations: 785.703 MB, 3.29% gc time)\n"
     ]
    }
   ],
   "source": [
    "@time mx.fit(model, optimizer, train_provider, n_epoch=20, eval_data=eval_provider)\n"
   ]
  },
  {
   "cell_type": "code",
   "execution_count": 12,
   "metadata": {
    "collapsed": false
   },
   "outputs": [
    {
     "data": {
      "text/plain": [
       "10x10000 Array{Float32,2}:\n",
       " 5.79763e-13  8.34022e-22  1.0123e-11   …  2.20957e-17  1.18963e-17\n",
       " 1.54726e-8   1.46249e-11  0.999997        7.51705e-23  2.22471e-24\n",
       " 3.26623e-11  1.0          2.08448e-8      7.72174e-25  2.41204e-23\n",
       " 3.57994e-10  1.76444e-18  2.36883e-11     3.47416e-17  1.87433e-28\n",
       " 3.50414e-10  1.37008e-22  2.97204e-7      6.7937e-31   1.13583e-18\n",
       " 4.16315e-12  3.84812e-19  4.02902e-9   …  1.0          2.60441e-19\n",
       " 5.68832e-15  3.49655e-19  3.95294e-9      5.0934e-15   1.0        \n",
       " 1.0          1.36276e-13  5.80916e-7      2.25628e-20  9.75627e-33\n",
       " 2.91113e-13  6.68736e-22  2.39233e-6      3.49587e-13  3.3515e-20 \n",
       " 4.67181e-7   6.65774e-28  3.33547e-9      7.99229e-20  1.18165e-19"
      ]
     },
     "execution_count": 12,
     "metadata": {},
     "output_type": "execute_result"
    }
   ],
   "source": [
    "probs = mx.predict(model, eval_provider)"
   ]
  },
  {
   "cell_type": "code",
   "execution_count": 14,
   "metadata": {
    "collapsed": false
   },
   "outputs": [
    {
     "data": {
      "text/plain": [
       "10000-element Array{Float32,1}:\n",
       " 7.0\n",
       " 2.0\n",
       " 1.0\n",
       " 0.0\n",
       " 4.0\n",
       " 1.0\n",
       " 4.0\n",
       " 9.0\n",
       " 5.0\n",
       " 9.0\n",
       " 0.0\n",
       " 6.0\n",
       " 9.0\n",
       " ⋮  \n",
       " 5.0\n",
       " 6.0\n",
       " 7.0\n",
       " 8.0\n",
       " 9.0\n",
       " 0.0\n",
       " 1.0\n",
       " 2.0\n",
       " 3.0\n",
       " 4.0\n",
       " 5.0\n",
       " 6.0"
      ]
     },
     "execution_count": 14,
     "metadata": {},
     "output_type": "execute_result"
    }
   ],
   "source": [
    "# collect all labels from eval data\n",
    "labels = Array[]\n",
    "for batch in eval_provider\n",
    "    push!(labels, copy(mx.get(eval_provider, batch, :softmax_label)))\n",
    "end\n",
    "labels = cat(1, labels...)\n"
   ]
  },
  {
   "cell_type": "code",
   "execution_count": 15,
   "metadata": {
    "collapsed": false
   },
   "outputs": [
    {
     "name": "stdout",
     "output_type": "stream",
     "text": [
      "Accuracy on eval set: 97.60%\n"
     ]
    }
   ],
   "source": [
    "# Now we use compute the accuracy\n",
    "correct = 0\n",
    "for i = 1:length(labels)\n",
    "    # labels are 0...9\n",
    "    if indmax(probs[:,i]) == labels[i]+1\n",
    "        correct += 1\n",
    "    end\n",
    "end\n",
    "accuracy = 100correct/length(labels)\n",
    "println(mx.format(\"Accuracy on eval set: {1:.2f}%\", accuracy))"
   ]
  },
  {
   "cell_type": "code",
   "execution_count": null,
   "metadata": {
    "collapsed": true
   },
   "outputs": [],
   "source": []
  }
 ],
 "metadata": {
  "kernelspec": {
   "display_name": "Julia 0.4.5",
   "language": "julia",
   "name": "julia-0.4"
  },
  "language_info": {
   "file_extension": ".jl",
   "mimetype": "application/julia",
   "name": "julia",
   "version": "0.4.5"
  }
 },
 "nbformat": 4,
 "nbformat_minor": 0
}
